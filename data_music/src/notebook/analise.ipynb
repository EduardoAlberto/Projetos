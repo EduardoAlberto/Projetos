{
 "cells": [
  {
   "cell_type": "code",
   "execution_count": 1,
   "metadata": {},
   "outputs": [
    {
     "name": "stderr",
     "output_type": "stream",
     "text": [
      "24/10/15 21:58:32 WARN Utils: Your hostname, MacBook-Pro-de-Eduardo.local resolves to a loopback address: 127.0.0.1; using 192.168.3.149 instead (on interface en0)\n",
      "24/10/15 21:58:32 WARN Utils: Set SPARK_LOCAL_IP if you need to bind to another address\n",
      "Setting default log level to \"WARN\".\n",
      "To adjust logging level use sc.setLogLevel(newLevel). For SparkR, use setLogLevel(newLevel).\n",
      "24/10/15 21:58:32 WARN NativeCodeLoader: Unable to load native-hadoop library for your platform... using builtin-java classes where applicable\n"
     ]
    },
    {
     "data": {
      "text/html": [
       "\n",
       "            <div>\n",
       "                <p><b>SparkSession - in-memory</b></p>\n",
       "                \n",
       "        <div>\n",
       "            <p><b>SparkContext</b></p>\n",
       "\n",
       "            <p><a href=\"http://192.168.3.149:4040\">Spark UI</a></p>\n",
       "\n",
       "            <dl>\n",
       "              <dt>Version</dt>\n",
       "                <dd><code>v3.5.3</code></dd>\n",
       "              <dt>Master</dt>\n",
       "                <dd><code>local[1]</code></dd>\n",
       "              <dt>AppName</dt>\n",
       "                <dd><code>Music</code></dd>\n",
       "            </dl>\n",
       "        </div>\n",
       "        \n",
       "            </div>\n",
       "        "
      ],
      "text/plain": [
       "<pyspark.sql.session.SparkSession at 0x10a0fbe00>"
      ]
     },
     "execution_count": 1,
     "metadata": {},
     "output_type": "execute_result"
    }
   ],
   "source": [
    "from pyspark.sql import SparkSession,Row,DataFrame\n",
    "from pyspark.sql.functions import *\n",
    "from pyspark.sql.types import *\n",
    "from pyspark.sql.window import Window\n",
    "\n",
    "\n",
    "\n",
    "# Create SparkSession\n",
    "spark=SparkSession.builder.master(\"local[1]\")\\\n",
    "        .appName(\"Music\")\\\n",
    "        .config(\"spark.driver.extraClassPath\",\"/Users/eduardoalberto/opt/spark/jars/mysql-connector-j-8.2.0.jar\" ) \\\n",
    "        .getOrCreate()\n",
    "sc = spark.sparkContext\n",
    "spark.sparkContext.setLogLevel(\"OFF\") \n",
    "# print('PySpark Version :'+spark.version)\n",
    "# print('PySpark Version :'+spark.sparkContext.version)\n",
    "\n",
    "spark"
   ]
  },
  {
   "cell_type": "markdown",
   "metadata": {},
   "source": [
    "### MUSIC"
   ]
  },
  {
   "cell_type": "code",
   "execution_count": 2,
   "metadata": {},
   "outputs": [
    {
     "name": "stdout",
     "output_type": "stream",
     "text": [
      "+------------+--------------------+------------+------+-----------+--------+--------------------+----------------+---+--------+--------+----+--------------------+----------+------------+-----------+-------+-------+----+-------------+-----+\n",
      "|acousticness|             artists|danceability|energy|duration_ms|explicit|                  id|instrumentalness|key|liveness|loudness|mode|                name|popularity|release_date|speechiness|  tempo|valence|year|dat_ref_carga|rowid|\n",
      "+------------+--------------------+------------+------+-----------+--------+--------------------+----------------+---+--------+--------+----+--------------------+----------+------------+-----------+-------+-------+----+-------------+-----+\n",
      "|        1.00|   Carl Woitschach  |        0.71|  0.20|     158648|       0|6KbQ3uYMLKb5jDxLF...|            0.56| 10|   0.151| -12.428|   1|Singende Bataillo...|         0|  1990-01-10|       0.05|118.469|   0.78|1928|   2024-10-15|    0|\n",
      "|        0.99|  Robert Schumann...|        0.38|  0.01|     282133|       0|6KuQTIu1KoTTkLXKr...|            0.90|  8|   0.076| -28.454|   1|Fantasiestücke, O...|         0|  1990-01-10|       0.05| 83.972|   0.08|1928|   2024-10-15|    1|\n",
      "|        0.60|  Seweryn Goszczy...|        0.75|  0.22|     104300|       0|6L63VW0PibdM1HDSB...|            0.00|  5|   0.119| -19.924|   0|Chapter 1.18 - Za...|         0|  1990-01-10|       0.93|107.177|   0.88|1928|   2024-10-15|    2|\n",
      "|        1.00|  Francisco Canaro  |        0.78|  0.13|     180760|       0|6M94FkXd15sOAOQYR...|            0.89|  1|   0.111| -14.734|   0|Bebamos Juntos - ...|         0|  1928-09-25|       0.09|108.003|   0.72|1928|   2024-10-15|    3|\n",
      "|        0.99|  Fr d ric Chopin...|        0.21|  0.20|     687733|       0|6N6tiFZ9vLTSOIxkj...|            0.91| 11|   0.098| -16.829|   1|Polonaise-Fantais...|         1|  1990-01-10|       0.04| 62.149|   0.07|1928|   2024-10-15|    4|\n",
      "|        1.00|  Felix Mendelsso...|        0.42|  0.12|     352600|       0|6NxAf7M8DNHOBTmEd...|            0.91|  6|   0.092| -19.242|   0|Scherzo a capricc...|         0|  1990-01-10|       0.06| 63.521|   0.27|1928|   2024-10-15|    5|\n",
      "|        0.96|  Franz Liszt    ...|        0.44|  0.20|     136627|       0|6O0puPuyrxPjDTHDU...|            0.44| 11|   0.074| -17.226|   1|Valse oubliée No....|         0|  1990-01-10|       0.04| 80.495|   0.31|1928|   2024-10-15|    6|\n",
      "|        0.99|   Carl Woitschach  |        0.56|  0.42|     153967|       0|6OJjveoYwJdIt76y0...|            0.84|  1|   0.105|  -9.878|   1| Per aspera ad astra|         0|  1990-01-10|       0.05|123.310|   0.86|1928|   2024-10-15|    7|\n",
      "|        1.00|  Francisco Canar...|        0.68|  0.21|     162493|       0|6OaJ8Bh7lsBeYoBmw...|            0.21|  9|   0.337|  -9.801|   0|Moneda Corriente ...|         0|  1928-10-03|       0.13|119.833|   0.49|1928|   2024-10-15|    8|\n",
      "|        0.85|  Seweryn Goszczy...|        0.67|  0.21|     111600|       0|6PrZexNb16cabXR8Q...|            0.00|  9|   0.170| -20.119|   1|Chapter 1.3 - Zam...|         0|  1990-01-10|       0.95| 81.249|   0.76|1928|   2024-10-15|    9|\n",
      "|        0.99|  Sergei Rachmani...|        0.38|  0.07|     590293|       0|6QBInZBkQNIQYU9gG...|            0.88| 10|   0.196| -21.849|   0|Piano Sonata No. ...|         0|  1990-01-10|       0.04|141.390|   0.04|1928|   2024-10-15|   10|\n",
      "|        0.99|  Fr d ric Chopin...|        0.17|  0.08|      85133|       0|6QIONtzbQCbnmWNwn...|            0.91| 10|   0.096| -30.107|   0|Piano Sonata No. ...|         1|  1990-01-10|       0.03| 85.989|   0.35|1928|   2024-10-15|   11|\n",
      "|        0.99|  Samuel Barber  ...|        0.36|  0.04|     338333|       0|6QgdUySTRGVkNo3Kw...|            0.90|  7|   0.109| -20.858|   1|Piano Sonata in E...|         0|  1990-01-10|       0.04| 96.645|   0.04|1928|   2024-10-15|   12|\n",
      "|        0.99|  Robert Schumann...|        0.31|  0.01|     167333|       0|6RvSNoCPBZeTR2LyG...|            0.88|  5|   0.095| -35.648|   1|Nachtstücke, Op. ...|         0|  1990-01-10|       0.06| 78.980|   0.22|1928|   2024-10-15|   13|\n",
      "|        0.98|  Ludwig van Beet...|        0.34|  0.11|     276563|       0|6Rwn56jcC0TdGQzbR...|            0.84|  5|   0.231| -16.049|   0|Symphony No. 5 in...|         0|  1928-01-01|       0.07| 80.204|   0.41|1928|   2024-10-15|   14|\n",
      "|        0.99|  George Butterwo...|        0.32|  0.01|     184840|       0|6Sdpmree8xpGWaedA...|            0.00|  7|   0.069| -25.789|   0|A Shropshire Lad:...|         0|  1990-01-10|       0.05| 79.831|   0.17|1928|   2024-10-15|   15|\n",
      "|        1.00|  Alexander Scria...|        0.32|  0.16|     326067|       0|6T0mZB7p3qzOifdXZ...|            0.92|  4|   0.126| -18.728|   1|Sonata No. 3, Op....|         0|  1990-01-10|       0.04| 66.947|   0.05|1928|   2024-10-15|   16|\n",
      "|        0.99|  Francisco Canar...|        0.79|  0.16|     167107|       0|6TFuAErGpJ9FpxQQ1...|            0.66|  4|   0.110| -14.056|   0|Invocación al Tan...|         0|  1928-09-16|       0.16|117.167|   0.85|1928|   2024-10-15|   17|\n",
      "|        0.99|  Thomas Arne    ...|        0.57|  0.15|     122533|       0|6UUfiNT82MWBNnmsE...|            0.00|  5|   0.106| -15.238|   1| Where the Bee Sucks|         0|  1990-01-10|       0.05| 76.930|   0.60|1928|   2024-10-15|   18|\n",
      "|        0.99|  Francisco Canaro  |        0.76|  0.13|     173707|       0|6Ukl7n0q3Cjd0Og8u...|            0.07|  4|   0.112| -13.002|   1|Tendrás Que Llora...|         0|  1928-09-17|       0.09|111.679|   0.83|1928|   2024-10-15|   19|\n",
      "+------------+--------------------+------------+------+-----------+--------+--------------------+----------------+---+--------+--------+----+--------------------+----------+------------+-----------+-------+-------+----+-------------+-----+\n",
      "only showing top 20 rows\n",
      "\n"
     ]
    }
   ],
   "source": [
    "\n",
    "df_music = spark.read.option(\"header\", \"true\").option('inferSchema', 'true').csv('/Users/eduardoalberto/LoadFile/archive/data.csv')\n",
    "df_music = df_music.selectExpr(\"cast(acousticness as decimal(3,2)) as acousticness\",\n",
    "                               \"regexp_replace(trim(artists),'[^a-zA-Z0-9]',' ') as artists\",\n",
    "                               \"cast(danceability as decimal(3,2)) as danceability \",\n",
    "                               \"cast(energy as decimal(3,2)) as energy\",\n",
    "                               \"duration_ms\",\n",
    "                               \"explicit\",\n",
    "                               \"id\",\n",
    "                               \"cast(instrumentalness as decimal(3,2) ) as instrumentalness\",\n",
    "                               \"key\",\n",
    "                               \"cast (liveness as decimal(19,3) ) as liveness\",\n",
    "                               \"cast(loudness as decimal(19,3)) as loudness\",\n",
    "                               \"mode\",\n",
    "                               \"name\",\n",
    "                               \"popularity\",\n",
    "                               \"\"\" case when len(trim(release_date))<> 10 then '1990-01-10' else release_date\n",
    "                                    end as release_date\n",
    "                               \"\"\",\n",
    "                               \"cast(speechiness as decimal(5,2)) as speechiness\",\n",
    "                               \"cast(tempo as decimal(19,3)) as tempo\",\n",
    "                               \"cast(valence as decimal(3,2)) as valence\",\n",
    "                               \"year\",\n",
    "                               \"current_date() as dat_ref_carga\"\n",
    "                               )\\\n",
    "                   .withColumn('release_date',expr(\"case when release_date = 'Whipped into Shape' then '1990-01-10' else release_date end\"))\\\n",
    "                   .withColumn('danceability', expr(\" case when trim(regexp_replace(danceability,'[^a-zA-Z0-9]',' ')) = 'Michael Rupert' then 0 else danceability end  \"))\\\n",
    "                   .withColumn(\"rowid\", monotonically_increasing_id()) \n",
    "\n",
    "#df_music.filter(\"release_date = 'Whipped into Shape'\").show(300,False)\n",
    "df_music.show()"
   ]
  },
  {
   "cell_type": "markdown",
   "metadata": {},
   "source": [
    "### tracks"
   ]
  },
  {
   "cell_type": "code",
   "execution_count": 3,
   "metadata": {},
   "outputs": [
    {
     "name": "stderr",
     "output_type": "stream",
     "text": [
      "[Stage 4:>                                                          (0 + 1) / 1]\r"
     ]
    },
    {
     "name": "stdout",
     "output_type": "stream",
     "text": [
      "+--------------------+--------------------+----------+-----------+--------+-------+----------+------------+------------+------+---+--------+----+--------+----+-----------+------------+----------------+--------+-------+-------+--------------+\n",
      "|                  id|                name|popularity|duration_ms|explicit|artists|id_artists|release_date|danceability|energy|key|loudness|mode|loudness|mode|speechiness|acousticness|instrumentalness|liveness|valence|  tempo|time_signature|\n",
      "+--------------------+--------------------+----------+-----------+--------+-------+----------+------------+------------+------+---+--------+----+--------+----+-----------+------------+----------------+--------+-------+-------+--------------+\n",
      "|35iwgR4jXetI318WE...|               Carve|         6|     126903|       0|artists|id artists|  1922-02-22|       0.645| 0.445|  0| -13.338|   1| -13.338|   1|      0.451|       0.674|           0.744|   0.151|  0.127|104.851|             3|\n",
      "|021ht4sdgPcrDgSk7...|Capítulo 2.16 - B...|         0|      98200|       0|artists|id artists|  1922-06-01|       0.695| 0.263|  0| -22.136|   1| -22.136|   1|      0.957|       0.797|             0.0|   0.148|  0.655|102.009|             1|\n",
      "|07A5yehtSnoedViJA...|Vivo para Querert...|         0|     181640|       0|artists|id artists|  1922-03-21|       0.434| 0.177|  1|  -21.18|   1|  -21.18|   1|     0.0512|       0.994|          0.0218|   0.212|  0.457|130.418|             5|\n",
      "|08FmqUhxtyLTn6pAh...|El Prisionero - R...|         0|     176907|       0|artists|id artists|  1922-03-21|       0.321|0.0946|  7| -27.961|   1| -27.961|   1|     0.0504|       0.995|           0.918|   0.104|  0.397| 169.98|             3|\n",
      "|08y9GfoqCWfOGsKdw...| Lady of the Evening|         0|     163080|       0|artists|id artists|  1922-01-01|       0.402| 0.158|  3|   -16.9|   0|   -16.9|   0|      0.039|       0.989|            0.13|   0.311|  0.196| 103.22|             4|\n",
      "|0BRXJHRNGQ3W4v9fr...|           Ave Maria|         0|     178933|       0|artists|id artists|  1922-01-01|       0.227| 0.261|  5| -12.343|   1| -12.343|   1|     0.0382|       0.994|           0.247|  0.0977| 0.0539|118.891|             4|\n",
      "|0Dd9ImXtAtGwsmsAD...|      La Butte Rouge|         0|     134467|       0|artists|id artists|  1922-01-01|        0.51| 0.355|  4| -12.833|   1| -12.833|   1|      0.124|       0.965|             0.0|   0.155|  0.727| 85.754|             5|\n",
      "|0IA0Hju8CAgYfV1hw...|             La Java|         0|     161427|       0|artists|id artists|  1922-01-01|       0.563| 0.184|  4| -13.757|   1| -13.757|   1|     0.0512|       0.993|        1.55e-05|   0.325|  0.654|133.088|             3|\n",
      "|0IgI1UCz84pYeVetn...|  Old Fashioned Girl|         0|     310073|       0|artists|id artists|  1922-01-01|       0.488| 0.475|  0| -16.222|   0| -16.222|   0|     0.0399|        0.62|         0.00645|   0.107|  0.544|139.952|             4|\n",
      "|0JV4iqw2lSKJaHBQZ...|Martín Fierro - R...|         0|     181173|       0|artists|id artists|  1922-03-29|       0.548|0.0391|  6| -23.228|   1| -23.228|   1|      0.153|       0.996|           0.933|   0.148|  0.612| 75.595|             3|\n",
      "|0OYGe21oScKJfanLy...|Capítulo 2.8 - Ba...|         0|      99100|       0|artists|id artists|  1922-06-01|       0.676| 0.235| 11| -22.447|   0| -22.447|   0|       0.96|       0.794|             0.0|    0.21|  0.724| 96.777|             3|\n",
      "|0PE42H6tslQuyMMiG...|Capítulo 2.25 - B...|         0|     132700|       0|artists|id artists|  1922-06-01|        0.75| 0.229|  2| -22.077|   1| -22.077|   1|      0.955|       0.578|             0.0|   0.314|  0.531|102.629|             3|\n",
      "|0PH9AACae1f957JAa...|            Lazy Boi|         0|     157333|       0|artists|id artists|  1922-02-22|       0.298|  0.46|  1| -18.645|   1| -18.645|   1|      0.453|       0.521|           0.856|   0.436|  0.402| 87.921|             4|\n",
      "|0QiT0Oo5QdLXdFw6R...|Tu Verras Montmartre|         1|     186800|       0|artists|id artists|  1922-01-01|       0.703|  0.28|  0|  -15.39|   1|  -15.39|   1|      0.174|       0.995|        6.84e-05|   0.163|  0.897|127.531|             4|\n",
      "|0TWsNj5iSvbMTtbED...|Elle Prend L'boul...|         0|     172027|       0|artists|id artists|  1922-01-01|       0.709| 0.289|  2| -14.978|   1| -14.978|   1|       0.18|       0.967|             0.0|   0.119|   0.84|107.515|             4|\n",
      "|0cC9CYjLRIzwchQ42...|Capítulo 1.23 - B...|         0|      96600|       0|artists|id artists|  1922-06-01|       0.687| 0.198|  4| -24.264|   0| -24.264|   0|      0.962|       0.754|             0.0|   0.197|  0.478| 78.453|             1|\n",
      "|0eb1PfHxT6HnXvvdU...|Capítulo 1.18 - B...|         0|     103200|       0|artists|id artists|  1922-06-01|         0.8| 0.171|  8| -24.384|   1| -24.384|   1|      0.953|        0.67|             0.0|   0.123|  0.693| 59.613|             3|\n",
      "|0grXU6GKVNCVMJbse...|Capítulo 1.10 - B...|         0|      95800|       0|artists|id artists|  1922-06-01|         0.7| 0.208|  2| -23.874|   1| -23.874|   1|      0.956|       0.691|             0.0|   0.441|  0.613| 85.739|             1|\n",
      "|0kCB1bDVBC8gWCFcn...|  Ca C'est Une Chose|         0|     188000|       0|artists|id artists|  1922-01-01|       0.352| 0.334|  5| -13.038|   1| -13.038|   1|     0.0594|       0.996|         0.00746|    0.36|  0.414| 76.403|             4|\n",
      "|0l3BQsVJ7F76wlN5Q...|El Vendaval - Rem...|         0|     153533|       0|artists|id artists|  1922-03-21|        0.37| 0.372|  2| -17.138|   1| -17.138|   1|     0.0865|       0.985|        0.000681|   0.929|  0.753|159.669|             4|\n",
      "+--------------------+--------------------+----------+-----------+--------+-------+----------+------------+------------+------+---+--------+----+--------+----+-----------+------------+----------------+--------+-------+-------+--------------+\n",
      "only showing top 20 rows\n",
      "\n"
     ]
    },
    {
     "name": "stderr",
     "output_type": "stream",
     "text": [
      "                                                                                \r"
     ]
    }
   ],
   "source": [
    "tracks = spark.read.option(\"header\", \"true\").option('inferSchema', 'true').csv('/Users/eduardoalberto/LoadFile/archive/tracks.csv')\n",
    "\n",
    "df_tracks = tracks.selectExpr(\"id\"\n",
    "                             ,\"name\"\n",
    "                             ,\"popularity\"\n",
    "                             ,\"duration_ms\"\n",
    "                             ,\"explicit\"\n",
    "                             ,\"regexp_replace('artists','[^a-zA-Z0-9]',' ') as artists \"\n",
    "                             ,\"regexp_replace('id_artists','[^a-zA-Z0-9]',' ') as id_artists\"\n",
    "                             ,\"case when len(trim(release_date)) <> 10  then '1922-01-01' else release_date end as release_date\"\n",
    "                             ,\"danceability\"\n",
    "                             ,\"energy\"\n",
    "                             ,\"key\"\n",
    "                             ,\"loudness\"\n",
    "                             ,\"mode\"\n",
    "                             ,\"loudness\"\n",
    "                             ,\"mode\"\n",
    "                             ,\"speechiness\"\n",
    "                             ,\"acousticness\"\n",
    "                             ,\"instrumentalness\"\n",
    "                             ,\"liveness\"\n",
    "                             ,\"valence\"\n",
    "                             ,\"tempo\"\n",
    "                             ,\"time_signature\")\n",
    "df_tracks.show()"
   ]
  },
  {
   "cell_type": "markdown",
   "metadata": {},
   "source": [
    "### GENRES"
   ]
  },
  {
   "cell_type": "code",
   "execution_count": 4,
   "metadata": {},
   "outputs": [],
   "source": [
    "genres = spark.read.option(\"header\", \"true\").option('inferSchema', 'true').csv('/Users/eduardoalberto/LoadFile/archive/genres_v2.csv')\n",
    "genres = genres.selectExpr(\"cast(acousticness as decimal(3,2)) as acousticness\",\n",
    "                  \"cast(energy as decimal(3,2)) as energy\",\n",
    "                  \"key\",\n",
    "                  \"cast(loudness as decimal(3,2)) as loudness\",\n",
    "                  \"mode\",\n",
    "                  \"cast(speechiness as decimal(5,2)) as speechiness\",\n",
    "                  \"cast(acousticness as decimal(3,2)) as acousticness\",\n",
    "                  \"cast(instrumentalness as decimal(3,2) ) as instrumentalness\",\n",
    "                  \"cast (liveness as decimal(3,2) ) as liveness\",\n",
    "                  \"cast(valence as decimal(3,2)) as valence\",\n",
    "                  \"cast(tempo as decimal(19,3)) as tempo\",\n",
    "                  \"type\",\n",
    "                  \"id\",\n",
    "                  \"uri\",\n",
    "                  \"track_href\",\n",
    "                  \"analysis_url\",\n",
    "                  \"duration_ms\",\n",
    "                  \"time_signature\",\n",
    "                  \"genre\",\n",
    "                  \"song_name\",\n",
    "                  \"title\",\n",
    "                  \"current_date() as dat_ref_carga\")\\\n",
    "        .withColumn(\"rowid\", monotonically_increasing_id())"
   ]
  },
  {
   "cell_type": "markdown",
   "metadata": {},
   "source": [
    "### artists"
   ]
  },
  {
   "cell_type": "code",
   "execution_count": 11,
   "metadata": {},
   "outputs": [
    {
     "ename": "SyntaxError",
     "evalue": "invalid syntax (1530669601.py, line 2)",
     "output_type": "error",
     "traceback": [
      "\u001b[0;36m  Cell \u001b[0;32mIn[11], line 2\u001b[0;36m\u001b[0m\n\u001b[0;31m    from pyspark.sql.functions as F\u001b[0m\n\u001b[0m                               ^\u001b[0m\n\u001b[0;31mSyntaxError\u001b[0m\u001b[0;31m:\u001b[0m invalid syntax\n"
     ]
    }
   ],
   "source": [
    "from pyspark.sql import SparkSession,Row,DataFrame\n",
    "from pyspark.sql.functions as F\n",
    "\n",
    "artists = spark.read.option(\"header\", \"true\").option('inferSchema', 'true').csv('/Users/eduardoalberto/LoadFile/archive/artists.csv')\n",
    "artists = artists.select(\"id\",\"followers\",F.expr(\"regexp_replace(genres,'[^a-zA-Z0-9]',' ') as genres\"),\"name\",\"popularity\")\n",
    "artists = artists.withColumn(\"rank\",F.expr(\"rank() over (partition by name order by name)\"))\n",
    "artists = artists.withColumn(\"row\",F.expr(\"row_number() over (partition by name order by name)\"))\n",
    "artists = artists.withColumn(\"dt_hoje\",F.expr(\"cast(date_format(current_date(), 'yyyyMMdd') as int)\"))\n",
    "artists = artists.withColumn(\"dt_adesao\",F.expr(\"cast(date_format(current_date()-3, 'yyyyMMdd')as int)\"))\n",
    "\n",
    "# artistts = artists.filter(\"dt_adesao < dt_hoje\")\n",
    "\n",
    "artists.toPandas()\n"
   ]
  },
  {
   "cell_type": "code",
   "execution_count": null,
   "metadata": {},
   "outputs": [],
   "source": []
  },
  {
   "cell_type": "code",
   "execution_count": 12,
   "metadata": {},
   "outputs": [
    {
     "name": "stdout",
     "output_type": "stream",
     "text": [
      "+----------------------+---------+----+\n",
      "|Playlist              |Genre    |rank|\n",
      "+----------------------+---------+----+\n",
      "|19WuHd4MxWLzE1fpMmw4S4|Dark Trap|1   |\n",
      "|6XyR8uzgkSoDzHuOxxRtLH|Dark Trap|1   |\n",
      "|37Ij3ofyhvEhFEH8YZMZ2X|Dark Trap|1   |\n",
      "|07zTlfPpsxeoWdumbkNWMI|Dark Trap|1   |\n",
      "|2dClSRLsnptdkDQnpi5H2f|Dark Trap|1   |\n",
      "|37i9dQZF1DX9wa6XirBPv8|Emo      |6   |\n",
      "|6fmhLqO9CCMtOrJUeWasGO|Emo      |6   |\n",
      "|7rxc8Bm5Gu8qbyJgH5ch2P|Emo      |6   |\n",
      "|3Q97mNoNLZ4RyV9Css4zov|Emo      |6   |\n",
      "|3vwjBackAZ0Rl9hueMkOwp|Emo      |6   |\n",
      "|4zkArpBVbsHfR3JT4JW8Yc|Emo      |6   |\n",
      "|4EH4sHWLCg1e3Et80vBQIP|Emo      |6   |\n",
      "|5e8YeGZVploxholeRseSlR|Emo      |6   |\n",
      "|5gs5kjYA88hfTx6X0KPdMo|Emo      |6   |\n",
      "|7oe9PHYHNshF3oc3X0IIdy|Hiphop   |15  |\n",
      "|1yiWwn8un5C1rIU77xdyQK|Hiphop   |15  |\n",
      "|5byHCIUlXXjC62OTozi9Pb|Hiphop   |15  |\n",
      "|3kxoamqBUb1k1uCvigVIJm|Hiphop   |15  |\n",
      "|7jIWDTkV4dMkY4qg880NCZ|Hiphop   |15  |\n",
      "|6mtYuOxzl58vSGnEDtZ9uB|Pop      |20  |\n",
      "+----------------------+---------+----+\n",
      "only showing top 20 rows\n",
      "\n"
     ]
    }
   ],
   "source": [
    "playlists = spark.read.option(\"header\", \"true\").option('inferSchema', 'true').csv('/Users/eduardoalberto/LoadFile/archive/playlists.csv')\n",
    "playlists = playlists.withColumn(\"rank\",expr(\"rank() over (order by Genre)\"))\n",
    "playlists.show(truncate=False)\n"
   ]
  }
 ],
 "metadata": {
  "kernelspec": {
   "display_name": "Python 3",
   "language": "python",
   "name": "python3"
  },
  "language_info": {
   "codemirror_mode": {
    "name": "ipython",
    "version": 3
   },
   "file_extension": ".py",
   "mimetype": "text/x-python",
   "name": "python",
   "nbconvert_exporter": "python",
   "pygments_lexer": "ipython3",
   "version": "3.12.7"
  }
 },
 "nbformat": 4,
 "nbformat_minor": 2
}
