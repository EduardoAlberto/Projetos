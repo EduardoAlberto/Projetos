{
 "cells": [
  {
   "cell_type": "code",
   "execution_count": 2,
   "metadata": {},
   "outputs": [
    {
     "name": "stderr",
     "output_type": "stream",
     "text": [
      "24/05/05 22:02:57 WARN Utils: Your hostname, Eduardos-MacBook-Pro.local resolves to a loopback address: 127.0.0.1; using 192.168.3.5 instead (on interface en0)\n",
      "24/05/05 22:02:57 WARN Utils: Set SPARK_LOCAL_IP if you need to bind to another address\n",
      "Setting default log level to \"WARN\".\n",
      "To adjust logging level use sc.setLogLevel(newLevel). For SparkR, use setLogLevel(newLevel).\n",
      "24/05/05 22:02:58 WARN NativeCodeLoader: Unable to load native-hadoop library for your platform... using builtin-java classes where applicable\n"
     ]
    },
    {
     "name": "stdout",
     "output_type": "stream",
     "text": [
      "PySpark Version :3.5.0\n",
      "PySpark Version :3.5.0\n"
     ]
    },
    {
     "data": {
      "text/html": [
       "\n",
       "            <div>\n",
       "                <p><b>SparkSession - in-memory</b></p>\n",
       "                \n",
       "        <div>\n",
       "            <p><b>SparkContext</b></p>\n",
       "\n",
       "            <p><a href=\"http://192.168.3.5:4040\">Spark UI</a></p>\n",
       "\n",
       "            <dl>\n",
       "              <dt>Version</dt>\n",
       "                <dd><code>v3.5.0</code></dd>\n",
       "              <dt>Master</dt>\n",
       "                <dd><code>local[1]</code></dd>\n",
       "              <dt>AppName</dt>\n",
       "                <dd><code>Music</code></dd>\n",
       "            </dl>\n",
       "        </div>\n",
       "        \n",
       "            </div>\n",
       "        "
      ],
      "text/plain": [
       "<pyspark.sql.session.SparkSession at 0x1093eb620>"
      ]
     },
     "execution_count": 2,
     "metadata": {},
     "output_type": "execute_result"
    }
   ],
   "source": [
    "from pyspark.sql import SparkSession,Row,DataFrame\n",
    "from pyspark.sql.functions import *\n",
    "from pyspark.sql.types import *\n",
    "from pyspark.sql.window import Window\n",
    "\n",
    "\n",
    "\n",
    "# Create SparkSession\n",
    "spark=SparkSession.builder.master(\"local[1]\")\\\n",
    "        .appName(\"Music\")\\\n",
    "        .config(\"spark.driver.extraClassPath\",\"/Users/eduardoalberto/opt/spark/jars/mysql-connector-j-8.2.0.jar\" ) \\\n",
    "        .getOrCreate()\n",
    "sc = spark.sparkContext\n",
    "spark.sparkContext.setLogLevel(\"OFF\") \n",
    "print('PySpark Version :'+spark.version)\n",
    "print('PySpark Version :'+spark.sparkContext.version)\n",
    "\n",
    "spark"
   ]
  },
  {
   "cell_type": "code",
   "execution_count": 3,
   "metadata": {},
   "outputs": [
    {
     "name": "stderr",
     "output_type": "stream",
     "text": [
      "                                                                                \r"
     ]
    },
    {
     "name": "stdout",
     "output_type": "stream",
     "text": [
      "+------------+------+---+--------+----+-----------+------------+----------------+--------+-------+-----+--------------+--------------------+--------------------+--------------------+-----------+--------------+---------+--------------------+----------+\n",
      "|danceability|energy|key|loudness|mode|speechiness|acousticness|instrumentalness|liveness|valence|tempo|          type|                 uri|          track_href|        analysis_url|duration_ms|time_signature|    genre|           song_name|     rowid|\n",
      "+------------+------+---+--------+----+-----------+------------+----------------+--------+-------+-----+--------------+--------------------+--------------------+--------------------+-----------+--------------+---------+--------------------+----------+\n",
      "|        0.51|  0.86|  1|   -5.10|   1|       0.07|        0.00|            0.00|    0.40|   0.38| NULL|audio_features|spotify:track:11T...|https://api.spoti...|https://api.spoti...|     310160|             4|   trance|                NULL|8589934592|\n",
      "|        0.83|  0.81|  2|   -7.36|   1|       0.42|        0.06|            0.01|    0.06|   0.39| NULL|audio_features|spotify:track:2Vc...|https://api.spoti...|https://api.spoti...|     124539|             4|Dark Trap| Mercury: Retrograde|         0|\n",
      "|        0.72|  0.49|  8|   -7.23|   1|       0.08|        0.40|            0.00|    0.12|   0.12| NULL|audio_features|spotify:track:7pg...|https://api.spoti...|https://api.spoti...|     224427|             4|Dark Trap|           Pathology|         1|\n",
      "|        0.48|  0.97| 10|   -7.58|   0|       0.07|        0.00|            0.61|    0.22|   0.21| NULL|audio_features|spotify:track:46d...|https://api.spoti...|https://api.spoti...|     489256|             4|   trance|                NULL|8589934593|\n",
      "|        0.32|  0.95|  5|   -3.05|   0|       0.06|        0.00|            0.61|    0.15|   0.15| NULL|audio_features|spotify:track:7lW...|https://api.spoti...|https://api.spoti...|     212751|             4|   trance|                NULL|8589934594|\n",
      "|        0.85|  0.89|  5|   -4.78|   1|       0.06|        0.01|            0.00|    0.37|   0.04| NULL|audio_features|spotify:track:0vS...|https://api.spoti...|https://api.spoti...|      98821|             4|Dark Trap|            Symbiote|         2|\n",
      "|        0.47|  0.95|  5|   -7.26|   0|       0.13|        0.00|            0.00|    0.50|   0.08| NULL|audio_features|spotify:track:6uW...|https://api.spoti...|https://api.spoti...|     188043|             4|   trance|                NULL|8589934595|\n",
      "|        0.48|  0.78|  0|   -4.71|   1|       0.10|        0.02|            0.00|    0.11|   0.18| NULL|audio_features|spotify:track:0VS...|https://api.spoti...|https://api.spoti...|     123661|             3|Dark Trap|ProductOfDrugs (P...|         3|\n",
      "|        0.80|  0.62|  2|   -7.67|   1|       0.29|        0.22|            0.00|    0.17|   0.59| NULL|audio_features|spotify:track:4jC...|https://api.spoti...|https://api.spoti...|     123298|             4|Dark Trap|               Venom|         4|\n",
      "|        0.44|  1.00|  7|   -4.03|   0|       0.23|        0.00|            0.34|    0.31|   0.15| NULL|audio_features|spotify:track:19n...|https://api.spoti...|https://api.spoti...|     228000|             4|   trance|                NULL|8589934596|\n",
      "|        0.52|  0.83|  9|   -7.98|   1|       0.04|        0.00|            0.89|    0.36|   0.23| NULL|audio_features|spotify:track:1YC...|https://api.spoti...|https://api.spoti...|     373913|             4|   trance|                NULL|8589934597|\n",
      "|        0.72|  0.57|  0|  -11.30|   1|       0.41|        0.05|            0.21|    0.13|   0.11| NULL|audio_features|spotify:track:6fs...|https://api.spoti...|https://api.spoti...|     112511|             4|Dark Trap|             Gatteka|         5|\n",
      "|        0.40|  0.99|  9|   -7.74|   1|       0.12|        0.00|            0.88|    0.32|   0.15| NULL|audio_features|spotify:track:67a...|https://api.spoti...|https://api.spoti...|     204077|             4|   trance|                NULL|8589934598|\n",
      "|        0.72|  0.67|  8|   -4.16|   1|       0.14|        0.03|            0.01|    0.12|   0.04| NULL|audio_features|spotify:track:0Xf...|https://api.spoti...|https://api.spoti...|      77584|             4|Dark Trap|  kamikaze (+ pulse)|         6|\n",
      "|        0.69|  0.71|  8|   -5.53|   1|       0.22|        0.04|            0.00|    0.11|   0.28| NULL|audio_features|spotify:track:0LL...|https://api.spoti...|https://api.spoti...|     127524|             3|Dark Trap|T.R.U. (Totally R...|         7|\n",
      "|        0.71|  0.78|  1|   -8.40|   1|       0.05|        0.02|            0.78|    0.42|   0.24| NULL|audio_features|spotify:track:3JP...|https://api.spoti...|https://api.spoti...|     287244|             4|   trance|                NULL|8589934599|\n",
      "|        0.35|  0.98| 11|  -12.42|   0|       0.05|        0.00|            0.86|    0.33|   0.19| NULL|audio_features|spotify:track:20N...|https://api.spoti...|https://api.spoti...|     213608|             4|   trance|                NULL|8589934600|\n",
      "|        0.77|  0.75|  1|   -2.45|   1|       0.20|        0.06|            0.00|    0.07|   0.19| NULL|audio_features|spotify:track:37g...|https://api.spoti...|https://api.spoti...|     140326|             4|Dark Trap|I Put My Dick in ...|         8|\n",
      "|        0.61|  0.70|  6|   -6.89|   0|       0.04|        0.03|            0.02|    0.12|   0.27| NULL|audio_features|spotify:track:30m...|https://api.spoti...|https://api.spoti...|     245625|             4|   trance|                NULL|8589934601|\n",
      "|        0.89|  0.91| 11|  -10.41|   1|       0.37|        0.15|            0.03|    0.56|   0.30| NULL|audio_features|spotify:track:2gg...|https://api.spoti...|https://api.spoti...|     121979|             4|Dark Trap|           Andromeda|         9|\n",
      "+------------+------+---+--------+----+-----------+------------+----------------+--------+-------+-----+--------------+--------------------+--------------------+--------------------+-----------+--------------+---------+--------------------+----------+\n",
      "only showing top 20 rows\n",
      "\n"
     ]
    }
   ],
   "source": [
    "tb_genres = spark.read.jdbc(\"jdbc:mysql://localhost:3306/myDbUser\", \"myDbUser.tb_genres\",properties={\"user\": \"root\", \"password\": \"mysql\"})\n",
    "tb_genres.show()\n"
   ]
  },
  {
   "cell_type": "markdown",
   "metadata": {},
   "source": [
    "### MUSIC"
   ]
  },
  {
   "cell_type": "code",
   "execution_count": null,
   "metadata": {},
   "outputs": [],
   "source": [
    "\n",
    "df_music = spark.read.option(\"header\", \"true\").option('inferSchema', 'true').csv('/Users/eduardoalberto/LoadFile/archive/data.csv')\n",
    "df_music = df_music.selectExpr(\"cast(acousticness as decimal(3,2)) as acousticness\",\n",
    "                               \"regexp_replace(artists,'[^a-zA-Z0-9]',' ') as artists\",\n",
    "                               \"cast(danceability as decimal(3,2)) as danceability \",\n",
    "                               \"cast(energy as decimal(3,2)) as energy\",\n",
    "                               \"duration_ms\",\n",
    "                               \"explicit\",\n",
    "                               \"id\",\n",
    "                               \"cast(instrumentalness as decimal(3,2) ) as instrumentalness\",\n",
    "                               \"key\",\n",
    "                               \"cast (liveness as decimal(3,2) ) as liveness\",\n",
    "                               \"cast(loudness as decimal(3,2)) as loudness\",\n",
    "                               \"mode\",\n",
    "                               \"name\",\n",
    "                               \"popularity\",\n",
    "                               \"\"\" case\n",
    "                                        when release_date in ('1928','2013') then '1928-01-01' \n",
    "                                        else release_date\n",
    "                                    end as release_date\n",
    "                               \"\"\",\n",
    "                               \"cast(speechiness as decimal(5,2)) as speechiness\",\n",
    "                               \"cast(tempo as decimal(3,2)) as tempo\",\n",
    "                               \"cast(valence as decimal(3,2)) as valence\",\n",
    "                               \"year\",\n",
    "                               \"current_date() as dat_ref_carga\"\n",
    "                               )\\\n",
    "                   .withColumn('release_date',expr(\"case when release_date = 'Whipped into Shape' then '1990-01-10' else release_date end\"))\\\n",
    "                   .withColumn('danceability', expr(\" case when trim(regexp_replace(danceability,'[^a-zA-Z0-9]',' ')) = 'Michael Rupert' then 0 else danceability end  \"))\\\n",
    "                   .withColumn(\"rowid\", monotonically_increasing_id()) \n",
    "\n",
    "#df_music.filter(\"release_date = 'Whipped into Shape'\").show(300,False)\n",
    "df_music.show()"
   ]
  },
  {
   "cell_type": "markdown",
   "metadata": {},
   "source": [
    "### tracks"
   ]
  },
  {
   "cell_type": "code",
   "execution_count": null,
   "metadata": {},
   "outputs": [],
   "source": [
    "tracks = spark.read.option(\"header\", \"true\").option('inferSchema', 'true').csv('/Users/eduardoalberto/LoadFile/archive/tracks.csv')\n",
    "\n",
    "df_tracks = tracks.selectExpr(\"id\"\n",
    "                             ,\"name\"\n",
    "                             ,\"popularity\"\n",
    "                             ,\"duration_ms\"\n",
    "                             ,\"explicit\"\n",
    "                             ,\"regexp_replace('artists','[^a-zA-Z0-9]',' ') as artists \"\n",
    "                             ,\"regexp_replace('id_artists','[^a-zA-Z0-9]',' ') as id_artists\"\n",
    "                             ,\"case when length(release_date) = 4  then '1922-01-01' else release_date end as release_date \"\n",
    "                             ,\"danceability\"\n",
    "                             ,\"energy\"\n",
    "                             ,\"key\"\n",
    "                             ,\"loudness\"\n",
    "                             ,\"mode\"\n",
    "                             ,\"loudness\"\n",
    "                             ,\"mode\"\n",
    "                             ,\"speechiness\"\n",
    "                             ,\"acousticness\"\n",
    "                             ,\"instrumentalness\"\n",
    "                             ,\"liveness\"\n",
    "                             ,\"valence\"\n",
    "                             ,\"tempo\"\n",
    "                             ,\"time_signature\")\n",
    "df_tracks.show()"
   ]
  },
  {
   "cell_type": "markdown",
   "metadata": {},
   "source": [
    "### GENRES"
   ]
  },
  {
   "cell_type": "code",
   "execution_count": null,
   "metadata": {},
   "outputs": [],
   "source": [
    "genres = spark.read.option(\"header\", \"true\").option('inferSchema', 'true').csv('/Users/eduardoalberto/LoadFile/archive/genres_v2.csv')\n",
    "genres.selectExpr(\"cast(acousticness as decimal(3,2)) as acousticness\",\n",
    "                  \"cast(energy as decimal(3,2)) as energy\",\n",
    "                  \"key\",\n",
    "                  \"cast(loudness as decimal(3,2)) as loudness\",\n",
    "                  \"mode\",\n",
    "                  \"cast(speechiness as decimal(5,2)) as speechiness\",\n",
    "                  \"cast(acousticness as decimal(3,2)) as acousticness\",\n",
    "                  \"cast(instrumentalness as decimal(3,2) ) as instrumentalness\",\n",
    "                  \"cast (liveness as decimal(3,2) ) as liveness\",\n",
    "                  \"cast(valence as decimal(3,2)) as valence\",\n",
    "                  \"cast(tempo as decimal(3,2)) as tempo\",\n",
    "                  \"type\",\n",
    "                  \"id\",\n",
    "                  \"uri\",\n",
    "                  \"track_href\",\n",
    "                  \"analysis_url\",\n",
    "                  \"duration_ms\",\n",
    "                  \"time_signature\",\n",
    "                  \"genre\",\n",
    "                  \"song_name\",\n",
    "                  \"title\",\n",
    "                  \"current_date() as dat_ref_carga\")\\\n",
    "        .withColumn(\"rowid\", monotonically_increasing_id())"
   ]
  },
  {
   "cell_type": "markdown",
   "metadata": {},
   "source": [
    "### artists"
   ]
  },
  {
   "cell_type": "code",
   "execution_count": 1,
   "metadata": {},
   "outputs": [
    {
     "ename": "NameError",
     "evalue": "name 'spark' is not defined",
     "output_type": "error",
     "traceback": [
      "\u001b[0;31m---------------------------------------------------------------------------\u001b[0m",
      "\u001b[0;31mNameError\u001b[0m                                 Traceback (most recent call last)",
      "Cell \u001b[0;32mIn[1], line 1\u001b[0m\n\u001b[0;32m----> 1\u001b[0m artists \u001b[38;5;241m=\u001b[39m \u001b[43mspark\u001b[49m\u001b[38;5;241m.\u001b[39mread\u001b[38;5;241m.\u001b[39moption(\u001b[38;5;124m\"\u001b[39m\u001b[38;5;124mheader\u001b[39m\u001b[38;5;124m\"\u001b[39m, \u001b[38;5;124m\"\u001b[39m\u001b[38;5;124mtrue\u001b[39m\u001b[38;5;124m\"\u001b[39m)\u001b[38;5;241m.\u001b[39moption(\u001b[38;5;124m'\u001b[39m\u001b[38;5;124minferSchema\u001b[39m\u001b[38;5;124m'\u001b[39m, \u001b[38;5;124m'\u001b[39m\u001b[38;5;124mtrue\u001b[39m\u001b[38;5;124m'\u001b[39m)\u001b[38;5;241m.\u001b[39mcsv(\u001b[38;5;124m'\u001b[39m\u001b[38;5;124m/Users/eduardoalberto/LoadFile/archive/artists.csv\u001b[39m\u001b[38;5;124m'\u001b[39m)\n\u001b[1;32m      2\u001b[0m artists \u001b[38;5;241m=\u001b[39m artists\u001b[38;5;241m.\u001b[39mselect(\u001b[38;5;124m\"\u001b[39m\u001b[38;5;124mid\u001b[39m\u001b[38;5;124m\"\u001b[39m,\u001b[38;5;124m\"\u001b[39m\u001b[38;5;124mfollowers\u001b[39m\u001b[38;5;124m\"\u001b[39m,expr(\u001b[38;5;124m\"\u001b[39m\u001b[38;5;124mregexp_replace(genres,\u001b[39m\u001b[38;5;124m'\u001b[39m\u001b[38;5;124m[^a-zA-Z0-9]\u001b[39m\u001b[38;5;124m'\u001b[39m\u001b[38;5;124m,\u001b[39m\u001b[38;5;124m'\u001b[39m\u001b[38;5;124m \u001b[39m\u001b[38;5;124m'\u001b[39m\u001b[38;5;124m) as genres\u001b[39m\u001b[38;5;124m\"\u001b[39m),\u001b[38;5;124m\"\u001b[39m\u001b[38;5;124mname\u001b[39m\u001b[38;5;124m\"\u001b[39m,\u001b[38;5;124m\"\u001b[39m\u001b[38;5;124mpopularity\u001b[39m\u001b[38;5;124m\"\u001b[39m)\n\u001b[1;32m      3\u001b[0m artists \u001b[38;5;241m=\u001b[39m artists\u001b[38;5;241m.\u001b[39mwithColumn(\u001b[38;5;124m\"\u001b[39m\u001b[38;5;124mrank\u001b[39m\u001b[38;5;124m\"\u001b[39m,expr(\u001b[38;5;124m\"\u001b[39m\u001b[38;5;124mrank() over (partition by name order by name)\u001b[39m\u001b[38;5;124m\"\u001b[39m))\n",
      "\u001b[0;31mNameError\u001b[0m: name 'spark' is not defined"
     ]
    }
   ],
   "source": [
    "artists = spark.read.option(\"header\", \"true\").option('inferSchema', 'true').csv('/Users/eduardoalberto/LoadFile/archive/artists.csv')\n",
    "artists = artists.select(\"id\",\"followers\",expr(\"regexp_replace(genres,'[^a-zA-Z0-9]',' ') as genres\"),\"name\",\"popularity\")\n",
    "artists = artists.withColumn(\"rank\",expr(\"rank() over (partition by name order by name)\"))\n",
    "artists = artists.withColumn(\"row\",expr(\"row_number() over (partition by name order by name)\"))\n",
    "artists = artists.withColumn(\"dt_hoje\",expr(\"cast(date_format(current_date(), 'yyyyMMdd') as int)\"))\n",
    "artists = artists.withColumn(\"dt_adesao\",expr(\"cast(date_format(current_date()-3, 'yyyyMMdd')as int)\"))\n",
    "\n",
    "artistts = artists.filter(\"dt_adesao < dt_hoje\")\n",
    "artistts.toPandas()\n"
   ]
  },
  {
   "cell_type": "code",
   "execution_count": null,
   "metadata": {},
   "outputs": [],
   "source": []
  }
 ],
 "metadata": {
  "kernelspec": {
   "display_name": "Python 3",
   "language": "python",
   "name": "python3"
  },
  "language_info": {
   "codemirror_mode": {
    "name": "ipython",
    "version": 3
   },
   "file_extension": ".py",
   "mimetype": "text/x-python",
   "name": "python",
   "nbconvert_exporter": "python",
   "pygments_lexer": "ipython3",
   "version": "3.12.0"
  }
 },
 "nbformat": 4,
 "nbformat_minor": 2
}
