{
 "cells": [
  {
   "cell_type": "code",
   "execution_count": 1,
   "metadata": {},
   "outputs": [
    {
     "name": "stderr",
     "output_type": "stream",
     "text": [
      "25/05/08 22:50:34 WARN Utils: Your hostname, MacBook-Pro-de-Eduardo.local resolves to a loopback address: 127.0.0.1; using 192.168.15.9 instead (on interface en0)\n",
      "25/05/08 22:50:34 WARN Utils: Set SPARK_LOCAL_IP if you need to bind to another address\n"
     ]
    },
    {
     "name": "stdout",
     "output_type": "stream",
     "text": [
      ":: loading settings :: url = jar:file:/Users/eduardoalberto/opt/spark-3.5.4/jars/ivy-2.5.1.jar!/org/apache/ivy/core/settings/ivysettings.xml\n"
     ]
    },
    {
     "name": "stderr",
     "output_type": "stream",
     "text": [
      "Ivy Default Cache set to: /Users/eduardoalberto/.ivy2/cache\n",
      "The jars for the packages stored in: /Users/eduardoalberto/.ivy2/jars\n",
      "io.delta#delta-spark_2.12 added as a dependency\n",
      ":: resolving dependencies :: org.apache.spark#spark-submit-parent-539a7e76-98cd-4c8a-92c8-f6bb6b4aadb1;1.0\n",
      "\tconfs: [default]\n",
      "\tfound io.delta#delta-spark_2.12;3.1.0 in central\n",
      "\tfound io.delta#delta-storage;3.1.0 in central\n",
      "\tfound org.antlr#antlr4-runtime;4.9.3 in central\n",
      ":: resolution report :: resolve 240ms :: artifacts dl 14ms\n",
      "\t:: modules in use:\n",
      "\tio.delta#delta-spark_2.12;3.1.0 from central in [default]\n",
      "\tio.delta#delta-storage;3.1.0 from central in [default]\n",
      "\torg.antlr#antlr4-runtime;4.9.3 from central in [default]\n",
      "\t---------------------------------------------------------------------\n",
      "\t|                  |            modules            ||   artifacts   |\n",
      "\t|       conf       | number| search|dwnlded|evicted|| number|dwnlded|\n",
      "\t---------------------------------------------------------------------\n",
      "\t|      default     |   3   |   0   |   0   |   0   ||   3   |   0   |\n",
      "\t---------------------------------------------------------------------\n",
      ":: retrieving :: org.apache.spark#spark-submit-parent-539a7e76-98cd-4c8a-92c8-f6bb6b4aadb1\n",
      "\tconfs: [default]\n",
      "\t0 artifacts copied, 3 already retrieved (0kB/11ms)\n",
      "25/05/08 22:50:34 WARN NativeCodeLoader: Unable to load native-hadoop library for your platform... using builtin-java classes where applicable\n",
      "Setting default log level to \"WARN\".\n",
      "To adjust logging level use sc.setLogLevel(newLevel). For SparkR, use setLogLevel(newLevel).\n"
     ]
    },
    {
     "name": "stdout",
     "output_type": "stream",
     "text": [
      "PySpark Version :3.5.4\n",
      "PySpark Version :3.5.4\n"
     ]
    },
    {
     "data": {
      "text/html": [
       "\n",
       "            <div>\n",
       "                <p><b>SparkSession - in-memory</b></p>\n",
       "                \n",
       "        <div>\n",
       "            <p><b>SparkContext</b></p>\n",
       "\n",
       "            <p><a href=\"http://192.168.15.9:4040\">Spark UI</a></p>\n",
       "\n",
       "            <dl>\n",
       "              <dt>Version</dt>\n",
       "                <dd><code>v3.5.4</code></dd>\n",
       "              <dt>Master</dt>\n",
       "                <dd><code>local[4]</code></dd>\n",
       "              <dt>AppName</dt>\n",
       "                <dd><code>emp</code></dd>\n",
       "            </dl>\n",
       "        </div>\n",
       "        \n",
       "            </div>\n",
       "        "
      ],
      "text/plain": [
       "<pyspark.sql.session.SparkSession at 0x10de2dd90>"
      ]
     },
     "execution_count": 1,
     "metadata": {},
     "output_type": "execute_result"
    }
   ],
   "source": [
    "from pyspark.sql import SparkSession,Row,DataFrame\n",
    "from delta import configure_spark_with_delta_pip\n",
    "from delta.tables import DeltaTable\n",
    "import pyspark.sql.functions as F\n",
    "import os.path as path\n",
    "import traceback\n",
    "\n",
    "\n",
    "builder = SparkSession \\\n",
    "    .builder \\\n",
    "    .appName(\"emp\") \\\n",
    "    .master(\"local[4]\") \\\n",
    "    .config(\"spark.jars.packages\", \"uk.co.gresearch.spark:spark-extension_2.12:2.11.0-3.5\") \\\n",
    "    .config(\"spark.jars.packages\", \"org.apache.spark:spark-avro_2.12:3.5.0\") \\\n",
    "    .config(\"spark.sql.extensions\", \"io.delta.sql.DeltaSparkSessionExtension\") \\\n",
    "    .config(\"spark.sql.warehouse.dir\", \"/Users/eduardoalberto/LoadFile/output/\") \\\n",
    "    .config(\"spark.sql.catalog.spark_catalog\", \"org.apache.spark.sql.delta.catalog.DeltaCatalog\") \\\n",
    "    .config(\"spark.driver.extraClassPath\",\"/Users/eduardoalberto/opt/spark-3.5.3/jars/mysql-connector-j-9.1.0.jar\" ) \\\n",
    "\n",
    "spark = configure_spark_with_delta_pip(builder).getOrCreate()\n",
    "\n",
    "sc = spark.sparkContext\n",
    "spark.sparkContext.setLogLevel(\"OFF\") \n",
    "print('PySpark Version :'+spark.version)\n",
    "print('PySpark Version :'+spark.sparkContext.version)\n",
    "\n",
    "spark"
   ]
  },
  {
   "cell_type": "code",
   "execution_count": null,
   "metadata": {},
   "outputs": [],
   "source": [
    "df = spark.read.csv(\"/Users/eduardoalberto/LoadFile/input/kc_house_data.csv\", header=True,inferSchema=True)\\\n",
    "                .withColumn(\"id_number\", F.monotonically_increasing_id())\n",
    "df.show(truncate=False)"
   ]
  },
  {
   "cell_type": "markdown",
   "metadata": {},
   "source": [
    "### GERA DELTATABLE"
   ]
  },
  {
   "cell_type": "code",
   "execution_count": null,
   "metadata": {},
   "outputs": [],
   "source": [
    "path_delta = \"/Users/eduardoalberto/LoadFile/output/emp\"\n",
    "df = df.withColumn(\"dt_ref_carga\", F.current_date())\n",
    "\n",
    "\n",
    "\n",
    "df.write.format(\"delta\")\\\n",
    "        .option(\"overwriteSchema\", \"true\")\\\n",
    "        .option(\"path\",path_delta)\\\n",
    "        .partitionBy(\"dt_ref_carga\")\\\n",
    "        .mode(\"overwrite\")\\\n",
    "        .saveAsTable(\"default.tb_emp\")\n",
    "\n",
    "\n",
    "# df.write.format(\"delta\")\\\n",
    "#         .option(\"overwriteSchema\", \"true\")\\\n",
    "#         .partitionBy(\"dt_ref_carga\")\\\n",
    "#         .mode(\"overwrite\")\\\n",
    "#         .saveAsTable(\"default.tb_emp\")\\\n",
    "\n"
   ]
  },
  {
   "cell_type": "code",
   "execution_count": null,
   "metadata": {},
   "outputs": [],
   "source": [
    "spark.sql(\"describe history tb_emp\").show()\n"
   ]
  },
  {
   "cell_type": "markdown",
   "metadata": {},
   "source": [
    "### CONSULTA DELTATABLE"
   ]
  },
  {
   "cell_type": "code",
   "execution_count": null,
   "metadata": {},
   "outputs": [],
   "source": [
    "# spark.read.format(\"delta\").load(path_delta).toPandas()"
   ]
  },
  {
   "cell_type": "markdown",
   "metadata": {},
   "source": [
    "### SCRIPT FULL"
   ]
  },
  {
   "cell_type": "code",
   "execution_count": 2,
   "metadata": {},
   "outputs": [
    {
     "name": "stderr",
     "output_type": "stream",
     "text": [
      "                                                                                \r"
     ]
    },
    {
     "data": {
      "text/plain": [
       "21613"
      ]
     },
     "execution_count": 2,
     "metadata": {},
     "output_type": "execute_result"
    }
   ],
   "source": [
    "def ingest(spark):\n",
    "\n",
    "    CONF = {'inptFile': '/Users/eduardoalberto/LoadFile/input/kc_house_data.csv',\n",
    "            'path_delta': '/Users/eduardoalberto/LoadFile/output/emp',\n",
    "            'JDBC':  \"jdbc:mysql://localhost:3306/myDbUser\",\n",
    "            'TABLE': \"myDbUser.emp\",\n",
    "            'DB_USER': 'root',\n",
    "            'DB_PASSWORD': 'mysql'\n",
    "        }\n",
    "    try:\n",
    "        if path.isfile(CONF[\"inptFile\"]):\n",
    "            \n",
    "            kc_house_dt = spark.read.csv(CONF[\"inptFile\"], header=True,inferSchema=True)\\\n",
    "                                    .withColumn(\"id_number\", F.monotonically_increasing_id())\\\n",
    "                                    .withColumn(\"dt_ref_carga\", F.current_date())\n",
    "            \n",
    "            dfs = kc_house_dt.select(   F.coalesce(F.col('id'),F.lit(0)).alias('id'),\n",
    "                                        F.coalesce(F.col('dt_date'),F.lit(0)).alias('dt_date'),\n",
    "                                        F.coalesce(F.col('price'),F.lit(0)).alias('price'),\n",
    "                                        F.coalesce(F.col('bedrooms'),F.lit(0)).alias('bedrooms'),\n",
    "                                        F.coalesce(F.col('bathrooms'),F.lit(0)).alias('bathrooms'),\n",
    "                                        F.coalesce(F.col('sqft_living'),F.lit(0)).alias('sqft_living'),\n",
    "                                        F.coalesce(F.col('sqft_lot'),F.lit(0)).alias('sqft_lot'),\n",
    "                                        F.coalesce(F.col('floors'),F.lit(0)).alias('floors'),\n",
    "                                        F.coalesce(F.col('waterfront'),F.lit(0)).alias('waterfront'),\n",
    "                                        F.coalesce(F.col('view'),F.lit(0)).alias('view'),\n",
    "                                        F.coalesce(F.col('condition'),F.lit(0)).alias('condition'),\n",
    "                                        F.coalesce(F.col('grade'),F.lit(0)).alias('grade'),\n",
    "                                        F.coalesce(F.col('sqft_above'),F.lit(0)).alias('sqft_above'),\n",
    "                                        F.coalesce(F.col('sqft_basement'),F.lit(0)).alias('sqft_basement'),\n",
    "                                        F.coalesce(F.col('yr_built'),F.lit(0)).alias('yr_built'),\n",
    "                                        F.coalesce(F.col('yr_renovated'),F.lit(0)).alias('yr_renovated'),\n",
    "                                        F.coalesce(F.col('zipcode'),F.lit(0)).alias('zipcode'),\n",
    "                                        F.coalesce(F.col('lat'),F.lit(0)).alias('lat'),\n",
    "                                        F.coalesce(F.col('long'),F.lit(0)).alias('long'),\n",
    "                                        F.coalesce(F.col('sqft_living15'),F.lit(0)).alias('sqft_living15'),\n",
    "                                        F.coalesce(F.col('sqft_lot15'),F.lit(0)).alias('sqft_lot15'),\n",
    "                                        F.coalesce(F.col('id_number'),F.lit(0)).alias('id_number'),\n",
    "                                        F.coalesce(F.col('dt_ref_carga'),F.lit('1900-01-01')).alias('dt_ref_carga'))\n",
    "\n",
    "\n",
    "\n",
    "            dfs.write.format(\"delta\")\\\n",
    "                    .option(\"overwriteSchema\", \"true\")\\\n",
    "                    .option(\"path\",CONF[\"path_delta\"])\\\n",
    "                    .partitionBy(\"dt_ref_carga\")\\\n",
    "                    .mode(\"overwrite\")\\\n",
    "                    .saveAsTable(\"default.tb_emp\")\n",
    "            # mysql\n",
    "            dfs.write.mode(\"overwrite\").jdbc(CONF[\"JDBC\"], CONF[\"TABLE\"],properties={\"user\": CONF[\"DB_USER\"],\"password\": CONF[\"DB_PASSWORD\"]})\n",
    "\n",
    "        else:\n",
    "            print(\"arquivo não existe!\")\n",
    "\n",
    "    except Exception as e:\n",
    "        print(f\"Ocorreu o seguinte erro: {e}\")\n",
    "        traceback.print_exc()\n",
    "    return dfs\n",
    "\n",
    "df = ingest(spark)\n",
    "\n",
    "df.count()\n",
    "\n",
    "\n",
    "\n",
    "\n"
   ]
  }
 ],
 "metadata": {
  "kernelspec": {
   "display_name": "Python 3",
   "language": "python",
   "name": "python3"
  },
  "language_info": {
   "codemirror_mode": {
    "name": "ipython",
    "version": 3
   },
   "file_extension": ".py",
   "mimetype": "text/x-python",
   "name": "python",
   "nbconvert_exporter": "python",
   "pygments_lexer": "ipython3",
   "version": "3.9.6"
  }
 },
 "nbformat": 4,
 "nbformat_minor": 2
}
