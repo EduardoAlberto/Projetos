{
 "cells": [
  {
   "cell_type": "code",
   "execution_count": 1,
   "metadata": {},
   "outputs": [
    {
     "name": "stderr",
     "output_type": "stream",
     "text": [
      "25/03/26 22:26:33 WARN Utils: Your hostname, MacBook-Pro-de-Eduardo.local resolves to a loopback address: 127.0.0.1; using 192.168.3.178 instead (on interface en0)\n",
      "25/03/26 22:26:33 WARN Utils: Set SPARK_LOCAL_IP if you need to bind to another address\n"
     ]
    },
    {
     "name": "stdout",
     "output_type": "stream",
     "text": [
      ":: loading settings :: url = jar:file:/Users/eduardoalberto/opt/spark-3.5.4/jars/ivy-2.5.1.jar!/org/apache/ivy/core/settings/ivysettings.xml\n"
     ]
    },
    {
     "name": "stderr",
     "output_type": "stream",
     "text": [
      "Ivy Default Cache set to: /Users/eduardoalberto/.ivy2/cache\n",
      "The jars for the packages stored in: /Users/eduardoalberto/.ivy2/jars\n",
      "io.delta#delta-spark_2.12 added as a dependency\n",
      ":: resolving dependencies :: org.apache.spark#spark-submit-parent-4979edeb-9a91-4ed9-9a6b-a9f678c050f7;1.0\n",
      "\tconfs: [default]\n",
      "\tfound io.delta#delta-spark_2.12;3.1.0 in central\n",
      "\tfound io.delta#delta-storage;3.1.0 in central\n",
      "\tfound org.antlr#antlr4-runtime;4.9.3 in central\n",
      ":: resolution report :: resolve 250ms :: artifacts dl 13ms\n",
      "\t:: modules in use:\n",
      "\tio.delta#delta-spark_2.12;3.1.0 from central in [default]\n",
      "\tio.delta#delta-storage;3.1.0 from central in [default]\n",
      "\torg.antlr#antlr4-runtime;4.9.3 from central in [default]\n",
      "\t---------------------------------------------------------------------\n",
      "\t|                  |            modules            ||   artifacts   |\n",
      "\t|       conf       | number| search|dwnlded|evicted|| number|dwnlded|\n",
      "\t---------------------------------------------------------------------\n",
      "\t|      default     |   3   |   0   |   0   |   0   ||   3   |   0   |\n",
      "\t---------------------------------------------------------------------\n",
      ":: retrieving :: org.apache.spark#spark-submit-parent-4979edeb-9a91-4ed9-9a6b-a9f678c050f7\n",
      "\tconfs: [default]\n",
      "\t0 artifacts copied, 3 already retrieved (0kB/11ms)\n",
      "25/03/26 22:26:34 WARN NativeCodeLoader: Unable to load native-hadoop library for your platform... using builtin-java classes where applicable\n",
      "Setting default log level to \"WARN\".\n",
      "To adjust logging level use sc.setLogLevel(newLevel). For SparkR, use setLogLevel(newLevel).\n",
      "25/03/26 22:26:35 WARN Utils: Service 'SparkUI' could not bind on port 4040. Attempting port 4041.\n"
     ]
    },
    {
     "name": "stdout",
     "output_type": "stream",
     "text": [
      "PySpark Version :3.5.4\n",
      "PySpark Version :3.5.4\n"
     ]
    },
    {
     "data": {
      "text/html": [
       "\n",
       "            <div>\n",
       "                <p><b>SparkSession - in-memory</b></p>\n",
       "                \n",
       "        <div>\n",
       "            <p><b>SparkContext</b></p>\n",
       "\n",
       "            <p><a href=\"http://192.168.3.178:4041\">Spark UI</a></p>\n",
       "\n",
       "            <dl>\n",
       "              <dt>Version</dt>\n",
       "                <dd><code>v3.5.4</code></dd>\n",
       "              <dt>Master</dt>\n",
       "                <dd><code>local[4]</code></dd>\n",
       "              <dt>AppName</dt>\n",
       "                <dd><code>Data with Nikk the Greek Spark Session</code></dd>\n",
       "            </dl>\n",
       "        </div>\n",
       "        \n",
       "            </div>\n",
       "        "
      ],
      "text/plain": [
       "<pyspark.sql.session.SparkSession at 0x116655d00>"
      ]
     },
     "execution_count": 1,
     "metadata": {},
     "output_type": "execute_result"
    }
   ],
   "source": [
    "from pyspark.sql import SparkSession,Row,DataFrame\n",
    "from delta import configure_spark_with_delta_pip\n",
    "from delta.tables import DeltaTable\n",
    "import pyspark.sql.functions as F\n",
    "import traceback\n",
    "\n",
    "builder = SparkSession \\\n",
    "    .builder \\\n",
    "    .appName(\"Data with Nikk the Greek Spark Session\") \\\n",
    "    .master(\"local[4]\") \\\n",
    "    .config(\"spark.jars.packages\", \"uk.co.gresearch.spark:spark-extension_2.12:2.11.0-3.5\") \\\n",
    "    .config(\"spark.jars.packages\", \"org.apache.spark:spark-avro_2.12:3.5.0\") \\\n",
    "    .config(\"spark.sql.extensions\", \"io.delta.sql.DeltaSparkSessionExtension\") \\\n",
    "    .config(\"spark.sql.warehouse.dir\", \"/Users/eduardoalberto/LoadFile/repository/deltaTable/\") \\\n",
    "    .config(\"spark.sql.catalog.spark_catalog\", \"org.apache.spark.sql.delta.catalog.DeltaCatalog\") \\\n",
    "\n",
    "spark = configure_spark_with_delta_pip(builder).getOrCreate()\n",
    "\n",
    "sc = spark.sparkContext\n",
    "spark.sparkContext.setLogLevel(\"OFF\") \n",
    "print('PySpark Version :'+spark.version)\n",
    "print('PySpark Version :'+spark.sparkContext.version)\n",
    "\n",
    "spark\n"
   ]
  },
  {
   "cell_type": "code",
   "execution_count": null,
   "metadata": {},
   "outputs": [],
   "source": [
    "path_delta = \"/Users/eduardoalberto/LoadFile/dataDelta/movie\"\n",
    "df = spark.read.parquet(\"/Users/eduardoalberto/LoadFile/parquet/movie\")\n",
    "df.write.format(\"delta\").mode(\"overwrite\").save(path_delta)"
   ]
  },
  {
   "cell_type": "markdown",
   "metadata": {},
   "source": [
    "### Dataframe"
   ]
  },
  {
   "cell_type": "code",
   "execution_count": null,
   "metadata": {},
   "outputs": [],
   "source": [
    "spark.read.format(\"delta\").load(path_delta).show(truncate=False)"
   ]
  },
  {
   "cell_type": "code",
   "execution_count": null,
   "metadata": {},
   "outputs": [],
   "source": [
    "dfs = spark.read.option(\"delimiter\",';')\\\n",
    "                .option(\"header\", \"True\")\\\n",
    "                .option(\"inferSchema\", \"True\")\\\n",
    "                .csv(\"/Users/eduardoalberto/LoadFile/part-00000-055103f0-b275-4e27-b667-0c2c25d0636a-c000.csv\")\n",
    "# dfs.printSchema()\n",
    "# dfs.toPandas()"
   ]
  },
  {
   "cell_type": "code",
   "execution_count": null,
   "metadata": {},
   "outputs": [],
   "source": [
    "df01 = dfs.groupBy(\"name\",\"imdb_id\",\"overview\",\"revenue\",\"runtime\",\"status\",\"title\",\"vote_average\",\"vote_count\",\"popularity\",\"name_geners\")\\\n",
    "          .agg(F.count(\"title\").alias(\"total\"))\\\n",
    "          .withColumn(\"dt_ref_carga\", F.current_date())\n",
    "\n",
    "df02 = dfs.groupBy(\"name\",\"imdb_id\",\"overview\",\"revenue\",\"runtime\",\"status\",\"title\",\"vote_average\",\"vote_count\",\"popularity\",\"name_geners\")\\\n",
    "          .agg(F.count(\"title\").alias(\"total\"))\\\n",
    "          .withColumn(\"dt_ref_carga\", F.current_date()+2)\n",
    "\n",
    "df02.toPandas()"
   ]
  },
  {
   "cell_type": "code",
   "execution_count": null,
   "metadata": {},
   "outputs": [],
   "source": [
    "arqDelta = \"/Users/eduardoalberto/LoadFile/dataDelta/ratingMovie\"\n",
    "# df = spark.read.parquet(\"/Users/eduardoalberto/LoadFile/parquet/movie\")\n",
    "df01.write.format(\"delta\").mode(\"overwrite\").partitionBy(\"dt_ref_carga\").option(\"overwriteSchema\", \"true\").saveAsTable(\"tb_ratingMovie\")\n",
    "df02.write.format(\"delta\").mode(\"overwrite\").partitionBy(\"dt_ref_carga\").option(\"overwriteSchema\", \"true\").saveAsTable(\"st_ratingMovie\")\n"
   ]
  },
  {
   "cell_type": "code",
   "execution_count": null,
   "metadata": {},
   "outputs": [],
   "source": [
    "spark.sql(\"desc history tb_ratingMovie\").show()"
   ]
  },
  {
   "cell_type": "code",
   "execution_count": null,
   "metadata": {},
   "outputs": [],
   "source": [
    "spark.table(\"st_ratingMovie\").filter(\"imdb_id = 'tt0036818'\").toPandas()\n",
    "\n",
    "spark.table(\"tb_ratingmovie\").toPandas()\n",
    "\n",
    "# spark.read.format(\"delta\").load(arqDelta).toPandas()"
   ]
  },
  {
   "cell_type": "code",
   "execution_count": null,
   "metadata": {},
   "outputs": [],
   "source": [
    "spark.sql(\"\"\" update st_ratingMovie\n",
    "              set imdb_id = \"tt0036818\",\n",
    "                  revenue = 1,\n",
    "                  vote_average = 7,\n",
    "                  vote_count = 42,\n",
    "                  dt_ref_carga = current_date()+1\n",
    "               where imdb_id = 'tt0036818'    \n",
    "\"\"\")\n",
    "\n",
    "spark.table(\"st_ratingMovie\").filter(\"imdb_id = 'tt0036818' \").toPandas()"
   ]
  },
  {
   "cell_type": "markdown",
   "metadata": {},
   "source": [
    "### MERGE UPDATE SPARK SQL"
   ]
  },
  {
   "cell_type": "markdown",
   "metadata": {},
   "source": []
  },
  {
   "cell_type": "code",
   "execution_count": null,
   "metadata": {},
   "outputs": [],
   "source": [
    "spark.sql(\"\"\"merge into tb_ratingMovie T1\n",
    "             using st_ratingMovie T2\n",
    "             on T1.imdb_id = T2.imdb_id\n",
    "             when matched then update set *\n",
    "             when not matched by target then insert *\n",
    "\"\"\")"
   ]
  },
  {
   "cell_type": "code",
   "execution_count": null,
   "metadata": {},
   "outputs": [],
   "source": [
    "# spark.table(\"tb_ratingMovie\").select(\"dt_ref_carga\").show()\n",
    "\n",
    "spark.table(\"tb_ratingMovie\").filter(\"imdb_id = 'tt0036818' \").toPandas()"
   ]
  },
  {
   "cell_type": "markdown",
   "metadata": {},
   "source": [
    "### MERGE UPDATE PYSPARK"
   ]
  },
  {
   "cell_type": "code",
   "execution_count": null,
   "metadata": {},
   "outputs": [],
   "source": [
    "dftg = DeltaTable.forPath(spark, \"/Users/eduardoalberto/LoadFile/repository/deltaTable/tb_ratingmovie\")\n",
    "dfsr = spark.read.format(\"delta\").load(\"/Users/eduardoalberto/LoadFile/repository/deltaTable/st_ratingmovie\")\n",
    "\n",
    "\n",
    "(dftg.alias(\"dftg\")\n",
    "     .merge(dfsr.alias(\"dfsr\"),\"dftg.imdb_id = dfsr.imdb_id\")\n",
    "     .whenMatchedUpdateAll()\n",
    "     .whenNotMatchedInsertAll()\n",
    "     .whenNotMatchedBySourceDelete()\n",
    "     .execute()\n",
    " )\n",
    "\n"
   ]
  },
  {
   "cell_type": "code",
   "execution_count": null,
   "metadata": {},
   "outputs": [],
   "source": [
    "spark.table(\"tb_ratingmovie\").filter(\"imdb_id = 'tt0036818'\").toPandas()"
   ]
  },
  {
   "cell_type": "code",
   "execution_count": null,
   "metadata": {},
   "outputs": [],
   "source": [
    "\n",
    "\n",
    "\n",
    "import os.path as path\n",
    "\n",
    "\n",
    "def LaodDelta (dir):\n",
    "\n",
    "    try:\n",
    "        path.exists(dir)\n",
    "        df = spark.read.option(\"delimiter\",';').option(\"header\", \"True\").option(\"inferSchema\", \"True\").csv(dir)\n",
    "        df01 = df.groupBy(\"name\",\"imdb_id\",\"overview\",\"revenue\",\"runtime\",\"status\",\"title\",\"vote_average\",\"vote_count\",\"popularity\",\"name_geners\")\\\n",
    "                 .agg(F.count(\"title\").alias(\"total\"))\\\n",
    "                 .withColumn(\"dt_ref_carga\", F.current_date())\n",
    "\n",
    "        df02 = df.groupBy(\"name\",\"imdb_id\",\"overview\",\"revenue\",\"runtime\",\"status\",\"title\",\"vote_average\",\"vote_count\",\"popularity\",\"name_geners\")\\\n",
    "                 .agg(F.count(\"title\").alias(\"total\"))\\\n",
    "                 .withColumn(\"dt_ref_carga\", F.current_date()+2)\n",
    "    \n",
    "        df01.write.format(\"delta\").mode(\"overwrite\").partitionBy(\"dt_ref_carga\").option(\"overwriteSchema\", \"true\").saveAsTable(\"tb_ratingMovie\")\n",
    "        df02.write.format(\"delta\").mode(\"overwrite\").partitionBy(\"dt_ref_carga\").option(\"overwriteSchema\", \"true\").saveAsTable(\"st_ratingMovie\")\n",
    " \n",
    "    except Exception as e:\n",
    "        print(f\"Ocorreu o seguinte erro: {e}\")\n",
    "        traceback.print_exc()\n",
    "    return None\n",
    "\n",
    "def MergeDelta(dftg,dfsr):\n",
    "    try:\n",
    "        dftg.alias(\"dftg\")\\\n",
    "            .merge(dfsr.alias(\"dfsr\"),\"dftg.imdb_id = dfsr.imdb_id\")\\\n",
    "            .whenMatchedUpdateAll()\\\n",
    "            .whenNotMatchedInsertAll()\\\n",
    "            .whenNotMatchedBySourceDelete()\\\n",
    "            .execute()\n",
    "        \n",
    "    except Exception as e:\n",
    "        print(f\"Ocorreu o seguinte erro: {e}\")\n",
    "        traceback.print_exc()\n",
    "    return None\n",
    "    \n",
    "\n",
    "\n",
    "#################################################################################################################################################################\n",
    "\n",
    "dftg = DeltaTable.forPath(spark, \"/Users/eduardoalberto/LoadFile/repository/deltaTable/tb_ratingmovie\")\n",
    "dfsr = spark.read.format(\"delta\").load(\"/Users/eduardoalberto/LoadFile/repository/deltaTable/st_ratingmovie\")\n",
    "\n",
    "\n",
    "dir = \"/Users/eduardoalberto/LoadFile/part-00000-055103f0-b275-4e27-b667-0c2c25d0636a-c000.csv\"\n",
    "\n",
    "LaodDelta(dir)\n",
    "MergeDelta(dftg,dfsr)\n"
   ]
  }
 ],
 "metadata": {
  "kernelspec": {
   "display_name": "Python 3",
   "language": "python",
   "name": "python3"
  },
  "language_info": {
   "codemirror_mode": {
    "name": "ipython",
    "version": 3
   },
   "file_extension": ".py",
   "mimetype": "text/x-python",
   "name": "python",
   "nbconvert_exporter": "python",
   "pygments_lexer": "ipython3",
   "version": "3.9.6"
  }
 },
 "nbformat": 4,
 "nbformat_minor": 2
}
