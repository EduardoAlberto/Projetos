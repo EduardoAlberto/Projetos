{
 "cells": [
  {
   "cell_type": "code",
   "execution_count": 2,
   "metadata": {},
   "outputs": [
    {
     "name": "stderr",
     "output_type": "stream",
     "text": [
      "25/07/20 21:17:20 WARN Utils: Your hostname, MacBook-Pro-de-Eduardo.local resolves to a loopback address: 127.0.0.1; using 192.168.3.180 instead (on interface en0)\n",
      "25/07/20 21:17:20 WARN Utils: Set SPARK_LOCAL_IP if you need to bind to another address\n",
      "Setting default log level to \"WARN\".\n",
      "To adjust logging level use sc.setLogLevel(newLevel). For SparkR, use setLogLevel(newLevel).\n",
      "25/07/20 21:17:21 WARN NativeCodeLoader: Unable to load native-hadoop library for your platform... using builtin-java classes where applicable\n"
     ]
    },
    {
     "name": "stdout",
     "output_type": "stream",
     "text": [
      "PySpark Version :3.5.4\n",
      "PySpark Version :3.5.4\n"
     ]
    },
    {
     "data": {
      "text/html": [
       "\n",
       "            <div>\n",
       "                <p><b>SparkSession - hive</b></p>\n",
       "                \n",
       "        <div>\n",
       "            <p><b>SparkContext</b></p>\n",
       "\n",
       "            <p><a href=\"http://192.168.3.180:4040\">Spark UI</a></p>\n",
       "\n",
       "            <dl>\n",
       "              <dt>Version</dt>\n",
       "                <dd><code>v3.5.4</code></dd>\n",
       "              <dt>Master</dt>\n",
       "                <dd><code>local[1]</code></dd>\n",
       "              <dt>AppName</dt>\n",
       "                <dd><code>movie_local</code></dd>\n",
       "            </dl>\n",
       "        </div>\n",
       "        \n",
       "            </div>\n",
       "        "
      ],
      "text/plain": [
       "<pyspark.sql.session.SparkSession at 0x10bdaeca0>"
      ]
     },
     "execution_count": 2,
     "metadata": {},
     "output_type": "execute_result"
    }
   ],
   "source": [
    "import pyspark \n",
    "from pyspark.sql import SparkSession,Row,DataFrame\n",
    "import pyspark.sql.functions as F\n",
    "from pyspark.sql.types import *\n",
    "\n",
    "\n",
    "spark=SparkSession.builder.master(\"local[1]\")\\\n",
    "        .appName(\"movie_local\")\\\n",
    "        .config(\"spark.driver.extraClassPath\",\"/Users/eduardoalberto/opt/spark-3.5.3/jars/mysql-connector-j-9.1.0.jar\")\\\n",
    "        .config(\"spark.sql.shuffle.partitions\", \"7\") \\\n",
    "        .config(\"spark.sql.warehouse.dir\", \"/Users/eduardoalberto/LoadFile/repository/database/\") \\\n",
    "        .config(\"spark.dynamicAllocation.enabled\", \"true\") \\\n",
    "        .config(\"spark.executor.cores\", \"4\") \\\n",
    "        .config(\"spark.dynamicAllocation.minExecutors\", \"1\") \\\n",
    "        .config(\"spark.dynamicAllocation.maxExecutors\", \"5\") \\\n",
    "        .enableHiveSupport()\\\n",
    "        .getOrCreate()\n",
    "sc = spark.sparkContext\n",
    "spark.sparkContext.setLogLevel(\"OFF\") \n",
    "print('PySpark Version :'+spark.version)\n",
    "print('PySpark Version :'+spark.sparkContext.version)\n",
    "\n",
    "spark"
   ]
  },
  {
   "cell_type": "code",
   "execution_count": 1,
   "metadata": {},
   "outputs": [
    {
     "name": "stdout",
     "output_type": "stream",
     "text": [
      "zsh:1: no matches found: /Users/eduardoalberto/LoadFile/data_2022*.csv\n"
     ]
    }
   ],
   "source": [
    "! ls /Users/eduardoalberto/LoadFile/data_2022*.csv\n",
    "\n"
   ]
  },
  {
   "cell_type": "code",
   "execution_count": 4,
   "metadata": {},
   "outputs": [
    {
     "name": "stdout",
     "output_type": "stream",
     "text": [
      "++\n",
      "||\n",
      "++\n",
      "++\n",
      "\n"
     ]
    }
   ],
   "source": [
    "spark.sql(\" CREATE DATABASE IF NOT EXISTS dbdev150\").show()\n"
   ]
  },
  {
   "cell_type": "code",
   "execution_count": 5,
   "metadata": {},
   "outputs": [
    {
     "ename": "AnalysisException",
     "evalue": "[PATH_NOT_FOUND] Path does not exist: file:/Users/eduardoalberto/LoadFile/data_2022*.csv.",
     "output_type": "error",
     "traceback": [
      "\u001b[0;31m---------------------------------------------------------------------------\u001b[0m",
      "\u001b[0;31mAnalysisException\u001b[0m                         Traceback (most recent call last)",
      "Cell \u001b[0;32mIn[5], line 1\u001b[0m\n\u001b[0;32m----> 1\u001b[0m df \u001b[38;5;241m=\u001b[39m \u001b[43mspark\u001b[49m\u001b[38;5;241;43m.\u001b[39;49m\u001b[43mread\u001b[49m\u001b[38;5;241;43m.\u001b[39;49m\u001b[43moption\u001b[49m\u001b[43m(\u001b[49m\u001b[38;5;124;43m\"\u001b[39;49m\u001b[38;5;124;43mdelimiter\u001b[39;49m\u001b[38;5;124;43m\"\u001b[39;49m\u001b[43m,\u001b[49m\u001b[43m \u001b[49m\u001b[38;5;124;43m\"\u001b[39;49m\u001b[38;5;130;43;01m\\t\u001b[39;49;00m\u001b[38;5;124;43m\"\u001b[39;49m\u001b[43m)\u001b[49m\u001b[38;5;241;43m.\u001b[39;49m\u001b[43moption\u001b[49m\u001b[43m(\u001b[49m\u001b[38;5;124;43m\"\u001b[39;49m\u001b[38;5;124;43mheader\u001b[39;49m\u001b[38;5;124;43m\"\u001b[39;49m\u001b[43m,\u001b[49m\u001b[43m \u001b[49m\u001b[38;5;28;43;01mTrue\u001b[39;49;00m\u001b[43m)\u001b[49m\u001b[38;5;241;43m.\u001b[39;49m\u001b[43mcsv\u001b[49m\u001b[43m(\u001b[49m\u001b[38;5;124;43m'\u001b[39;49m\u001b[38;5;124;43m/Users/eduardoalberto/LoadFile/data_2022*.csv\u001b[39;49m\u001b[38;5;124;43m'\u001b[39;49m\u001b[43m)\u001b[49m\n\u001b[1;32m      3\u001b[0m df\u001b[38;5;241m.\u001b[39mshow(truncate\u001b[38;5;241m=\u001b[39m\u001b[38;5;28;01mFalse\u001b[39;00m)\n",
      "File \u001b[0;32m~/Library/Python/3.9/lib/python/site-packages/pyspark/sql/readwriter.py:740\u001b[0m, in \u001b[0;36mDataFrameReader.csv\u001b[0;34m(self, path, schema, sep, encoding, quote, escape, comment, header, inferSchema, ignoreLeadingWhiteSpace, ignoreTrailingWhiteSpace, nullValue, nanValue, positiveInf, negativeInf, dateFormat, timestampFormat, maxColumns, maxCharsPerColumn, maxMalformedLogPerPartition, mode, columnNameOfCorruptRecord, multiLine, charToEscapeQuoteEscaping, samplingRatio, enforceSchema, emptyValue, locale, lineSep, pathGlobFilter, recursiveFileLookup, modifiedBefore, modifiedAfter, unescapedQuoteHandling)\u001b[0m\n\u001b[1;32m    738\u001b[0m \u001b[38;5;28;01mif\u001b[39;00m \u001b[38;5;28mtype\u001b[39m(path) \u001b[38;5;241m==\u001b[39m \u001b[38;5;28mlist\u001b[39m:\n\u001b[1;32m    739\u001b[0m     \u001b[38;5;28;01massert\u001b[39;00m \u001b[38;5;28mself\u001b[39m\u001b[38;5;241m.\u001b[39m_spark\u001b[38;5;241m.\u001b[39m_sc\u001b[38;5;241m.\u001b[39m_jvm \u001b[38;5;129;01mis\u001b[39;00m \u001b[38;5;129;01mnot\u001b[39;00m \u001b[38;5;28;01mNone\u001b[39;00m\n\u001b[0;32m--> 740\u001b[0m     \u001b[38;5;28;01mreturn\u001b[39;00m \u001b[38;5;28mself\u001b[39m\u001b[38;5;241m.\u001b[39m_df(\u001b[38;5;28;43mself\u001b[39;49m\u001b[38;5;241;43m.\u001b[39;49m\u001b[43m_jreader\u001b[49m\u001b[38;5;241;43m.\u001b[39;49m\u001b[43mcsv\u001b[49m\u001b[43m(\u001b[49m\u001b[38;5;28;43mself\u001b[39;49m\u001b[38;5;241;43m.\u001b[39;49m\u001b[43m_spark\u001b[49m\u001b[38;5;241;43m.\u001b[39;49m\u001b[43m_sc\u001b[49m\u001b[38;5;241;43m.\u001b[39;49m\u001b[43m_jvm\u001b[49m\u001b[38;5;241;43m.\u001b[39;49m\u001b[43mPythonUtils\u001b[49m\u001b[38;5;241;43m.\u001b[39;49m\u001b[43mtoSeq\u001b[49m\u001b[43m(\u001b[49m\u001b[43mpath\u001b[49m\u001b[43m)\u001b[49m\u001b[43m)\u001b[49m)\n\u001b[1;32m    741\u001b[0m \u001b[38;5;28;01melif\u001b[39;00m \u001b[38;5;28misinstance\u001b[39m(path, RDD):\n\u001b[1;32m    743\u001b[0m     \u001b[38;5;28;01mdef\u001b[39;00m \u001b[38;5;21mfunc\u001b[39m(iterator):\n",
      "File \u001b[0;32m~/Library/Python/3.9/lib/python/site-packages/py4j/java_gateway.py:1322\u001b[0m, in \u001b[0;36mJavaMember.__call__\u001b[0;34m(self, *args)\u001b[0m\n\u001b[1;32m   1316\u001b[0m command \u001b[38;5;241m=\u001b[39m proto\u001b[38;5;241m.\u001b[39mCALL_COMMAND_NAME \u001b[38;5;241m+\u001b[39m\\\n\u001b[1;32m   1317\u001b[0m     \u001b[38;5;28mself\u001b[39m\u001b[38;5;241m.\u001b[39mcommand_header \u001b[38;5;241m+\u001b[39m\\\n\u001b[1;32m   1318\u001b[0m     args_command \u001b[38;5;241m+\u001b[39m\\\n\u001b[1;32m   1319\u001b[0m     proto\u001b[38;5;241m.\u001b[39mEND_COMMAND_PART\n\u001b[1;32m   1321\u001b[0m answer \u001b[38;5;241m=\u001b[39m \u001b[38;5;28mself\u001b[39m\u001b[38;5;241m.\u001b[39mgateway_client\u001b[38;5;241m.\u001b[39msend_command(command)\n\u001b[0;32m-> 1322\u001b[0m return_value \u001b[38;5;241m=\u001b[39m \u001b[43mget_return_value\u001b[49m\u001b[43m(\u001b[49m\n\u001b[1;32m   1323\u001b[0m \u001b[43m    \u001b[49m\u001b[43manswer\u001b[49m\u001b[43m,\u001b[49m\u001b[43m \u001b[49m\u001b[38;5;28;43mself\u001b[39;49m\u001b[38;5;241;43m.\u001b[39;49m\u001b[43mgateway_client\u001b[49m\u001b[43m,\u001b[49m\u001b[43m \u001b[49m\u001b[38;5;28;43mself\u001b[39;49m\u001b[38;5;241;43m.\u001b[39;49m\u001b[43mtarget_id\u001b[49m\u001b[43m,\u001b[49m\u001b[43m \u001b[49m\u001b[38;5;28;43mself\u001b[39;49m\u001b[38;5;241;43m.\u001b[39;49m\u001b[43mname\u001b[49m\u001b[43m)\u001b[49m\n\u001b[1;32m   1325\u001b[0m \u001b[38;5;28;01mfor\u001b[39;00m temp_arg \u001b[38;5;129;01min\u001b[39;00m temp_args:\n\u001b[1;32m   1326\u001b[0m     \u001b[38;5;28;01mif\u001b[39;00m \u001b[38;5;28mhasattr\u001b[39m(temp_arg, \u001b[38;5;124m\"\u001b[39m\u001b[38;5;124m_detach\u001b[39m\u001b[38;5;124m\"\u001b[39m):\n",
      "File \u001b[0;32m~/Library/Python/3.9/lib/python/site-packages/pyspark/errors/exceptions/captured.py:185\u001b[0m, in \u001b[0;36mcapture_sql_exception.<locals>.deco\u001b[0;34m(*a, **kw)\u001b[0m\n\u001b[1;32m    181\u001b[0m converted \u001b[38;5;241m=\u001b[39m convert_exception(e\u001b[38;5;241m.\u001b[39mjava_exception)\n\u001b[1;32m    182\u001b[0m \u001b[38;5;28;01mif\u001b[39;00m \u001b[38;5;129;01mnot\u001b[39;00m \u001b[38;5;28misinstance\u001b[39m(converted, UnknownException):\n\u001b[1;32m    183\u001b[0m     \u001b[38;5;66;03m# Hide where the exception came from that shows a non-Pythonic\u001b[39;00m\n\u001b[1;32m    184\u001b[0m     \u001b[38;5;66;03m# JVM exception message.\u001b[39;00m\n\u001b[0;32m--> 185\u001b[0m     \u001b[38;5;28;01mraise\u001b[39;00m converted \u001b[38;5;28;01mfrom\u001b[39;00m \u001b[38;5;28;01mNone\u001b[39;00m\n\u001b[1;32m    186\u001b[0m \u001b[38;5;28;01melse\u001b[39;00m:\n\u001b[1;32m    187\u001b[0m     \u001b[38;5;28;01mraise\u001b[39;00m\n",
      "\u001b[0;31mAnalysisException\u001b[0m: [PATH_NOT_FOUND] Path does not exist: file:/Users/eduardoalberto/LoadFile/data_2022*.csv."
     ]
    }
   ],
   "source": [
    "df = spark.read.option(\"delimiter\", \"\\t\").option(\"header\", True).csv('/Users/eduardoalberto/LoadFile/data_2022*.csv')\n",
    "\n",
    "df.show(truncate=False)\n",
    "\n"
   ]
  },
  {
   "cell_type": "code",
   "execution_count": null,
   "metadata": {},
   "outputs": [],
   "source": [
    "import pyspark \n",
    "from pyspark.sql import SparkSession,Row,DataFrame\n",
    "import pyspark.sql.functions as F\n",
    "from pyspark.sql.types import *\n",
    "\n",
    "def fn_ingest (df: DataFrame) -> DataFrame :\n",
    "\n",
    "    dfs = df.filter(\" deathYear <> r'\\\\N' and deathYear <> r'\\\\N'  \")\\\n",
    "            .withColumn('profession_array',F.explode((F.split(F.col(\"primaryProfession\"), \",\"))))\\\n",
    "            .withColumn('knownForTitles_array',F.explode((F.split(F.col(\"knownForTitles\"),\",\"))))\\\n",
    "            .drop_duplicates(['profession_array','knownForTitles_array'])\n",
    "\n",
    "    \n",
    "    dff = dfs.filter(\"profession_array <> r'\\\\N' and knownForTitles_array <> r'\\\\N'\")\n",
    "  \n",
    "    return dff\n",
    "tb = fn_ingest(df)\n",
    "\n",
    "tb.limit(50000).write.mode(\"overwrite\").saveAsTable(\"dbdev150.movie\")\n",
    "\n",
    "\n",
    "#tb.limit(50000).write.mode(\"overwrite\").jdbc(\"jdbc:mysql://localhost:3306/myDbUser\", \"myDbUser.movie\",properties={\"user\": \"root\", \"password\": \"mysql\"})\n",
    "\n",
    "#104.466.466\n",
    "#3.449.518\n"
   ]
  },
  {
   "cell_type": "code",
   "execution_count": null,
   "metadata": {},
   "outputs": [],
   "source": [
    "df = spark.table(\"dbdev150.movie\")\n",
    "\n",
    "df.write.mode(\"overwrite\").parquet(\"/Users/eduardoalberto/LoadFile/parquet/movie\")\n",
    "\n",
    "\n",
    "\n",
    "dfs = spark.read.option(\"delimiter\", \";\").option(\"header\", True).csv(\"/Users/eduardoalberto/LoadFile/part-00000-055103f0-b275-4e27-b667-0c2c25d0636a-c000.csv\")\n",
    "dfs.write.partitionBy(\"dt_release\").mode(\"overwrite\").parquet(\"/Users/eduardoalberto/LoadFile/parquet/movie02\")\n",
    "# df.write.parquet(\"/Users/eduardoalberto/LoadFile/parquet/arqui02/\")\n",
    "\n",
    "df.show()\n",
    "\n",
    "dfs.show()\n",
    "\n",
    "\n"
   ]
  },
  {
   "cell_type": "code",
   "execution_count": 3,
   "metadata": {},
   "outputs": [
    {
     "name": "stderr",
     "output_type": "stream",
     "text": [
      "                                                                                \r"
     ]
    },
    {
     "name": "stdout",
     "output_type": "stream",
     "text": [
      "+-----+-----+--------------------+--------------------+--------------------+--------+---------+-----------------+--------------------+--------------------+----------+--------------------+--------+-------+--------+--------------------+--------------------+-----+------------+----------+-----+-----------+----------+\n",
      "| id01|   id|                name|         poster_path|       backdrop_path|  budget|  imdb_id|original_language|      original_title|            overview|popularity|         path_poster| revenue|runtime|  status|             tagline|               title|video|vote_average|vote_count| id02|name_geners|dt_release|\n",
      "+-----+-----+--------------------+--------------------+--------------------+--------+---------+-----------------+--------------------+--------------------+----------+--------------------+--------+-------+--------+--------------------+--------------------+-----+------------+----------+-----+-----------+----------+\n",
      "|10402|95664|Deuce Bigalow Col...|/szTJbYJnm3OPwYxQ...|/5jvRtBbRahwy1dDD...|17000000|tt0205000|               en|Deuce Bigalow: Ma...|Deuce Bigalow is ...|  6.567794|/1AGR1KdIk1llaW98...|65535067|   88.0|Released|He charges $10 bu...|Deuce Bigalow: Ma...|False|           5|       314|10402|      Music|1999-12-10|\n",
      "|10402|95664|Deuce Bigalow Col...|/szTJbYJnm3OPwYxQ...|/5jvRtBbRahwy1dDD...|17000000|tt0205000|               en|Deuce Bigalow: Ma...|Deuce Bigalow is ...|  6.567794|/1AGR1KdIk1llaW98...|65535067|   88.0|Released|He charges $10 bu...|Deuce Bigalow: Ma...|False|           5|       314|10402|      Music|1999-12-10|\n",
      "|10402|95664|Deuce Bigalow Col...|/szTJbYJnm3OPwYxQ...|/5jvRtBbRahwy1dDD...|17000000|tt0205000|               en|Deuce Bigalow: Ma...|Deuce Bigalow is ...|  6.567794|/1AGR1KdIk1llaW98...|65535067|   88.0|Released|He charges $10 bu...|Deuce Bigalow: Ma...|False|           5|       314|10402|      Music|1999-12-10|\n",
      "|10402|95664|Deuce Bigalow Col...|/szTJbYJnm3OPwYxQ...|/5jvRtBbRahwy1dDD...|17000000|tt0205000|               en|Deuce Bigalow: Ma...|Deuce Bigalow is ...|  6.567794|/1AGR1KdIk1llaW98...|65535067|   88.0|Released|He charges $10 bu...|Deuce Bigalow: Ma...|False|           5|       314|10402|      Music|1999-12-10|\n",
      "|10402|95664|Deuce Bigalow Col...|/szTJbYJnm3OPwYxQ...|/5jvRtBbRahwy1dDD...|17000000|tt0205000|               en|Deuce Bigalow: Ma...|Deuce Bigalow is ...|  6.567794|/1AGR1KdIk1llaW98...|65535067|   88.0|Released|He charges $10 bu...|Deuce Bigalow: Ma...|False|           5|       314|10402|      Music|1999-12-10|\n",
      "|10402|95664|Deuce Bigalow Col...|/szTJbYJnm3OPwYxQ...|/5jvRtBbRahwy1dDD...|17000000|tt0205000|               en|Deuce Bigalow: Ma...|Deuce Bigalow is ...|  6.567794|/1AGR1KdIk1llaW98...|65535067|   88.0|Released|He charges $10 bu...|Deuce Bigalow: Ma...|False|           5|       314|10402|      Music|1999-12-10|\n",
      "|10402|95664|Deuce Bigalow Col...|/szTJbYJnm3OPwYxQ...|/5jvRtBbRahwy1dDD...|17000000|tt0205000|               en|Deuce Bigalow: Ma...|Deuce Bigalow is ...|  6.567794|/1AGR1KdIk1llaW98...|65535067|   88.0|Released|He charges $10 bu...|Deuce Bigalow: Ma...|False|           5|       314|10402|      Music|1999-12-10|\n",
      "|10402|95664|Deuce Bigalow Col...|/szTJbYJnm3OPwYxQ...|/5jvRtBbRahwy1dDD...|17000000|tt0205000|               en|Deuce Bigalow: Ma...|Deuce Bigalow is ...|  6.567794|/1AGR1KdIk1llaW98...|65535067|   88.0|Released|He charges $10 bu...|Deuce Bigalow: Ma...|False|           5|       314|10402|      Music|1999-12-10|\n",
      "|10402|95664|Deuce Bigalow Col...|/szTJbYJnm3OPwYxQ...|/5jvRtBbRahwy1dDD...|17000000|tt0205000|               en|Deuce Bigalow: Ma...|Deuce Bigalow is ...|  6.567794|/1AGR1KdIk1llaW98...|65535067|   88.0|Released|He charges $10 bu...|Deuce Bigalow: Ma...|False|           5|       314|10402|      Music|1999-12-10|\n",
      "|10402|95664|Deuce Bigalow Col...|/szTJbYJnm3OPwYxQ...|/5jvRtBbRahwy1dDD...|17000000|tt0205000|               en|Deuce Bigalow: Ma...|Deuce Bigalow is ...|  6.567794|/1AGR1KdIk1llaW98...|65535067|   88.0|Released|He charges $10 bu...|Deuce Bigalow: Ma...|False|           5|       314|10402|      Music|1999-12-10|\n",
      "|10402|95664|Deuce Bigalow Col...|/szTJbYJnm3OPwYxQ...|/5jvRtBbRahwy1dDD...|17000000|tt0205000|               en|Deuce Bigalow: Ma...|Deuce Bigalow is ...|  6.567794|/1AGR1KdIk1llaW98...|65535067|   88.0|Released|He charges $10 bu...|Deuce Bigalow: Ma...|False|           5|       314|10402|      Music|1999-12-10|\n",
      "|10402|95664|Deuce Bigalow Col...|/szTJbYJnm3OPwYxQ...|/5jvRtBbRahwy1dDD...|17000000|tt0205000|               en|Deuce Bigalow: Ma...|Deuce Bigalow is ...|  6.567794|/1AGR1KdIk1llaW98...|65535067|   88.0|Released|He charges $10 bu...|Deuce Bigalow: Ma...|False|           5|       314|10402|      Music|1999-12-10|\n",
      "|10402|95664|Deuce Bigalow Col...|/szTJbYJnm3OPwYxQ...|/5jvRtBbRahwy1dDD...|17000000|tt0205000|               en|Deuce Bigalow: Ma...|Deuce Bigalow is ...|  6.567794|/1AGR1KdIk1llaW98...|65535067|   88.0|Released|He charges $10 bu...|Deuce Bigalow: Ma...|False|           5|       314|10402|      Music|1999-12-10|\n",
      "|10402|95664|Deuce Bigalow Col...|/szTJbYJnm3OPwYxQ...|/5jvRtBbRahwy1dDD...|17000000|tt0205000|               en|Deuce Bigalow: Ma...|Deuce Bigalow is ...|  6.567794|/1AGR1KdIk1llaW98...|65535067|   88.0|Released|He charges $10 bu...|Deuce Bigalow: Ma...|False|           5|       314|10402|      Music|1999-12-10|\n",
      "|10402|95664|Deuce Bigalow Col...|/szTJbYJnm3OPwYxQ...|/5jvRtBbRahwy1dDD...|17000000|tt0205000|               en|Deuce Bigalow: Ma...|Deuce Bigalow is ...|  6.567794|/1AGR1KdIk1llaW98...|65535067|   88.0|Released|He charges $10 bu...|Deuce Bigalow: Ma...|False|           5|       314|10402|      Music|1999-12-10|\n",
      "|10402|95664|Deuce Bigalow Col...|/szTJbYJnm3OPwYxQ...|/5jvRtBbRahwy1dDD...|17000000|tt0205000|               en|Deuce Bigalow: Ma...|Deuce Bigalow is ...|  6.567794|/1AGR1KdIk1llaW98...|65535067|   88.0|Released|He charges $10 bu...|Deuce Bigalow: Ma...|False|           5|       314|10402|      Music|1999-12-10|\n",
      "|10402|95664|Deuce Bigalow Col...|/szTJbYJnm3OPwYxQ...|/5jvRtBbRahwy1dDD...|17000000|tt0205000|               en|Deuce Bigalow: Ma...|Deuce Bigalow is ...|  6.567794|/1AGR1KdIk1llaW98...|65535067|   88.0|Released|He charges $10 bu...|Deuce Bigalow: Ma...|False|           5|       314|10402|      Music|1999-12-10|\n",
      "|10402|95664|Deuce Bigalow Col...|/szTJbYJnm3OPwYxQ...|/5jvRtBbRahwy1dDD...|17000000|tt0205000|               en|Deuce Bigalow: Ma...|Deuce Bigalow is ...|  6.567794|/1AGR1KdIk1llaW98...|65535067|   88.0|Released|He charges $10 bu...|Deuce Bigalow: Ma...|False|           5|       314|10402|      Music|1999-12-10|\n",
      "|10402|95664|Deuce Bigalow Col...|/szTJbYJnm3OPwYxQ...|/5jvRtBbRahwy1dDD...|17000000|tt0205000|               en|Deuce Bigalow: Ma...|Deuce Bigalow is ...|  6.567794|/1AGR1KdIk1llaW98...|65535067|   88.0|Released|He charges $10 bu...|Deuce Bigalow: Ma...|False|           5|       314|10402|      Music|1999-12-10|\n",
      "|10402|95664|Deuce Bigalow Col...|/szTJbYJnm3OPwYxQ...|/5jvRtBbRahwy1dDD...|17000000|tt0205000|               en|Deuce Bigalow: Ma...|Deuce Bigalow is ...|  6.567794|/1AGR1KdIk1llaW98...|65535067|   88.0|Released|He charges $10 bu...|Deuce Bigalow: Ma...|False|           5|       314|10402|      Music|1999-12-10|\n",
      "+-----+-----+--------------------+--------------------+--------------------+--------+---------+-----------------+--------------------+--------------------+----------+--------------------+--------+-------+--------+--------------------+--------------------+-----+------------+----------+-----+-----------+----------+\n",
      "only showing top 20 rows\n",
      "\n"
     ]
    }
   ],
   "source": [
    "# temp = spark.read.parquet(\"/Users/eduardoalberto/LoadFile/parquet/movie02\")\n",
    "# temp.createOrReplaceTempView(\"paquteTb\")\n",
    "# spark.sql(\"drop table if exists dbdev150.tb_movie02\")\n",
    "# spark.sql(\"create table  dbdev150.tb_movie02 as select * from paquteTb \")\n",
    "spark.sql(\"select * from  dbdev150.tb_movie02\").show()\n"
   ]
  }
 ],
 "metadata": {
  "kernelspec": {
   "display_name": "Python 3",
   "language": "python",
   "name": "python3"
  },
  "language_info": {
   "codemirror_mode": {
    "name": "ipython",
    "version": 3
   },
   "file_extension": ".py",
   "mimetype": "text/x-python",
   "name": "python",
   "nbconvert_exporter": "python",
   "pygments_lexer": "ipython3",
   "version": "3.9.6"
  }
 },
 "nbformat": 4,
 "nbformat_minor": 2
}
