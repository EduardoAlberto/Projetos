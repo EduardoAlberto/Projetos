{
 "cells": [
  {
   "cell_type": "code",
   "execution_count": 2,
   "metadata": {},
   "outputs": [
    {
     "name": "stderr",
     "output_type": "stream",
     "text": [
      "25/01/16 22:06:12 WARN Utils: Your hostname, MacBook-Pro-de-Eduardo.local resolves to a loopback address: 127.0.0.1; using 192.168.3.180 instead (on interface en0)\n",
      "25/01/16 22:06:12 WARN Utils: Set SPARK_LOCAL_IP if you need to bind to another address\n",
      "Setting default log level to \"WARN\".\n",
      "To adjust logging level use sc.setLogLevel(newLevel). For SparkR, use setLogLevel(newLevel).\n",
      "25/01/16 22:06:13 WARN NativeCodeLoader: Unable to load native-hadoop library for your platform... using builtin-java classes where applicable\n"
     ]
    },
    {
     "name": "stdout",
     "output_type": "stream",
     "text": [
      "PySpark Version :3.5.4\n",
      "PySpark Version :3.5.4\n"
     ]
    },
    {
     "data": {
      "text/html": [
       "\n",
       "            <div>\n",
       "                <p><b>SparkSession - hive</b></p>\n",
       "                \n",
       "        <div>\n",
       "            <p><b>SparkContext</b></p>\n",
       "\n",
       "            <p><a href=\"http://192.168.3.180:4040\">Spark UI</a></p>\n",
       "\n",
       "            <dl>\n",
       "              <dt>Version</dt>\n",
       "                <dd><code>v3.5.4</code></dd>\n",
       "              <dt>Master</dt>\n",
       "                <dd><code>local[1]</code></dd>\n",
       "              <dt>AppName</dt>\n",
       "                <dd><code>movie_local</code></dd>\n",
       "            </dl>\n",
       "        </div>\n",
       "        \n",
       "            </div>\n",
       "        "
      ],
      "text/plain": [
       "<pyspark.sql.session.SparkSession at 0x10f8419a0>"
      ]
     },
     "execution_count": 2,
     "metadata": {},
     "output_type": "execute_result"
    }
   ],
   "source": [
    "import pyspark \n",
    "from pyspark.sql import SparkSession,Row,DataFrame\n",
    "import pyspark.sql.functions as F\n",
    "from pyspark.sql.types import *\n",
    "\n",
    "\n",
    "spark=SparkSession.builder.master(\"local[1]\")\\\n",
    "        .appName(\"movie_local\")\\\n",
    "        .config(\"spark.driver.extraClassPath\",\"/Users/eduardoalberto/opt/spark-3.5.3/jars/mysql-connector-j-9.1.0.jar\")\\\n",
    "        .config(\"spark.sql.shuffle.partitions\", \"7\") \\\n",
    "        .config(\"spark.sql.warehouse.dir\", \"/Users/eduardoalberto/LoadFile/repository/database/\") \\\n",
    "        .config(\"spark.dynamicAllocation.enabled\", \"true\") \\\n",
    "        .config(\"spark.executor.cores\", \"4\") \\\n",
    "        .config(\"spark.dynamicAllocation.minExecutors\", \"1\") \\\n",
    "        .config(\"spark.dynamicAllocation.maxExecutors\", \"5\") \\\n",
    "        .enableHiveSupport()\\\n",
    "        .getOrCreate()\n",
    "sc = spark.sparkContext\n",
    "spark.sparkContext.setLogLevel(\"OFF\") \n",
    "print('PySpark Version :'+spark.version)\n",
    "print('PySpark Version :'+spark.sparkContext.version)\n",
    "\n",
    "spark"
   ]
  },
  {
   "cell_type": "code",
   "execution_count": null,
   "metadata": {},
   "outputs": [],
   "source": [
    "! ls /Users/eduardoalberto/LoadFile/data_2022*.csv\n",
    "\n"
   ]
  },
  {
   "cell_type": "code",
   "execution_count": 4,
   "metadata": {},
   "outputs": [
    {
     "name": "stdout",
     "output_type": "stream",
     "text": [
      "++\n",
      "||\n",
      "++\n",
      "++\n",
      "\n"
     ]
    }
   ],
   "source": [
    "spark.sql(\" CREATE DATABASE IF NOT EXISTS dbdev150\").show()\n"
   ]
  },
  {
   "cell_type": "code",
   "execution_count": 6,
   "metadata": {},
   "outputs": [
    {
     "name": "stdout",
     "output_type": "stream",
     "text": [
      "+---------+-------------------+---------+---------+-------------------------------------+---------------------------------------+\n",
      "|nconst   |primaryName        |birthYear|deathYear|primaryProfession                    |knownForTitles                         |\n",
      "+---------+-------------------+---------+---------+-------------------------------------+---------------------------------------+\n",
      "|nm0000001|Fred Astaire       |1899     |1987     |soundtrack,actor,miscellaneous       |tt0050419,tt0072308,tt0031983,tt0053137|\n",
      "|nm0000002|Lauren Bacall      |1924     |2014     |actress,soundtrack                   |tt0037382,tt0038355,tt0117057,tt0071877|\n",
      "|nm0000003|Brigitte Bardot    |1934     |\\N       |actress,soundtrack,music_department  |tt0056404,tt0057345,tt0049189,tt0054452|\n",
      "|nm0000004|John Belushi       |1949     |1982     |actor,soundtrack,writer              |tt0077975,tt0072562,tt0080455,tt0078723|\n",
      "|nm0000005|Ingmar Bergman     |1918     |2007     |writer,director,actor                |tt0083922,tt0050976,tt0050986,tt0060827|\n",
      "|nm0000006|Ingrid Bergman     |1915     |1982     |actress,soundtrack,producer          |tt0077711,tt0034583,tt0036855,tt0038109|\n",
      "|nm0000007|Humphrey Bogart    |1899     |1957     |actor,soundtrack,producer            |tt0043265,tt0034583,tt0042593,tt0037382|\n",
      "|nm0000008|Marlon Brando      |1924     |2004     |actor,soundtrack,director            |tt0047296,tt0070849,tt0068646,tt0078788|\n",
      "|nm0000009|Richard Burton     |1925     |1984     |actor,soundtrack,producer            |tt0057877,tt0087803,tt0061184,tt0059749|\n",
      "|nm0000010|James Cagney       |1899     |1986     |actor,soundtrack,director            |tt0029870,tt0042041,tt0055256,tt0035575|\n",
      "|nm0000011|Gary Cooper        |1901     |1961     |actor,soundtrack,producer            |tt0034167,tt0044706,tt0027996,tt0035896|\n",
      "|nm0000012|Bette Davis        |1908     |1989     |actress,soundtrack,make_up_department|tt0031210,tt0035140,tt0042192,tt0056687|\n",
      "|nm0000013|Doris Day          |1922     |2019     |soundtrack,actress,producer          |tt0053172,tt0048317,tt0045591,tt0049470|\n",
      "|nm0000014|Olivia de Havilland|1916     |2020     |actress,soundtrack                   |tt0040806,tt0041452,tt0031381,tt0029843|\n",
      "|nm0000015|James Dean         |1931     |1955     |actor,miscellaneous                  |tt0048545,tt0048028,tt0049261,tt0039123|\n",
      "|nm0000016|Georges Delerue    |1925     |1992     |composer,soundtrack,music_department |tt8847712,tt0069946,tt0091763,tt0096320|\n",
      "|nm0000017|Marlene Dietrich   |1901     |1992     |soundtrack,actress,music_department  |tt0055031,tt0021156,tt0051201,tt0052311|\n",
      "|nm0000018|Kirk Douglas       |1916     |2020     |actor,producer,soundtrack            |tt0080736,tt0054331,tt0049456,tt0043338|\n",
      "|nm0000019|Federico Fellini   |1920     |1993     |writer,director,assistant_director   |tt0053779,tt0071129,tt0050783,tt0056801|\n",
      "|nm0000020|Henry Fonda        |1905     |1982     |actor,producer,soundtrack            |tt0051207,tt0050083,tt0082846,tt0032551|\n",
      "+---------+-------------------+---------+---------+-------------------------------------+---------------------------------------+\n",
      "only showing top 20 rows\n",
      "\n"
     ]
    }
   ],
   "source": [
    "df = spark.read.option(\"delimiter\", \"\\t\").option(\"header\", True).csv('/Users/eduardoalberto/LoadFile/data_2022*.csv')\n",
    "\n",
    "df.show(truncate=False)\n",
    "\n"
   ]
  },
  {
   "cell_type": "code",
   "execution_count": 9,
   "metadata": {},
   "outputs": [
    {
     "name": "stderr",
     "output_type": "stream",
     "text": [
      "                                                                                \r"
     ]
    },
    {
     "ename": "AnalysisException",
     "evalue": "[TABLE_OR_VIEW_ALREADY_EXISTS] Cannot create table or view `dbdev150`.`movie` because it already exists.\nChoose a different name, drop or replace the existing object, or add the IF NOT EXISTS clause to tolerate pre-existing objects.",
     "output_type": "error",
     "traceback": [
      "\u001b[0;31m---------------------------------------------------------------------------\u001b[0m",
      "\u001b[0;31mAnalysisException\u001b[0m                         Traceback (most recent call last)",
      "Cell \u001b[0;32mIn[9], line 19\u001b[0m\n\u001b[1;32m     16\u001b[0m     \u001b[38;5;28;01mreturn\u001b[39;00m dff\n\u001b[1;32m     17\u001b[0m tb \u001b[38;5;241m=\u001b[39m fn_ingest(df)\n\u001b[0;32m---> 19\u001b[0m \u001b[43mtb\u001b[49m\u001b[38;5;241;43m.\u001b[39;49m\u001b[43mlimit\u001b[49m\u001b[43m(\u001b[49m\u001b[38;5;241;43m50000\u001b[39;49m\u001b[43m)\u001b[49m\u001b[38;5;241;43m.\u001b[39;49m\u001b[43mwrite\u001b[49m\u001b[38;5;241;43m.\u001b[39;49m\u001b[43mmode\u001b[49m\u001b[43m(\u001b[49m\u001b[38;5;124;43m\"\u001b[39;49m\u001b[38;5;124;43moverwrite\u001b[39;49m\u001b[38;5;124;43m\"\u001b[39;49m\u001b[43m)\u001b[49m\u001b[38;5;241;43m.\u001b[39;49m\u001b[43msaveAsTable\u001b[49m\u001b[43m(\u001b[49m\u001b[38;5;124;43m\"\u001b[39;49m\u001b[38;5;124;43mdbdev150.movie\u001b[39;49m\u001b[38;5;124;43m\"\u001b[39;49m\u001b[43m)\u001b[49m\n\u001b[1;32m     22\u001b[0m \u001b[38;5;66;03m#tb.limit(50000).write.mode(\"overwrite\").jdbc(\"jdbc:mysql://localhost:3306/myDbUser\", \"myDbUser.movie\",properties={\"user\": \"root\", \"password\": \"mysql\"})\u001b[39;00m\n\u001b[1;32m     23\u001b[0m \n\u001b[1;32m     24\u001b[0m \u001b[38;5;66;03m#104.466.466\u001b[39;00m\n\u001b[1;32m     25\u001b[0m \u001b[38;5;66;03m#3.449.518\u001b[39;00m\n",
      "File \u001b[0;32m~/Library/Python/3.9/lib/python/site-packages/pyspark/sql/readwriter.py:1586\u001b[0m, in \u001b[0;36mDataFrameWriter.saveAsTable\u001b[0;34m(self, name, format, mode, partitionBy, **options)\u001b[0m\n\u001b[1;32m   1584\u001b[0m \u001b[38;5;28;01mif\u001b[39;00m \u001b[38;5;28mformat\u001b[39m \u001b[38;5;129;01mis\u001b[39;00m \u001b[38;5;129;01mnot\u001b[39;00m \u001b[38;5;28;01mNone\u001b[39;00m:\n\u001b[1;32m   1585\u001b[0m     \u001b[38;5;28mself\u001b[39m\u001b[38;5;241m.\u001b[39mformat(\u001b[38;5;28mformat\u001b[39m)\n\u001b[0;32m-> 1586\u001b[0m \u001b[38;5;28;43mself\u001b[39;49m\u001b[38;5;241;43m.\u001b[39;49m\u001b[43m_jwrite\u001b[49m\u001b[38;5;241;43m.\u001b[39;49m\u001b[43msaveAsTable\u001b[49m\u001b[43m(\u001b[49m\u001b[43mname\u001b[49m\u001b[43m)\u001b[49m\n",
      "File \u001b[0;32m~/Library/Python/3.9/lib/python/site-packages/py4j/java_gateway.py:1322\u001b[0m, in \u001b[0;36mJavaMember.__call__\u001b[0;34m(self, *args)\u001b[0m\n\u001b[1;32m   1316\u001b[0m command \u001b[38;5;241m=\u001b[39m proto\u001b[38;5;241m.\u001b[39mCALL_COMMAND_NAME \u001b[38;5;241m+\u001b[39m\\\n\u001b[1;32m   1317\u001b[0m     \u001b[38;5;28mself\u001b[39m\u001b[38;5;241m.\u001b[39mcommand_header \u001b[38;5;241m+\u001b[39m\\\n\u001b[1;32m   1318\u001b[0m     args_command \u001b[38;5;241m+\u001b[39m\\\n\u001b[1;32m   1319\u001b[0m     proto\u001b[38;5;241m.\u001b[39mEND_COMMAND_PART\n\u001b[1;32m   1321\u001b[0m answer \u001b[38;5;241m=\u001b[39m \u001b[38;5;28mself\u001b[39m\u001b[38;5;241m.\u001b[39mgateway_client\u001b[38;5;241m.\u001b[39msend_command(command)\n\u001b[0;32m-> 1322\u001b[0m return_value \u001b[38;5;241m=\u001b[39m \u001b[43mget_return_value\u001b[49m\u001b[43m(\u001b[49m\n\u001b[1;32m   1323\u001b[0m \u001b[43m    \u001b[49m\u001b[43manswer\u001b[49m\u001b[43m,\u001b[49m\u001b[43m \u001b[49m\u001b[38;5;28;43mself\u001b[39;49m\u001b[38;5;241;43m.\u001b[39;49m\u001b[43mgateway_client\u001b[49m\u001b[43m,\u001b[49m\u001b[43m \u001b[49m\u001b[38;5;28;43mself\u001b[39;49m\u001b[38;5;241;43m.\u001b[39;49m\u001b[43mtarget_id\u001b[49m\u001b[43m,\u001b[49m\u001b[43m \u001b[49m\u001b[38;5;28;43mself\u001b[39;49m\u001b[38;5;241;43m.\u001b[39;49m\u001b[43mname\u001b[49m\u001b[43m)\u001b[49m\n\u001b[1;32m   1325\u001b[0m \u001b[38;5;28;01mfor\u001b[39;00m temp_arg \u001b[38;5;129;01min\u001b[39;00m temp_args:\n\u001b[1;32m   1326\u001b[0m     \u001b[38;5;28;01mif\u001b[39;00m \u001b[38;5;28mhasattr\u001b[39m(temp_arg, \u001b[38;5;124m\"\u001b[39m\u001b[38;5;124m_detach\u001b[39m\u001b[38;5;124m\"\u001b[39m):\n",
      "File \u001b[0;32m~/Library/Python/3.9/lib/python/site-packages/pyspark/errors/exceptions/captured.py:185\u001b[0m, in \u001b[0;36mcapture_sql_exception.<locals>.deco\u001b[0;34m(*a, **kw)\u001b[0m\n\u001b[1;32m    181\u001b[0m converted \u001b[38;5;241m=\u001b[39m convert_exception(e\u001b[38;5;241m.\u001b[39mjava_exception)\n\u001b[1;32m    182\u001b[0m \u001b[38;5;28;01mif\u001b[39;00m \u001b[38;5;129;01mnot\u001b[39;00m \u001b[38;5;28misinstance\u001b[39m(converted, UnknownException):\n\u001b[1;32m    183\u001b[0m     \u001b[38;5;66;03m# Hide where the exception came from that shows a non-Pythonic\u001b[39;00m\n\u001b[1;32m    184\u001b[0m     \u001b[38;5;66;03m# JVM exception message.\u001b[39;00m\n\u001b[0;32m--> 185\u001b[0m     \u001b[38;5;28;01mraise\u001b[39;00m converted \u001b[38;5;28;01mfrom\u001b[39;00m \u001b[38;5;28;01mNone\u001b[39;00m\n\u001b[1;32m    186\u001b[0m \u001b[38;5;28;01melse\u001b[39;00m:\n\u001b[1;32m    187\u001b[0m     \u001b[38;5;28;01mraise\u001b[39;00m\n",
      "\u001b[0;31mAnalysisException\u001b[0m: [TABLE_OR_VIEW_ALREADY_EXISTS] Cannot create table or view `dbdev150`.`movie` because it already exists.\nChoose a different name, drop or replace the existing object, or add the IF NOT EXISTS clause to tolerate pre-existing objects."
     ]
    }
   ],
   "source": [
    "import pyspark \n",
    "from pyspark.sql import SparkSession,Row,DataFrame\n",
    "import pyspark.sql.functions as F\n",
    "from pyspark.sql.types import *\n",
    "\n",
    "def fn_ingest (df: DataFrame) -> DataFrame :\n",
    "\n",
    "    dfs = df.filter(\" deathYear <> r'\\\\N' and deathYear <> r'\\\\N'  \")\\\n",
    "            .withColumn('profession_array',F.explode((F.split(F.col(\"primaryProfession\"), \",\"))))\\\n",
    "            .withColumn('knownForTitles_array',F.explode((F.split(F.col(\"knownForTitles\"),\",\"))))\\\n",
    "            .drop_duplicates(['profession_array','knownForTitles_array'])\n",
    "\n",
    "    \n",
    "    dff = dfs.filter(\"profession_array <> r'\\\\N' and knownForTitles_array <> r'\\\\N'\")\n",
    "  \n",
    "    return dff\n",
    "tb = fn_ingest(df)\n",
    "\n",
    "tb.limit(50000).write.mode(\"overwrite\").saveAsTable(\"dbdev150.movie\")\n",
    "\n",
    "\n",
    "#tb.limit(50000).write.mode(\"overwrite\").jdbc(\"jdbc:mysql://localhost:3306/myDbUser\", \"myDbUser.movie\",properties={\"user\": \"root\", \"password\": \"mysql\"})\n",
    "\n",
    "#104.466.466\n",
    "#3.449.518\n"
   ]
  },
  {
   "cell_type": "code",
   "execution_count": 23,
   "metadata": {},
   "outputs": [
    {
     "name": "stderr",
     "output_type": "stream",
     "text": [
      "                                                                                \r"
     ]
    },
    {
     "name": "stdout",
     "output_type": "stream",
     "text": [
      "+----------+-----------+--------------------+--------------------+-----------------+--------------+----------------+--------------------+\n",
      "|    nconst|primaryName|           birthYear|           deathYear|primaryProfession|knownForTitles|profession_array|knownForTitles_array|\n",
      "+----------+-----------+--------------------+--------------------+-----------------+--------------+----------------+--------------------+\n",
      "|tt14495706|      short|   La Rosace Magique|   La Rosace Magique|                0|          1877|               0|                1877|\n",
      "|tt12592084|      short|   Le singe musicien|   Le singe musicien|                0|          1878|               0|                1878|\n",
      "|tt15245006|      short|The 1882 Transit ...|The 1882 Transit ...|                0|          1882|               0|                1882|\n",
      "| tt5459794|      short|     Buffalo Running|     Buffalo Running|                0|          1883|               0|                1883|\n",
      "| tt8588366|      short|     L'homme machine|     L'homme machine|                0|          1885|               0|                1885|\n",
      "| tt2075247|      short|Man Walking Aroun...|Man Walking Aroun...|                0|          1887|               0|                1887|\n",
      "| tt0343112|      short|Traffic Crossing ...|Traffic Crossing ...|                0|          1888|               0|                1888|\n",
      "| tt0466876|      short|Leisurely Pedestr...|Leisurely Pedestr...|                0|          1889|               0|                1889|\n",
      "| tt0361921|      short| Monkeyshines, No. 1| Monkeyshines, No. 1|                0|          1890|               0|                1890|\n",
      "| tt0241373|      short|    Dickson Greeting|    Dickson Greeting|                0|          1891|               0|                1891|\n",
      "| tt0000005|      short|    Blacksmith Scene|    Blacksmith Scene|                0|          1893|               0|                1893|\n",
      "| tt0000001|      short|          Carmencita|          Carmencita|                0|          1894|               0|                1894|\n",
      "| tt0000012|      short|The Arrival of a ...|L'arrivée d'un tr...|                0|          1896|               0|                1896|\n",
      "| tt0000041|      short|   Bataille de neige|   Bataille de neige|                0|          1897|               0|                1897|\n",
      "| tt0000019|      short|    The Clown Barber|    The Clown Barber|                0|          1898|               0|                1898|\n",
      "| tt0000184|      short|Cripple Creek Bar...|Cripple Creek Bar...|                0|          1899|               0|                1899|\n",
      "| tt0000160|      short|The Last Days of ...|The Last Days of ...|                0|          1900|               0|                1900|\n",
      "| tt0000220|      short|The Artist and th...|The Artist and th...|                0|          1901|               0|                1901|\n",
      "| tt0000476|      short|       Après la fête|       Après la fête|                0|          1904|               0|                1904|\n",
      "| tt0000473|      short| La valise enchantée| La valise enchantée|                0|          1905|               0|                1905|\n",
      "+----------+-----------+--------------------+--------------------+-----------------+--------------+----------------+--------------------+\n",
      "only showing top 20 rows\n",
      "\n",
      "+----+----+----+-----------+-------------+--------+---------+-----------------+--------------+--------------------+----------+--------------------+----------+--------+-------+--------+------------------+--------------+-----+------------+----------+----+-----------+\n",
      "|id01|  id|name|poster_path|backdrop_path|  budget|  imdb_id|original_language|original_title|            overview|popularity|         path_poster|dt_release| revenue|runtime|  status|           tagline|         title|video|vote_average|vote_count|id02|name_geners|\n",
      "+----+----+----+-----------+-------------+--------+---------+-----------------+--------------+--------------------+----------+--------------------+----------+--------+-------+--------+------------------+--------------+-----+------------+----------+----+-----------+\n",
      "|  28|NULL|NULL|       NULL|         NULL|31500000|tt0078788|               en|Apocalypse Now|At the height of ...|   13.5963|/jcvJ2xcVWU9Wh0hZ...|1979-08-15|89460381|  153.0|Released|This is the end...|Apocalypse Now|False|           8|      2112|  28|     Action|\n",
      "|  28|NULL|NULL|       NULL|         NULL|31500000|tt0078788|               en|Apocalypse Now|At the height of ...|   13.5963|/jcvJ2xcVWU9Wh0hZ...|1979-08-15|89460381|  153.0|Released|This is the end...|Apocalypse Now|False|           8|      2112|  28|     Action|\n",
      "|  28|NULL|NULL|       NULL|         NULL|31500000|tt0078788|               en|Apocalypse Now|At the height of ...|   13.5963|/jcvJ2xcVWU9Wh0hZ...|1979-08-15|89460381|  153.0|Released|This is the end...|Apocalypse Now|False|           8|      2112|  28|     Action|\n",
      "|  28|NULL|NULL|       NULL|         NULL|31500000|tt0078788|               en|Apocalypse Now|At the height of ...|   13.5963|/jcvJ2xcVWU9Wh0hZ...|1979-08-15|89460381|  153.0|Released|This is the end...|Apocalypse Now|False|           8|      2112|  28|     Action|\n",
      "|  28|NULL|NULL|       NULL|         NULL|31500000|tt0078788|               en|Apocalypse Now|At the height of ...|   13.5963|/jcvJ2xcVWU9Wh0hZ...|1979-08-15|89460381|  153.0|Released|This is the end...|Apocalypse Now|False|           8|      2112|  28|     Action|\n",
      "|  28|NULL|NULL|       NULL|         NULL|31500000|tt0078788|               en|Apocalypse Now|At the height of ...|   13.5963|/jcvJ2xcVWU9Wh0hZ...|1979-08-15|89460381|  153.0|Released|This is the end...|Apocalypse Now|False|           8|      2112|  28|     Action|\n",
      "|  28|NULL|NULL|       NULL|         NULL|31500000|tt0078788|               en|Apocalypse Now|At the height of ...|   13.5963|/jcvJ2xcVWU9Wh0hZ...|1979-08-15|89460381|  153.0|Released|This is the end...|Apocalypse Now|False|           8|      2112|  28|     Action|\n",
      "|  28|NULL|NULL|       NULL|         NULL|31500000|tt0078788|               en|Apocalypse Now|At the height of ...|   13.5963|/jcvJ2xcVWU9Wh0hZ...|1979-08-15|89460381|  153.0|Released|This is the end...|Apocalypse Now|False|           8|      2112|  28|     Action|\n",
      "|  28|NULL|NULL|       NULL|         NULL|31500000|tt0078788|               en|Apocalypse Now|At the height of ...|   13.5963|/jcvJ2xcVWU9Wh0hZ...|1979-08-15|89460381|  153.0|Released|This is the end...|Apocalypse Now|False|           8|      2112|  28|     Action|\n",
      "|  28|NULL|NULL|       NULL|         NULL|31500000|tt0078788|               en|Apocalypse Now|At the height of ...|   13.5963|/jcvJ2xcVWU9Wh0hZ...|1979-08-15|89460381|  153.0|Released|This is the end...|Apocalypse Now|False|           8|      2112|  28|     Action|\n",
      "|  28|NULL|NULL|       NULL|         NULL|31500000|tt0078788|               en|Apocalypse Now|At the height of ...|   13.5963|/jcvJ2xcVWU9Wh0hZ...|1979-08-15|89460381|  153.0|Released|This is the end...|Apocalypse Now|False|           8|      2112|  28|     Action|\n",
      "|  28|NULL|NULL|       NULL|         NULL|31500000|tt0078788|               en|Apocalypse Now|At the height of ...|   13.5963|/jcvJ2xcVWU9Wh0hZ...|1979-08-15|89460381|  153.0|Released|This is the end...|Apocalypse Now|False|           8|      2112|  28|     Action|\n",
      "|  28|NULL|NULL|       NULL|         NULL|31500000|tt0078788|               en|Apocalypse Now|At the height of ...|   13.5963|/jcvJ2xcVWU9Wh0hZ...|1979-08-15|89460381|  153.0|Released|This is the end...|Apocalypse Now|False|           8|      2112|  28|     Action|\n",
      "|  28|NULL|NULL|       NULL|         NULL|31500000|tt0078788|               en|Apocalypse Now|At the height of ...|   13.5963|/jcvJ2xcVWU9Wh0hZ...|1979-08-15|89460381|  153.0|Released|This is the end...|Apocalypse Now|False|           8|      2112|  28|     Action|\n",
      "|  28|NULL|NULL|       NULL|         NULL|31500000|tt0078788|               en|Apocalypse Now|At the height of ...|   13.5963|/jcvJ2xcVWU9Wh0hZ...|1979-08-15|89460381|  153.0|Released|This is the end...|Apocalypse Now|False|           8|      2112|  28|     Action|\n",
      "|  28|NULL|NULL|       NULL|         NULL|31500000|tt0078788|               en|Apocalypse Now|At the height of ...|   13.5963|/jcvJ2xcVWU9Wh0hZ...|1979-08-15|89460381|  153.0|Released|This is the end...|Apocalypse Now|False|           8|      2112|  28|     Action|\n",
      "|  28|NULL|NULL|       NULL|         NULL|31500000|tt0078788|               en|Apocalypse Now|At the height of ...|   13.5963|/jcvJ2xcVWU9Wh0hZ...|1979-08-15|89460381|  153.0|Released|This is the end...|Apocalypse Now|False|           8|      2112|  28|     Action|\n",
      "|  28|NULL|NULL|       NULL|         NULL|31500000|tt0078788|               en|Apocalypse Now|At the height of ...|   13.5963|/jcvJ2xcVWU9Wh0hZ...|1979-08-15|89460381|  153.0|Released|This is the end...|Apocalypse Now|False|           8|      2112|  28|     Action|\n",
      "|  28|NULL|NULL|       NULL|         NULL|31500000|tt0078788|               en|Apocalypse Now|At the height of ...|   13.5963|/jcvJ2xcVWU9Wh0hZ...|1979-08-15|89460381|  153.0|Released|This is the end...|Apocalypse Now|False|           8|      2112|  28|     Action|\n",
      "|  28|NULL|NULL|       NULL|         NULL|31500000|tt0078788|               en|Apocalypse Now|At the height of ...|   13.5963|/jcvJ2xcVWU9Wh0hZ...|1979-08-15|89460381|  153.0|Released|This is the end...|Apocalypse Now|False|           8|      2112|  28|     Action|\n",
      "+----+----+----+-----------+-------------+--------+---------+-----------------+--------------+--------------------+----------+--------------------+----------+--------+-------+--------+------------------+--------------+-----+------------+----------+----+-----------+\n",
      "only showing top 20 rows\n",
      "\n"
     ]
    }
   ],
   "source": [
    "df = spark.table(\"dbdev150.movie\")\n",
    "\n",
    "df.write.mode(\"overwrite\").parquet(\"/Users/eduardoalberto/LoadFile/parquet/movie\")\n",
    "\n",
    "\n",
    "\n",
    "dfs = spark.read.option(\"delimiter\", \";\").option(\"header\", True).csv(\"/Users/eduardoalberto/LoadFile/part-00000-055103f0-b275-4e27-b667-0c2c25d0636a-c000.csv\")\n",
    "dfs.write.partitionBy(\"dt_release\").mode(\"overwrite\").parquet(\"/Users/eduardoalberto/LoadFile/parquet/movie02\")\n",
    "# df.write.parquet(\"/Users/eduardoalberto/LoadFile/parquet/arqui02/\")\n",
    "\n",
    "df.show()\n",
    "\n",
    "dfs.show()\n",
    "\n",
    "\n"
   ]
  }
 ],
 "metadata": {
  "kernelspec": {
   "display_name": "Python 3",
   "language": "python",
   "name": "python3"
  },
  "language_info": {
   "codemirror_mode": {
    "name": "ipython",
    "version": 3
   },
   "file_extension": ".py",
   "mimetype": "text/x-python",
   "name": "python",
   "nbconvert_exporter": "python",
   "pygments_lexer": "ipython3",
   "version": "3.9.6"
  }
 },
 "nbformat": 4,
 "nbformat_minor": 2
}
