{
 "cells": [
  {
   "cell_type": "code",
   "execution_count": 1,
   "metadata": {},
   "outputs": [
    {
     "name": "stderr",
     "output_type": "stream",
     "text": [
      "25/01/20 23:36:55 WARN Utils: Your hostname, MacBook-Pro-de-Eduardo.local resolves to a loopback address: 127.0.0.1; using 192.168.3.180 instead (on interface en0)\n",
      "25/01/20 23:36:55 WARN Utils: Set SPARK_LOCAL_IP if you need to bind to another address\n",
      "Setting default log level to \"WARN\".\n",
      "To adjust logging level use sc.setLogLevel(newLevel). For SparkR, use setLogLevel(newLevel).\n",
      "25/01/20 23:36:56 WARN NativeCodeLoader: Unable to load native-hadoop library for your platform... using builtin-java classes where applicable\n"
     ]
    },
    {
     "name": "stdout",
     "output_type": "stream",
     "text": [
      "PySpark Version :3.5.4\n",
      "PySpark Version :3.5.4\n"
     ]
    },
    {
     "data": {
      "text/html": [
       "\n",
       "            <div>\n",
       "                <p><b>SparkSession - hive</b></p>\n",
       "                \n",
       "        <div>\n",
       "            <p><b>SparkContext</b></p>\n",
       "\n",
       "            <p><a href=\"http://192.168.3.180:4040\">Spark UI</a></p>\n",
       "\n",
       "            <dl>\n",
       "              <dt>Version</dt>\n",
       "                <dd><code>v3.5.4</code></dd>\n",
       "              <dt>Master</dt>\n",
       "                <dd><code>local[1]</code></dd>\n",
       "              <dt>AppName</dt>\n",
       "                <dd><code>movie_local</code></dd>\n",
       "            </dl>\n",
       "        </div>\n",
       "        \n",
       "            </div>\n",
       "        "
      ],
      "text/plain": [
       "<pyspark.sql.session.SparkSession at 0x109165790>"
      ]
     },
     "execution_count": 1,
     "metadata": {},
     "output_type": "execute_result"
    }
   ],
   "source": [
    "import pyspark \n",
    "from pyspark.sql import SparkSession,Row,DataFrame\n",
    "import pyspark.sql.functions as F\n",
    "from pyspark.sql.types import *\n",
    "\n",
    "\n",
    "spark=SparkSession.builder.master(\"local[1]\")\\\n",
    "        .appName(\"movie_local\")\\\n",
    "        .config(\"spark.driver.extraClassPath\",\"/Users/eduardoalberto/opt/spark-3.5.3/jars/mysql-connector-j-9.1.0.jar\")\\\n",
    "        .config(\"spark.sql.shuffle.partitions\", \"7\") \\\n",
    "        .config(\"spark.sql.warehouse.dir\", \"/Users/eduardoalberto/LoadFile/repository/database/\") \\\n",
    "        .config(\"spark.dynamicAllocation.enabled\", \"true\") \\\n",
    "        .config(\"spark.executor.cores\", \"4\") \\\n",
    "        .config(\"spark.dynamicAllocation.minExecutors\", \"1\") \\\n",
    "        .config(\"spark.dynamicAllocation.maxExecutors\", \"5\") \\\n",
    "        .enableHiveSupport()\\\n",
    "        .getOrCreate()\n",
    "sc = spark.sparkContext\n",
    "spark.sparkContext.setLogLevel(\"OFF\") \n",
    "print('PySpark Version :'+spark.version)\n",
    "print('PySpark Version :'+spark.sparkContext.version)\n",
    "\n",
    "spark"
   ]
  },
  {
   "cell_type": "code",
   "execution_count": 2,
   "metadata": {},
   "outputs": [
    {
     "name": "stdout",
     "output_type": "stream",
     "text": [
      "\u001b[31m/Users/eduardoalberto/LoadFile/data_20220920.csv\u001b[m\u001b[m\n",
      "\u001b[31m/Users/eduardoalberto/LoadFile/data_20220921.csv\u001b[m\u001b[m\n",
      "\u001b[31m/Users/eduardoalberto/LoadFile/data_20220922.csv\u001b[m\u001b[m\n",
      "\u001b[31m/Users/eduardoalberto/LoadFile/data_20220923.csv\u001b[m\u001b[m\n",
      "\u001b[31m/Users/eduardoalberto/LoadFile/data_20220924.csv\u001b[m\u001b[m\n",
      "\u001b[31m/Users/eduardoalberto/LoadFile/data_20220925.csv\u001b[m\u001b[m\n",
      "\u001b[31m/Users/eduardoalberto/LoadFile/data_20220926.csv\u001b[m\u001b[m\n"
     ]
    }
   ],
   "source": [
    "! ls /Users/eduardoalberto/LoadFile/data_2022*.csv\n",
    "\n"
   ]
  },
  {
   "cell_type": "code",
   "execution_count": null,
   "metadata": {},
   "outputs": [],
   "source": [
    "spark.sql(\" CREATE DATABASE IF NOT EXISTS dbdev150\").show()\n"
   ]
  },
  {
   "cell_type": "code",
   "execution_count": null,
   "metadata": {},
   "outputs": [],
   "source": [
    "df = spark.read.option(\"delimiter\", \"\\t\").option(\"header\", True).csv('/Users/eduardoalberto/LoadFile/data_2022*.csv')\n",
    "\n",
    "df.show(truncate=False)\n",
    "\n"
   ]
  },
  {
   "cell_type": "code",
   "execution_count": null,
   "metadata": {},
   "outputs": [],
   "source": [
    "import pyspark \n",
    "from pyspark.sql import SparkSession,Row,DataFrame\n",
    "import pyspark.sql.functions as F\n",
    "from pyspark.sql.types import *\n",
    "\n",
    "def fn_ingest (df: DataFrame) -> DataFrame :\n",
    "\n",
    "    dfs = df.filter(\" deathYear <> r'\\\\N' and deathYear <> r'\\\\N'  \")\\\n",
    "            .withColumn('profession_array',F.explode((F.split(F.col(\"primaryProfession\"), \",\"))))\\\n",
    "            .withColumn('knownForTitles_array',F.explode((F.split(F.col(\"knownForTitles\"),\",\"))))\\\n",
    "            .drop_duplicates(['profession_array','knownForTitles_array'])\n",
    "\n",
    "    \n",
    "    dff = dfs.filter(\"profession_array <> r'\\\\N' and knownForTitles_array <> r'\\\\N'\")\n",
    "  \n",
    "    return dff\n",
    "tb = fn_ingest(df)\n",
    "\n",
    "tb.limit(50000).write.mode(\"overwrite\").saveAsTable(\"dbdev150.movie\")\n",
    "\n",
    "\n",
    "#tb.limit(50000).write.mode(\"overwrite\").jdbc(\"jdbc:mysql://localhost:3306/myDbUser\", \"myDbUser.movie\",properties={\"user\": \"root\", \"password\": \"mysql\"})\n",
    "\n",
    "#104.466.466\n",
    "#3.449.518\n"
   ]
  },
  {
   "cell_type": "code",
   "execution_count": null,
   "metadata": {},
   "outputs": [],
   "source": [
    "df = spark.table(\"dbdev150.movie\")\n",
    "\n",
    "df.write.mode(\"overwrite\").parquet(\"/Users/eduardoalberto/LoadFile/parquet/movie\")\n",
    "\n",
    "\n",
    "\n",
    "dfs = spark.read.option(\"delimiter\", \";\").option(\"header\", True).csv(\"/Users/eduardoalberto/LoadFile/part-00000-055103f0-b275-4e27-b667-0c2c25d0636a-c000.csv\")\n",
    "dfs.write.partitionBy(\"dt_release\").mode(\"overwrite\").parquet(\"/Users/eduardoalberto/LoadFile/parquet/movie02\")\n",
    "# df.write.parquet(\"/Users/eduardoalberto/LoadFile/parquet/arqui02/\")\n",
    "\n",
    "df.show()\n",
    "\n",
    "dfs.show()\n",
    "\n",
    "\n"
   ]
  },
  {
   "cell_type": "code",
   "execution_count": 3,
   "metadata": {},
   "outputs": [
    {
     "name": "stderr",
     "output_type": "stream",
     "text": [
      "                                                                                \r"
     ]
    },
    {
     "name": "stdout",
     "output_type": "stream",
     "text": [
      "+-----+-----+--------------------+--------------------+--------------------+--------+---------+-----------------+--------------------+--------------------+----------+--------------------+--------+-------+--------+--------------------+--------------------+-----+------------+----------+-----+-----------+----------+\n",
      "| id01|   id|                name|         poster_path|       backdrop_path|  budget|  imdb_id|original_language|      original_title|            overview|popularity|         path_poster| revenue|runtime|  status|             tagline|               title|video|vote_average|vote_count| id02|name_geners|dt_release|\n",
      "+-----+-----+--------------------+--------------------+--------------------+--------+---------+-----------------+--------------------+--------------------+----------+--------------------+--------+-------+--------+--------------------+--------------------+-----+------------+----------+-----+-----------+----------+\n",
      "|10402|95664|Deuce Bigalow Col...|/szTJbYJnm3OPwYxQ...|/5jvRtBbRahwy1dDD...|17000000|tt0205000|               en|Deuce Bigalow: Ma...|Deuce Bigalow is ...|  6.567794|/1AGR1KdIk1llaW98...|65535067|   88.0|Released|He charges $10 bu...|Deuce Bigalow: Ma...|False|           5|       314|10402|      Music|1999-12-10|\n",
      "|10402|95664|Deuce Bigalow Col...|/szTJbYJnm3OPwYxQ...|/5jvRtBbRahwy1dDD...|17000000|tt0205000|               en|Deuce Bigalow: Ma...|Deuce Bigalow is ...|  6.567794|/1AGR1KdIk1llaW98...|65535067|   88.0|Released|He charges $10 bu...|Deuce Bigalow: Ma...|False|           5|       314|10402|      Music|1999-12-10|\n",
      "|10402|95664|Deuce Bigalow Col...|/szTJbYJnm3OPwYxQ...|/5jvRtBbRahwy1dDD...|17000000|tt0205000|               en|Deuce Bigalow: Ma...|Deuce Bigalow is ...|  6.567794|/1AGR1KdIk1llaW98...|65535067|   88.0|Released|He charges $10 bu...|Deuce Bigalow: Ma...|False|           5|       314|10402|      Music|1999-12-10|\n",
      "|10402|95664|Deuce Bigalow Col...|/szTJbYJnm3OPwYxQ...|/5jvRtBbRahwy1dDD...|17000000|tt0205000|               en|Deuce Bigalow: Ma...|Deuce Bigalow is ...|  6.567794|/1AGR1KdIk1llaW98...|65535067|   88.0|Released|He charges $10 bu...|Deuce Bigalow: Ma...|False|           5|       314|10402|      Music|1999-12-10|\n",
      "|10402|95664|Deuce Bigalow Col...|/szTJbYJnm3OPwYxQ...|/5jvRtBbRahwy1dDD...|17000000|tt0205000|               en|Deuce Bigalow: Ma...|Deuce Bigalow is ...|  6.567794|/1AGR1KdIk1llaW98...|65535067|   88.0|Released|He charges $10 bu...|Deuce Bigalow: Ma...|False|           5|       314|10402|      Music|1999-12-10|\n",
      "|10402|95664|Deuce Bigalow Col...|/szTJbYJnm3OPwYxQ...|/5jvRtBbRahwy1dDD...|17000000|tt0205000|               en|Deuce Bigalow: Ma...|Deuce Bigalow is ...|  6.567794|/1AGR1KdIk1llaW98...|65535067|   88.0|Released|He charges $10 bu...|Deuce Bigalow: Ma...|False|           5|       314|10402|      Music|1999-12-10|\n",
      "|10402|95664|Deuce Bigalow Col...|/szTJbYJnm3OPwYxQ...|/5jvRtBbRahwy1dDD...|17000000|tt0205000|               en|Deuce Bigalow: Ma...|Deuce Bigalow is ...|  6.567794|/1AGR1KdIk1llaW98...|65535067|   88.0|Released|He charges $10 bu...|Deuce Bigalow: Ma...|False|           5|       314|10402|      Music|1999-12-10|\n",
      "|10402|95664|Deuce Bigalow Col...|/szTJbYJnm3OPwYxQ...|/5jvRtBbRahwy1dDD...|17000000|tt0205000|               en|Deuce Bigalow: Ma...|Deuce Bigalow is ...|  6.567794|/1AGR1KdIk1llaW98...|65535067|   88.0|Released|He charges $10 bu...|Deuce Bigalow: Ma...|False|           5|       314|10402|      Music|1999-12-10|\n",
      "|10402|95664|Deuce Bigalow Col...|/szTJbYJnm3OPwYxQ...|/5jvRtBbRahwy1dDD...|17000000|tt0205000|               en|Deuce Bigalow: Ma...|Deuce Bigalow is ...|  6.567794|/1AGR1KdIk1llaW98...|65535067|   88.0|Released|He charges $10 bu...|Deuce Bigalow: Ma...|False|           5|       314|10402|      Music|1999-12-10|\n",
      "|10402|95664|Deuce Bigalow Col...|/szTJbYJnm3OPwYxQ...|/5jvRtBbRahwy1dDD...|17000000|tt0205000|               en|Deuce Bigalow: Ma...|Deuce Bigalow is ...|  6.567794|/1AGR1KdIk1llaW98...|65535067|   88.0|Released|He charges $10 bu...|Deuce Bigalow: Ma...|False|           5|       314|10402|      Music|1999-12-10|\n",
      "|10402|95664|Deuce Bigalow Col...|/szTJbYJnm3OPwYxQ...|/5jvRtBbRahwy1dDD...|17000000|tt0205000|               en|Deuce Bigalow: Ma...|Deuce Bigalow is ...|  6.567794|/1AGR1KdIk1llaW98...|65535067|   88.0|Released|He charges $10 bu...|Deuce Bigalow: Ma...|False|           5|       314|10402|      Music|1999-12-10|\n",
      "|10402|95664|Deuce Bigalow Col...|/szTJbYJnm3OPwYxQ...|/5jvRtBbRahwy1dDD...|17000000|tt0205000|               en|Deuce Bigalow: Ma...|Deuce Bigalow is ...|  6.567794|/1AGR1KdIk1llaW98...|65535067|   88.0|Released|He charges $10 bu...|Deuce Bigalow: Ma...|False|           5|       314|10402|      Music|1999-12-10|\n",
      "|10402|95664|Deuce Bigalow Col...|/szTJbYJnm3OPwYxQ...|/5jvRtBbRahwy1dDD...|17000000|tt0205000|               en|Deuce Bigalow: Ma...|Deuce Bigalow is ...|  6.567794|/1AGR1KdIk1llaW98...|65535067|   88.0|Released|He charges $10 bu...|Deuce Bigalow: Ma...|False|           5|       314|10402|      Music|1999-12-10|\n",
      "|10402|95664|Deuce Bigalow Col...|/szTJbYJnm3OPwYxQ...|/5jvRtBbRahwy1dDD...|17000000|tt0205000|               en|Deuce Bigalow: Ma...|Deuce Bigalow is ...|  6.567794|/1AGR1KdIk1llaW98...|65535067|   88.0|Released|He charges $10 bu...|Deuce Bigalow: Ma...|False|           5|       314|10402|      Music|1999-12-10|\n",
      "|10402|95664|Deuce Bigalow Col...|/szTJbYJnm3OPwYxQ...|/5jvRtBbRahwy1dDD...|17000000|tt0205000|               en|Deuce Bigalow: Ma...|Deuce Bigalow is ...|  6.567794|/1AGR1KdIk1llaW98...|65535067|   88.0|Released|He charges $10 bu...|Deuce Bigalow: Ma...|False|           5|       314|10402|      Music|1999-12-10|\n",
      "|10402|95664|Deuce Bigalow Col...|/szTJbYJnm3OPwYxQ...|/5jvRtBbRahwy1dDD...|17000000|tt0205000|               en|Deuce Bigalow: Ma...|Deuce Bigalow is ...|  6.567794|/1AGR1KdIk1llaW98...|65535067|   88.0|Released|He charges $10 bu...|Deuce Bigalow: Ma...|False|           5|       314|10402|      Music|1999-12-10|\n",
      "|10402|95664|Deuce Bigalow Col...|/szTJbYJnm3OPwYxQ...|/5jvRtBbRahwy1dDD...|17000000|tt0205000|               en|Deuce Bigalow: Ma...|Deuce Bigalow is ...|  6.567794|/1AGR1KdIk1llaW98...|65535067|   88.0|Released|He charges $10 bu...|Deuce Bigalow: Ma...|False|           5|       314|10402|      Music|1999-12-10|\n",
      "|10402|95664|Deuce Bigalow Col...|/szTJbYJnm3OPwYxQ...|/5jvRtBbRahwy1dDD...|17000000|tt0205000|               en|Deuce Bigalow: Ma...|Deuce Bigalow is ...|  6.567794|/1AGR1KdIk1llaW98...|65535067|   88.0|Released|He charges $10 bu...|Deuce Bigalow: Ma...|False|           5|       314|10402|      Music|1999-12-10|\n",
      "|10402|95664|Deuce Bigalow Col...|/szTJbYJnm3OPwYxQ...|/5jvRtBbRahwy1dDD...|17000000|tt0205000|               en|Deuce Bigalow: Ma...|Deuce Bigalow is ...|  6.567794|/1AGR1KdIk1llaW98...|65535067|   88.0|Released|He charges $10 bu...|Deuce Bigalow: Ma...|False|           5|       314|10402|      Music|1999-12-10|\n",
      "|10402|95664|Deuce Bigalow Col...|/szTJbYJnm3OPwYxQ...|/5jvRtBbRahwy1dDD...|17000000|tt0205000|               en|Deuce Bigalow: Ma...|Deuce Bigalow is ...|  6.567794|/1AGR1KdIk1llaW98...|65535067|   88.0|Released|He charges $10 bu...|Deuce Bigalow: Ma...|False|           5|       314|10402|      Music|1999-12-10|\n",
      "+-----+-----+--------------------+--------------------+--------------------+--------+---------+-----------------+--------------------+--------------------+----------+--------------------+--------+-------+--------+--------------------+--------------------+-----+------------+----------+-----+-----------+----------+\n",
      "only showing top 20 rows\n",
      "\n"
     ]
    }
   ],
   "source": [
    "# temp = spark.read.parquet(\"/Users/eduardoalberto/LoadFile/parquet/movie02\")\n",
    "# temp.createOrReplaceTempView(\"paquteTb\")\n",
    "# spark.sql(\"drop table if exists dbdev150.tb_movie02\")\n",
    "# spark.sql(\"create table  dbdev150.tb_movie02 as select * from paquteTb \")\n",
    "spark.sql(\"select * from  dbdev150.tb_movie02\").show()\n"
   ]
  }
 ],
 "metadata": {
  "kernelspec": {
   "display_name": "Python 3",
   "language": "python",
   "name": "python3"
  },
  "language_info": {
   "codemirror_mode": {
    "name": "ipython",
    "version": 3
   },
   "file_extension": ".py",
   "mimetype": "text/x-python",
   "name": "python",
   "nbconvert_exporter": "python",
   "pygments_lexer": "ipython3",
   "version": "3.9.6"
  }
 },
 "nbformat": 4,
 "nbformat_minor": 2
}
