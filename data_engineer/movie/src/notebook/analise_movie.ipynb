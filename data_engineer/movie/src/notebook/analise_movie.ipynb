{
 "cells": [
  {
   "cell_type": "code",
   "execution_count": null,
   "metadata": {},
   "outputs": [],
   "source": [
    "import pyspark \n",
    "from pyspark.sql import SparkSession\n",
    "import pyspark.sql.functions as F\n",
    "from pyspark.sql.types import *\n",
    "\n",
    "\n",
    "spark=SparkSession.builder.master(\"yarn\")\\\n",
    "        .appName(\"movie\")\\\n",
    "        .config(\"spark.driver.extraClassPath\",\"/Users/eduardoalberto/opt/spark-3.5.3/jars/mysql-connector-j-9.1.0.jar\")\\\n",
    "        .config(\"spark.sql.shuffle.partitions\", \"7\") \\\n",
    "        .config(\"spark.sql.warehouse.dir\", \"hdfs:/user/bigdata/repository/database/\") \\\n",
    "        .config(\"spark.dynamicAllocation.enabled\", \"true\") \\\n",
    "        .config(\"spark.executor.cores\", \"4\") \\\n",
    "        .config(\"spark.dynamicAllocation.minExecutors\", \"1\") \\\n",
    "        .config(\"spark.dynamicAllocation.maxExecutors\", \"5\") \\\n",
    "        .getOrCreate()\n",
    "sc = spark.sparkContext\n",
    "spark.sparkContext.setLogLevel(\"OFF\") \n",
    "print('PySpark Version :'+spark.version)\n",
    "print('PySpark Version :'+spark.sparkContext.version)\n",
    "\n",
    "spark"
   ]
  },
  {
   "cell_type": "code",
   "execution_count": null,
   "metadata": {},
   "outputs": [],
   "source": [
    "df = spark.read.option(\"delimiter\", \"\\t\").option(\"header\", True).csv('hdfs:/user/bigdata/repository/input/data_2022*.csv')\n",
    "df.show(truncate=False)"
   ]
  },
  {
   "cell_type": "code",
   "execution_count": null,
   "metadata": {},
   "outputs": [],
   "source": [
    "# df.filter(\"primaryProfession in ('soundtrack')\").show()\n",
    "df = (df.filter(\" deathYear <> r'\\\\N' and deathYear <> r'\\\\N'  \")\n",
    "        .withColumn('profession_array',(F.split(F.col(\"primaryProfession\"), \",\")))\n",
    "        .withColumn('knownForTitles_array',(F.split(F.col(\"knownForTitles\"),\",\")))\n",
    "\n",
    "        \n",
    "\n",
    ")\n",
    "dfs = df.select(F.col(\"nconst\"),\n",
    "                F.col(\"primaryName\"),\n",
    "                F.col(\"birthYear\"),\n",
    "                F.col(\"deathYear\"),\n",
    "                F.explode(F.col(\"profession_array\")).alias(\"profession\"),\n",
    "                F.explode(F.col(\"knownForTitles_array\")).alias(\"Titles\"))\n",
    "\n",
    "                \n",
    "dfs.show()\n",
    "\n",
    "#123.627.002\n",
    "#11.845.112\n",
    "#357.801\n"
   ]
  },
  {
   "cell_type": "code",
   "execution_count": null,
   "metadata": {},
   "outputs": [],
   "source": [
    "from pyspark.sql import SparkSession,Row,DataFrame\n",
    "import pyspark.sql.functions as F\n",
    "from pyspark.sql.types import *\n",
    "\n",
    "def dp_etl(df: DataFrame) -> DataFrame :\n",
    "\n",
    "    dfs = (df.filter(\" deathYear <> r'\\\\N' and deathYear <> r'\\\\N' \")\n",
    "                .withColumn('profession_array',(F.split(F.col(\"primaryProfession\"), \",\")))\n",
    "                .withColumn('knownForTitles_array',(F.split(F.col(\"knownForTitles\"),\",\")))\n",
    "                .select(F.col(\"nconst\"),\n",
    "                        F.col(\"primaryName\"),\n",
    "                        F.col(\"birthYear\"),\n",
    "                        F.col(\"deathYear\"),\n",
    "                        F.explode(F.col(\"profession_array\")).alias(\"profession\"),\n",
    "                        F.explode(F.col(\"knownForTitles_array\")).alias(\"Titles\"))\n",
    "    )\n",
    "    dffull = (dfs.filter(\"profession <> r'\\\\N' and Titles <> r'\\\\N' \")\n",
    "                 .dropDuplicates([\"profession\",\"Titles\"]))\n",
    "    return dffull\n",
    "\n",
    "\n",
    "df = spark.read.option(\"delimiter\", \"\\t\").option(\"header\", True).csv('hdfs:/user/bigdata/repository/input/data_2022*.csv')\n",
    "tb = dp_etl(df)\n",
    "\n",
    "tb.write.mode('overwrite').partitionBy(\"deathYear\").parquet(\"/user/bigdata/repository/parquet/movie.parquet\")\n",
    "\n",
    "#spark.table(\"dbdev001.tb_movie\").show()\n",
    "#spark.sql(\"drop table if exists movie\")\n",
    "#tb.limit(1500).write.mode('overwrite').partitionBy(\"deathYear\").saveAsTable(\"movie\")\n",
    "# tb.limit(1000).write.mode(\"overwrite\").jdbc(\"jdbc:mysql://localhost:3306/myDbUser\", \"myDbUser.movie\",properties={\"user\": \"root\", \"password\": \"mysql\"})\n",
    "\n"
   ]
  },
  {
   "cell_type": "code",
   "execution_count": null,
   "metadata": {},
   "outputs": [],
   "source": [
    "# spark.sql(\"show partitions movie\").show()\n",
    "# spark.sql(\"desc table extended movie\").show()\n",
    "# spark.table(\"movie\").count()\n",
    "\n",
    "df02 = spark.read.parquet(\"/user/bigdata/repository/parquet/movie.parquet\")\n",
    "df02.printSchema()\n",
    "\n",
    "\n",
    "\n",
    "\n",
    "#3.449.518\n",
    "\n",
    "\n",
    "\n",
    "\n",
    "\n",
    "\n",
    "#123.627.027\n",
    "#11.845.112"
   ]
  }
 ],
 "metadata": {
  "kernelspec": {
   "display_name": "Python 3",
   "language": "python",
   "name": "python3"
  },
  "language_info": {
   "codemirror_mode": {
    "name": "ipython",
    "version": 3
   },
   "file_extension": ".py",
   "mimetype": "text/x-python",
   "name": "python",
   "nbconvert_exporter": "python",
   "pygments_lexer": "ipython3",
   "version": "3.9.6"
  }
 },
 "nbformat": 4,
 "nbformat_minor": 2
}
