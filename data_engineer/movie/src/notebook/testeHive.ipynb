{
 "cells": [
  {
   "cell_type": "code",
   "execution_count": null,
   "metadata": {},
   "outputs": [],
   "source": [
    "!pip3 install pyhive thrift thrift_sasl"
   ]
  },
  {
   "cell_type": "code",
   "execution_count": null,
   "metadata": {},
   "outputs": [],
   "source": [
    "from pyspark.sql import SparkSession\n",
    "from pyhive import hive\n",
    "\n",
    "# Defina o IP do Hive Metastore (obtido no passo anterior)\n",
    "HIVE_METASTORE_IP = \"192.168.65.1\"  # Substitua com o IP correto\n",
    "\n",
    "spark = SparkSession.builder \\\n",
    "    .appName(\"PySpark-Hive\") \\\n",
    "    .config(\"spark.sql.catalogImplementation\", \"hive\") \\\n",
    "    .config(\"hive.metastore.uris\", f\"thrift://{HIVE_METASTORE_IP}:10000\") \\\n",
    "    .enableHiveSupport() \\\n",
    "    .getOrCreate()\n",
    "\n",
    "# Testando a conexão com o Hive\n",
    "df = spark.sql(\"SHOW DATABASES\")\n",
    "df.show()\n"
   ]
  },
  {
   "cell_type": "code",
   "execution_count": null,
   "metadata": {},
   "outputs": [],
   "source": [
    "from pyhive import hive\n",
    "\n",
    "host = \"host.docker.internal\" # thrift server host\n",
    "port = 10000                  # default thrift server port should be 10000\n",
    "\n",
    "conn = hive.Connection(host=host, port=port)\n",
    "\n",
    "# show databases\n",
    "with conn.cursor() as cursor:\n",
    "    cursor.execute(\"SHOW DATABASES\")\n",
    "    databases = cursor.fetchall()\n",
    "\n",
    "print(\"Databases:\")\n",
    "for db in databases:\n",
    "    print(db[0])\n",
    "\n",
    "# select * from test_table\n",
    "table_name = \"test_table\"\n",
    "\n",
    "query = f\"SELECT * FROM {table_name} LIMIT 10\"\n",
    "with conn.cursor() as cursor:\n",
    "    cursor.execute(query)\n",
    "    rows = cursor.fetchall()\n",
    "\n",
    "print(f\"\\nTop 10 rows from {table_name}:\")\n",
    "for row in rows:\n",
    "    print(row)\n",
    "\n",
    "conn.close()"
   ]
  }
 ],
 "metadata": {
  "kernelspec": {
   "display_name": "Python 3",
   "language": "python",
   "name": "python3"
  },
  "language_info": {
   "codemirror_mode": {
    "name": "ipython",
    "version": 3
   },
   "file_extension": ".py",
   "mimetype": "text/x-python",
   "name": "python",
   "nbconvert_exporter": "python",
   "pygments_lexer": "ipython3",
   "version": "3.9.6"
  }
 },
 "nbformat": 4,
 "nbformat_minor": 2
}
