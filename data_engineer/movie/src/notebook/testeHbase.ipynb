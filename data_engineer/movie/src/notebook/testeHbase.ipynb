{
 "cells": [
  {
   "cell_type": "code",
   "execution_count": null,
   "metadata": {},
   "outputs": [],
   "source": [
    "\n",
    "# -*- coding: utf-8 -*-\n",
    "from pyspark.sql import SparkSession,Row,DataFrame\n",
    "from delta import configure_spark_with_delta_pip\n",
    "from delta.tables import DeltaTable\n",
    "import pyspark.sql.functions as F\n",
    "import traceback\n",
    "import happybase\n",
    "\n",
    "# Criar sessão Spark\n",
    "builder = SparkSession.builder \\\n",
    "    .appName(\"PySpark HBase\") \\\n",
    "    .config(\"spark.hadoop.hbase.zookeeper.quorum\", \"localhost\") \\\n",
    "    .config(\"spark.hadoop.hbase.zookeeper.property.clientPort\", \"2181\") \\\n",
    "    .config(\"spark.jars.packages\", \"uk.co.gresearch.spark:spark-extension_2.12:2.11.0-3.5\") \\\n",
    "    .config(\"spark.jars.packages\", \"org.apache.spark:spark-avro_2.12:3.5.0\") \\\n",
    "    .config(\"spark.sql.extensions\", \"io.delta.sql.DeltaSparkSessionExtension\") \\\n",
    "    .config(\"spark.sql.warehouse.dir\", \"/Users/eduardoalberto/LoadFile/repository/database/\") \\\n",
    "    .config(\"spark.sql.catalog.spark_catalog\", \"org.apache.spark.sql.delta.catalog.DeltaCatalog\") \\\n",
    "\n",
    "spark = configure_spark_with_delta_pip(builder).getOrCreate()\n",
    "\n",
    "sc = spark.sparkContext\n",
    "spark.sparkContext.setLogLevel(\"OFF\") \n",
    "print('PySpark Version :'+spark.version)\n",
    "print('PySpark Version :'+spark.sparkContext.version)\n",
    "\n",
    "spark"
   ]
  },
  {
   "cell_type": "code",
   "execution_count": null,
   "metadata": {},
   "outputs": [],
   "source": [
    "# Conectar ao HBase via Thrift\n",
    "connection = happybase.Connection('localhost', port=9090)\n",
    "\n",
    "# Criar tabela no HBase (se não existir)\n",
    "if b'clientes' not in connection.tables():\n",
    "    connection.create_table(\n",
    "        'clientes',\n",
    "        {'info': dict()}  # Definição da família de colunas\n",
    "    )\n",
    "    print(\"Tabela 'clientes' criada com sucesso!\")\n",
    "\n",
    "# Fechar conexão\n",
    "connection.close()\n"
   ]
  },
  {
   "cell_type": "code",
   "execution_count": null,
   "metadata": {},
   "outputs": [],
   "source": [
    "\n",
    "\n",
    "# Reabrir conexão\n",
    "connection = happybase.Connection('localhost', port=9090)\n",
    "table = connection.table('clientes')\n",
    "\n",
    "# Inserir dados\n",
    "table.put(b'1', {b'info:nome': b'Joao Silva', b'info:idade': b'30'})\n",
    "table.put(b'2', {b'info:nome': b'Maria Souza', b'info:idade': b'25'})\n",
    "\n",
    "print(\"Dados inseridos com sucesso!\")\n",
    "\n",
    "# Fechar conexão\n",
    "connection.close()"
   ]
  }
 ],
 "metadata": {
  "kernelspec": {
   "display_name": "Python 3",
   "language": "python",
   "name": "python3"
  },
  "language_info": {
   "codemirror_mode": {
    "name": "ipython",
    "version": 3
   },
   "file_extension": ".py",
   "mimetype": "text/x-python",
   "name": "python",
   "nbconvert_exporter": "python",
   "pygments_lexer": "ipython3",
   "version": "3.9.6"
  }
 },
 "nbformat": 4,
 "nbformat_minor": 2
}
