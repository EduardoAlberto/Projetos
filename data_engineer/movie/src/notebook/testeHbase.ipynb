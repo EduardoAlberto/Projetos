{
 "cells": [
  {
   "cell_type": "code",
   "execution_count": 9,
   "metadata": {},
   "outputs": [],
   "source": [
    "\n",
    "# -*- coding: utf-8 -*-\n",
    "from pyspark.sql import SparkSession\n",
    "import happybase\n",
    "\n",
    "# Criar sessão Spark\n",
    "spark = SparkSession.builder \\\n",
    "    .appName(\"PySpark HBase\") \\\n",
    "    .config(\"spark.hadoop.hbase.zookeeper.quorum\", \"localhost\") \\\n",
    "    .config(\"spark.hadoop.hbase.zookeeper.property.clientPort\", \"2181\") \\\n",
    "    .getOrCreate()\n",
    "\n",
    "# Conectar ao HBase via Thrift\n",
    "connection = happybase.Connection('localhost', port=9090)\n",
    "\n",
    "# Criar tabela no HBase (se não existir)\n",
    "if b'clientes' not in connection.tables():\n",
    "    connection.create_table(\n",
    "        'clientes',\n",
    "        {'info': dict()}  # Definição da família de colunas\n",
    "    )\n",
    "    print(\"Tabela 'clientes' criada com sucesso!\")\n",
    "\n",
    "# Fechar conexão\n",
    "connection.close()\n"
   ]
  },
  {
   "cell_type": "code",
   "execution_count": 11,
   "metadata": {},
   "outputs": [
    {
     "name": "stdout",
     "output_type": "stream",
     "text": [
      "Dados inseridos com sucesso!\n"
     ]
    }
   ],
   "source": [
    "\n",
    "\n",
    "# Reabrir conexão\n",
    "connection = happybase.Connection('localhost', port=9090)\n",
    "table = connection.table('clientes')\n",
    "\n",
    "# Inserir dados\n",
    "table.put(b'1', {b'info:nome': b'Joao Silva', b'info:idade': b'30'})\n",
    "table.put(b'2', {b'info:nome': b'Maria Souza', b'info:idade': b'25'})\n",
    "\n",
    "print(\"Dados inseridos com sucesso!\")\n",
    "\n",
    "# Fechar conexão\n",
    "connection.close()"
   ]
  }
 ],
 "metadata": {
  "kernelspec": {
   "display_name": "Python 3",
   "language": "python",
   "name": "python3"
  },
  "language_info": {
   "codemirror_mode": {
    "name": "ipython",
    "version": 3
   },
   "file_extension": ".py",
   "mimetype": "text/x-python",
   "name": "python",
   "nbconvert_exporter": "python",
   "pygments_lexer": "ipython3",
   "version": "3.9.6"
  }
 },
 "nbformat": 4,
 "nbformat_minor": 2
}
