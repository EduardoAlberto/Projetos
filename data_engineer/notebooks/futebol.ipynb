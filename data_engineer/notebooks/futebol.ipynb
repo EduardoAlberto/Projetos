{
 "cells": [
  {
   "cell_type": "code",
   "execution_count": 3,
   "metadata": {},
   "outputs": [
    {
     "name": "stderr",
     "output_type": "stream",
     "text": [
      "23/05/04 23:33:45 WARN Utils: Your hostname, Eduardos-MacBook-Pro.local resolves to a loopback address: 127.0.0.1; using 192.168.3.5 instead (on interface en0)\n",
      "23/05/04 23:33:45 WARN Utils: Set SPARK_LOCAL_IP if you need to bind to another address\n",
      "Setting default log level to \"WARN\".\n",
      "To adjust logging level use sc.setLogLevel(newLevel). For SparkR, use setLogLevel(newLevel).\n",
      "23/05/04 23:33:46 WARN NativeCodeLoader: Unable to load native-hadoop library for your platform... using builtin-java classes where applicable\n",
      "[Stage 0:>                                                          (0 + 1) / 1]\r"
     ]
    },
    {
     "name": "stdout",
     "output_type": "stream",
     "text": [
      "+--------------+-------------------+---------+---------+--------------+-----------+-----------+-----------+-----------+----------+----------+-------------------+----------+-------+-------+---------+---------+-------------+\n",
      "|    tournament|               home|home_goal|away_goal|          away|home_corner|away_corner|home_attack|away_attack|home_shots|away_shots|               time|      date|ht_diff|at_diff|ht_result|at_result|total_corners|\n",
      "+--------------+-------------------+---------+---------+--------------+-----------+-----------+-----------+-----------+----------+----------+-------------------+----------+-------+-------+---------+---------+-------------+\n",
      "|Copa do Brasil|   Vasco Da Gama RJ|      0.0|      0.0|           ABC|        6.0|        2.0|      133.0|       82.0|       9.0|       6.0|2023-05-04 00:30:00|2023-03-17|    0.0|    0.0|     DRAW|     DRAW|          8.0|\n",
      "|Copa do Brasil|             Gremio|      3.0|      0.0|   Ferroviario|       10.0|        3.0|       98.0|       81.0|      30.0|      11.0|2023-05-04 23:00:00|2023-03-16|    3.0|   -3.0|      WON|     LOST|         13.0|\n",
      "|Copa do Brasil|                CSA|      1.0|      0.0|       Brusque|        4.0|        4.0|      105.0|      136.0|      10.0|      13.0|2023-05-04 22:00:00|2023-03-16|    1.0|   -1.0|      WON|     LOST|          8.0|\n",
      "|Copa do Brasil|        Ypiranga RS|      3.0|      1.0|    Bragantino|        7.0|       11.0|      103.0|      119.0|       7.0|      18.0|2023-05-04 00:30:00|2023-03-16|    2.0|   -2.0|      WON|     LOST|         18.0|\n",
      "|Copa do Brasil|        Botafogo RJ|      7.0|      1.0|   Brasiliense|        8.0|        5.0|      107.0|      121.0|      14.0|      15.0|2023-05-04 23:00:00|2023-03-15|    6.0|   -6.0|      WON|     LOST|         13.0|\n",
      "|Copa do Brasil|                CRB|      5.0|      0.0|   Operario MS|        6.0|        4.0|      130.0|       94.0|      18.0|       5.0|2023-05-04 22:30:00|2023-03-15|    5.0|   -5.0|      WON|     LOST|         10.0|\n",
      "|Copa do Brasil|             Ituano|      1.0|      1.0|         Ceara|        6.0|        4.0|      103.0|       99.0|      14.0|      10.0|2023-05-04 22:00:00|2023-03-15|    0.0|    0.0|     DRAW|     DRAW|         10.0|\n",
      "|Copa do Brasil|    Aguia de Maraba|      0.0|      0.0|         Goias|        1.0|       11.0|       69.0|       95.0|       9.0|      23.0|2023-05-04 22:00:00|2023-03-15|    0.0|    0.0|     DRAW|     DRAW|         12.0|\n",
      "|Copa do Brasil|Atletico Goianiense|      1.0|      1.0| Volta Redonda|        7.0|        4.0|      128.0|       88.0|      14.0|       7.0|2023-05-04 22:00:00|2023-03-15|    0.0|    0.0|     DRAW|     DRAW|         11.0|\n",
      "|Copa do Brasil|        Nova Iguacu|      5.0|      2.0|    Nova Mutum|        6.0|        3.0|      113.0|       77.0|      15.0|       7.0|2023-05-04 18:30:25|2023-03-15|    3.0|   -3.0|      WON|     LOST|          9.0|\n",
      "|Copa do Brasil|           Tombense|      1.0|      0.0|         Retro|        6.0|        6.0|      110.0|      111.0|      14.0|      11.0|2023-05-04 00:30:00|2023-03-09|    1.0|   -1.0|      WON|     LOST|         12.0|\n",
      "|Copa do Brasil|               Remo|      2.0|      1.0|      Sao Luiz|       10.0|        3.0|      122.0|       99.0|      16.0|       7.0|2023-05-04 23:00:00|2023-03-08|    1.0|   -1.0|      WON|     LOST|         13.0|\n",
      "|Copa do Brasil|           Camboriu|      0.0|      1.0|      EC Bahia|        2.0|        6.0|       91.0|      120.0|      11.0|       8.0|2023-05-04 22:00:00|2023-03-08|   -1.0|    1.0|     LOST|      WON|          8.0|\n",
      "|Copa do Brasil|  Brasil de Pelotas|      2.0|      0.0|   Ponte Preta|        4.0|        7.0|       83.0|       94.0|       5.0|      24.0|2023-05-04 23:00:00|2023-03-07|    2.0|   -2.0|      WON|     LOST|         11.0|\n",
      "|Copa do Brasil|            Sergipe|      1.0|      1.0|   Botafogo RJ|        4.0|       10.0|       96.0|      130.0|      10.0|      11.0|2023-05-04 23:00:00|2023-03-02|    0.0|    0.0|     DRAW|     DRAW|         14.0|\n",
      "|Copa do Brasil|            Maringa|      2.0|      1.0|Sampaio Correa|        8.0|        3.0|      169.0|      112.0|      21.0|       6.0|2023-05-04 23:00:00|2023-03-02|    1.0|   -1.0|      WON|     LOST|         11.0|\n",
      "|Copa do Brasil|             Iguatu|      1.0|      0.0|    America RN|        5.0|        0.0|       16.0|       17.0|       2.0|       4.0|2023-05-04 22:15:00|2023-03-02|    1.0|   -1.0|      WON|     LOST|          5.0|\n",
      "|Copa do Brasil|     Real Ariquemes|      0.0|      3.0|      Criciuma|        5.0|        7.0|       99.0|      115.0|       6.0|      12.0|2023-05-04 19:30:00|2023-03-02|   -3.0|    3.0|     LOST|      WON|         12.0|\n",
      "|Copa do Brasil|    Aguia de Maraba|      2.0|      1.0|   Botafogo PB|        5.0|        4.0|       59.0|       44.0|      12.0|       6.0|2023-05-04 19:00:00|2023-03-02|    1.0|   -1.0|      WON|     LOST|          9.0|\n",
      "|Copa do Brasil|           Caldense|      0.0|      3.0|         Ceara|       10.0|        2.0|      106.0|       82.0|      16.0|      13.0|2023-05-04 00:30:00|2023-03-02|   -3.0|    3.0|     LOST|      WON|         12.0|\n",
      "+--------------+-------------------+---------+---------+--------------+-----------+-----------+-----------+-----------+----------+----------+-------------------+----------+-------+-------+---------+---------+-------------+\n",
      "only showing top 20 rows\n",
      "\n"
     ]
    },
    {
     "name": "stderr",
     "output_type": "stream",
     "text": [
      "                                                                                \r"
     ]
    }
   ],
   "source": [
    "import json, requests\n",
    "from pyspark.sql import SparkSession,Row\n",
    "from pyspark.sql.functions import *\n",
    "from pyspark.sql import functions as F\n",
    "from pyspark.sql.types import *\n",
    "from datetime import *\n",
    "import os.path as path\n",
    "\n",
    "spark=SparkSession.builder.master(\"local[1]\")\\\n",
    "    .appName(\"Music\")\\\n",
    "    .config(\"spark.driver.extraClassPath\",\"/Users/eduardoalberto/opt/spark/jars/mssql-jdbc-7.4.1.jre8.jar\" ) \\\n",
    "    .getOrCreate()\n",
    "spark.sparkContext.setLogLevel(\"OFF\")\n",
    "\n",
    "df= spark.read.jdbc(\"jdbc:sqlserver://localhost:1433;databaseName=DBDWP511\", \"tb_camp_brasileiro\",properties={\"user\": \"sa\", \"password\": \"Numsey@Password!\"})\n",
    "df.show()"
   ]
  },
  {
   "cell_type": "code",
   "execution_count": 4,
   "metadata": {},
   "outputs": [
    {
     "name": "stdout",
     "output_type": "stream",
     "text": [
      "+--------------+-----+\n",
      "|    tournament|count|\n",
      "+--------------+-----+\n",
      "|       Serie A| 3312|\n",
      "|Copa do Brasil| 1061|\n",
      "|   Paulista A1|  773|\n",
      "|     Gaucho A1|  480|\n",
      "|       Serie C| 1592|\n",
      "|   Paulista A3|  997|\n",
      "|    Copa Verde|  180|\n",
      "|       Mineiro|  465|\n",
      "|       Serie B| 3297|\n",
      "|    Carioca A1|  653|\n",
      "|   Catarinense|  546|\n",
      "|   Paulista A2|  920|\n",
      "+--------------+-----+\n",
      "\n"
     ]
    }
   ],
   "source": [
    "df.groupBy(col(\"tournament\")).count().show()"
   ]
  },
  {
   "cell_type": "code",
   "execution_count": 6,
   "metadata": {},
   "outputs": [
    {
     "name": "stdout",
     "output_type": "stream",
     "text": [
      "+----------+--------------------+---------+---------+--------------------+-----------+-----------+-----------+-----------+----------+----------+-------------------+----------+-------+-------+---------+---------+-------------+\n",
      "|tournament|                home|home_goal|away_goal|                away|home_corner|away_corner|home_attack|away_attack|home_shots|away_shots|               time|      date|ht_diff|at_diff|ht_result|at_result|total_corners|\n",
      "+----------+--------------------+---------+---------+--------------------+-----------+-----------+-----------+-----------+----------+----------+-------------------+----------+-------+-------+---------+---------+-------------+\n",
      "|   Serie A|          America MG|      1.0|      1.0| Atletico Goianiense|       17.0|        5.0|       60.0|       39.0|      21.0|       4.0|2023-05-04 19:00:00|2022-11-13|    0.0|    0.0|     DRAW|     DRAW|         22.0|\n",
      "|   Serie A|          Bragantino|      0.0|      1.0|          Fluminense|        4.0|        9.0|       17.0|       25.0|       3.0|       5.0|2023-05-04 19:00:00|2022-11-13|   -1.0|    1.0|     LOST|      WON|         13.0|\n",
      "|   Serie A|         Corinthians|      0.0|      1.0|    Atletico Mineiro|        5.0|        4.0|       37.0|       35.0|       6.0|       7.0|2023-05-04 19:00:00|2022-11-13|   -1.0|    1.0|     LOST|      WON|          9.0|\n",
      "|   Serie A|              Santos|      0.0|      2.0|        Fortaleza FC|        5.0|        7.0|       30.0|       30.0|       3.0|       6.0|2023-05-04 19:00:00|2022-11-13|   -2.0|    2.0|     LOST|      WON|         12.0|\n",
      "|   Serie A|       Internacional|      3.0|      0.0|           Palmeiras|        6.0|        5.0|       31.0|       15.0|       8.0|       1.0|2023-05-04 19:00:00|2022-11-13|    3.0|   -3.0|      WON|     LOST|         11.0|\n",
      "|   Serie A|               Ceara|      4.0|      1.0|        EC Juventude|        8.0|        3.0|       34.0|       22.0|       7.0|       4.0|2023-05-04 19:00:00|2022-11-13|    3.0|   -3.0|      WON|     LOST|         11.0|\n",
      "|   Serie A|               Goias|      0.0|      4.0|           Sao Paulo|        3.0|        4.0|       27.0|       27.0|       1.0|       6.0|2023-05-04 19:00:00|2022-11-13|   -4.0|    4.0|     LOST|      WON|          7.0|\n",
      "|   Serie A|              Cuiaba|      2.0|      1.0|            Coritiba|        8.0|        1.0|       28.0|       27.0|       7.0|       3.0|2023-05-04 19:00:00|2022-11-13|    1.0|   -1.0|      WON|     LOST|          9.0|\n",
      "|   Serie A|Athletico Paranaense|      3.0|      0.0|         Botafogo RJ|        6.0|        3.0|       34.0|       21.0|       4.0|       2.0|2023-05-04 19:00:00|2022-11-13|    3.0|   -3.0|      WON|     LOST|          9.0|\n",
      "|   Serie A|            Flamengo|      1.0|      2.0|                Avai|       10.0|        3.0|      127.0|       65.0|      20.0|      12.0|2023-05-04 19:00:00|2022-11-12|   -1.0|    1.0|     LOST|      WON|         13.0|\n",
      "|   Serie A|    Atletico Mineiro|      3.0|      0.0|              Cuiaba|        3.0|        5.0|      105.0|       88.0|      11.0|       6.0|2023-05-04 23:00:00|2022-11-10|    3.0|   -3.0|      WON|     LOST|          8.0|\n",
      "|   Serie A|         Botafogo RJ|      3.0|      0.0|              Santos|        3.0|        4.0|       93.0|       97.0|      16.0|       4.0|2023-05-04 23:00:00|2022-11-10|    3.0|   -3.0|      WON|     LOST|          7.0|\n",
      "|   Serie A| Atletico Goianiense|      1.0|      1.0|Athletico Paranaense|        7.0|        4.0|       94.0|      103.0|      26.0|      11.0|2023-05-04 00:30:00|2022-11-10|    0.0|    0.0|     DRAW|     DRAW|         11.0|\n",
      "|   Serie A|           Palmeiras|      2.0|      1.0|          America MG|       10.0|        3.0|      118.0|       73.0|      26.0|       7.0|2023-05-04 00:30:00|2022-11-10|    1.0|   -1.0|      WON|     LOST|         13.0|\n",
      "|   Serie A|        EC Juventude|      2.0|      2.0|            Flamengo|        2.0|        4.0|       74.0|      108.0|      10.0|       9.0|2023-05-04 00:30:00|2022-11-10|    0.0|    0.0|     DRAW|     DRAW|          6.0|\n",
      "|   Serie A|        Fortaleza FC|      6.0|      0.0|          Bragantino|        7.0|        0.0|      115.0|       69.0|      25.0|       3.0|2023-05-04 23:30:00|2022-11-09|    6.0|   -6.0|      WON|     LOST|          7.0|\n",
      "|   Serie A|          Fluminense|      3.0|      0.0|               Goias|       11.0|        3.0|      130.0|       61.0|      24.0|      10.0|2023-05-04 22:00:00|2022-11-09|    3.0|   -3.0|      WON|     LOST|         14.0|\n",
      "|   Serie A|                Avai|      2.0|      0.0|               Ceara|        6.0|        6.0|       82.0|       94.0|      14.0|      16.0|2023-05-04 22:00:00|2022-11-09|    2.0|   -2.0|      WON|     LOST|         12.0|\n",
      "|   Serie A|            Coritiba|      2.0|      2.0|         Corinthians|        5.0|        7.0|      112.0|       86.0|      15.0|       9.0|2023-05-04 22:00:00|2022-11-09|    0.0|    0.0|     DRAW|     DRAW|         12.0|\n",
      "|   Serie A|           Sao Paulo|      0.0|      1.0|       Internacional|        7.0|        2.0|      141.0|       80.0|      12.0|       9.0|2023-05-04 00:30:00|2022-11-09|   -1.0|    1.0|     LOST|      WON|          9.0|\n",
      "+----------+--------------------+---------+---------+--------------------+-----------+-----------+-----------+-----------+----------+----------+-------------------+----------+-------+-------+---------+---------+-------------+\n",
      "only showing top 20 rows\n",
      "\n"
     ]
    }
   ],
   "source": [
    "df.where(col(\"tournament\")==\"Serie A\").show()"
   ]
  },
  {
   "cell_type": "code",
   "execution_count": null,
   "metadata": {},
   "outputs": [],
   "source": []
  }
 ],
 "metadata": {
  "kernelspec": {
   "display_name": "Python 3",
   "language": "python",
   "name": "python3"
  },
  "language_info": {
   "codemirror_mode": {
    "name": "ipython",
    "version": 3
   },
   "file_extension": ".py",
   "mimetype": "text/x-python",
   "name": "python",
   "nbconvert_exporter": "python",
   "pygments_lexer": "ipython3",
   "version": "3.10.1"
  },
  "orig_nbformat": 4
 },
 "nbformat": 4,
 "nbformat_minor": 2
}
