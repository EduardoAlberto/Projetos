{
 "cells": [
  {
   "attachments": {},
   "cell_type": "markdown",
   "metadata": {},
   "source": [
    "### verifica se banco está ativo"
   ]
  },
  {
   "cell_type": "code",
   "execution_count": 84,
   "metadata": {},
   "outputs": [],
   "source": [
    "import pyodbc\n",
    "from pyodbc import Error\n",
    "import pandas as pd\n",
    "\n",
    "server = 'localhost'\n",
    "database = 'DBDWP511'\n",
    "username = 'sa'\n",
    "password = 'Numsey@Password!'\n",
    "query = \"create database school\"\n",
    "cnxn = pyodbc.connect('DRIVER={ODBC Driver 17 for SQL Server};SERVER='+server+';DATABASE='+database+';UID='+username+';PWD='+ password)\n",
    "cursor = cnxn.cursor()\n"
   ]
  },
  {
   "cell_type": "code",
   "execution_count": 89,
   "metadata": {},
   "outputs": [
    {
     "name": "stdout",
     "output_type": "stream",
     "text": [
      "Conectado no banco SQLSERVER\n",
      "Database creatdo com sucesso\n"
     ]
    }
   ],
   "source": [
    "def create_server_connection():\n",
    "    connection = None\n",
    "    try:\n",
    "        connection = pyodbc.connect('DRIVER={ODBC Driver 17 for SQL Server};SERVER='+server+';UID='+username+';PWD='+password, autocommit=True)\n",
    "        print(\"Conectado no banco SQLSERVER\")\n",
    "    except Error as err:\n",
    "        print(f\"Error: '{err}'\")\n",
    "\n",
    "    return connection\n",
    "# create database\n",
    "def create_database(connection,query):\n",
    "    cursor = connection.cursor()\n",
    "    try:\n",
    "\n",
    "        cursor.execute(query)\n",
    "        print(\"Database creatdo com sucesso\")\n",
    "    except Error as err:\n",
    "        print(f\"Error: '{err}'\") \n",
    "connection = create_server_connection()\n",
    "create_database(connection, query)\n"
   ]
  },
  {
   "cell_type": "code",
   "execution_count": 16,
   "metadata": {},
   "outputs": [
    {
     "name": "stdout",
     "output_type": "stream",
     "text": [
      "Microsoft SQL Server 2019 (RTM-CU14) (KB5007182) - 15.0.4188.2 (X64) \n",
      "\tNov  3 2021 19:19:51 \n",
      "\tCopyright (C) 2019 Microsoft Corporation\n",
      "\tDeveloper Edition (64-bit) on Linux (Ubuntu 20.04.3 LTS) <X64>\n"
     ]
    }
   ],
   "source": [
    "#Sample select query\n",
    "cursor.execute(\"SELECT @@version;\") \n",
    "row = cursor.fetchone() \n",
    "while row: \n",
    "    print(row[0])\n",
    "    row = cursor.fetchone()"
   ]
  },
  {
   "attachments": {},
   "cell_type": "markdown",
   "metadata": {},
   "source": [
    "### ACESSO AO BANCO VIA DOCKER"
   ]
  },
  {
   "cell_type": "code",
   "execution_count": 120,
   "metadata": {},
   "outputs": [],
   "source": [
    "class msqlserver:\n",
    "    # variaveis de entrada\n",
    "    def __init__(self,server, database, uid, pwd, query):\n",
    "        self.__server = server\n",
    "        self.__database = database\n",
    "        self.__uid = uid\n",
    "        self.__pwd = pwd\n",
    "        self.__query = query\n",
    "   \n",
    "\n",
    "    # Função de connect \n",
    "    def create_server_connection(self):\n",
    "        connection = None\n",
    "        try:\n",
    "            connection = pyodbc.connect('DRIVER={ODBC Driver 17 for SQL Server};SERVER='+self.__server+';DATABASE='+self.__database+';UID='+self.__uid+';PWD='+ self.__pwd,autocommit=True)\n",
    "            print(\"Conectado no banco SQLSERVER\")\n",
    "        except Error as err:\n",
    "            print(f\"Error: '{err}'\")\n",
    "\n",
    "        return connection\n",
    "    # create database\n",
    "    def create_database(self,connection):\n",
    "        cursor = connection.cursor()\n",
    "        db = self.__query[16:]\n",
    "        try:\n",
    "            cursor.execute(f'''USE master;\n",
    "                               DROP DATABASE {db};''')\n",
    "            cursor.execute(self.__query)\n",
    "            print(\"Database creatdo com sucesso\")\n",
    "        except Error as err:\n",
    "            print(f\"Error: '{err}'\") "
   ]
  },
  {
   "cell_type": "code",
   "execution_count": 118,
   "metadata": {},
   "outputs": [
    {
     "name": "stdout",
     "output_type": "stream",
     "text": [
      "Conectado no banco SQLSERVER\n",
      "Database creatdo com sucesso\n",
      "DBPRODASH \n"
     ]
    }
   ],
   "source": [
    "\n",
    "query = 'CREATE DATABASE DBPRODASH '\n",
    "\n",
    "x = msqlserver('localhost','DBDWP511','sa','Numsey@Password!',query)\n",
    "connection = x.create_server_connection()\n",
    "x.create_database(connection)\n",
    "print(query[16:])"
   ]
  }
 ],
 "metadata": {
  "kernelspec": {
   "display_name": "Python 3",
   "language": "python",
   "name": "python3"
  },
  "language_info": {
   "codemirror_mode": {
    "name": "ipython",
    "version": 3
   },
   "file_extension": ".py",
   "mimetype": "text/x-python",
   "name": "python",
   "nbconvert_exporter": "python",
   "pygments_lexer": "ipython3",
   "version": "3.10.1"
  },
  "orig_nbformat": 4
 },
 "nbformat": 4,
 "nbformat_minor": 2
}
