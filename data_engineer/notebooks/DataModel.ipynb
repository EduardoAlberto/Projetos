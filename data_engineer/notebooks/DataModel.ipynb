{
 "cells": [
  {
   "attachments": {},
   "cell_type": "markdown",
   "metadata": {},
   "source": [
    "### verifica se banco está ativo"
   ]
  },
  {
   "cell_type": "code",
   "execution_count": null,
   "metadata": {},
   "outputs": [],
   "source": [
    "!pip3.12 install mysql-connector-python --upgrade"
   ]
  },
  {
   "cell_type": "code",
   "execution_count": 10,
   "metadata": {},
   "outputs": [],
   "source": [
    "import mysql.connector\n",
    "import pandas as pd\n",
    "\n",
    "# server = 'localhost'\n",
    "# database = 'DBDWP511'\n",
    "# username = 'sa'\n",
    "# password = 'Numsey@Password!'\n",
    "# query = \"create database school\"\n",
    "# cnxn = pyodbc.connect('DRIVER={ODBC Driver 17 for SQL Server};SERVER='+server+';DATABASE='+database+';UID='+username+';PWD='+ password)\n",
    "# cursor = cnxn.cursor()\n",
    "\n",
    "\n",
    "\n",
    "mydb = mysql.connector.connect(user='root',password='mysql',host='0.0.0.0',database='mydesenv')\n",
    "cur = mydb.cursor()\n",
    "\n"
   ]
  },
  {
   "cell_type": "code",
   "execution_count": 16,
   "metadata": {},
   "outputs": [
    {
     "name": "stdout",
     "output_type": "stream",
     "text": [
      "Microsoft SQL Server 2019 (RTM-CU14) (KB5007182) - 15.0.4188.2 (X64) \n",
      "\tNov  3 2021 19:19:51 \n",
      "\tCopyright (C) 2019 Microsoft Corporation\n",
      "\tDeveloper Edition (64-bit) on Linux (Ubuntu 20.04.3 LTS) <X64>\n"
     ]
    }
   ],
   "source": [
    "#Sample select query\n",
    "cursor.execute(\"SELECT @@version;\") \n",
    "row = cursor.fetchone() \n",
    "while row: \n",
    "    print(row[0])\n",
    "    row = cursor.fetchone()"
   ]
  },
  {
   "attachments": {},
   "cell_type": "markdown",
   "metadata": {},
   "source": [
    "### ACESSO AO BANCO VIA DOCKER"
   ]
  },
  {
   "cell_type": "code",
   "execution_count": 94,
   "metadata": {},
   "outputs": [],
   "source": [
    "class msqlserver:\n",
    "    # variaveis de entrada\n",
    "    def __init__(self,server, database, uid, pwd, query):\n",
    "        self.__server = server\n",
    "        self.__database = database\n",
    "        self.__uid = uid\n",
    "        self.__pwd = pwd\n",
    "        self.__query = query\n",
    "   \n",
    "\n",
    "    # Função de connect \n",
    "    def create_server_connection(self):\n",
    "        connection = None\n",
    "        try:\n",
    "            connection = pyodbc.connect('DRIVER={ODBC Driver 17 for SQL Server};SERVER='+self.__server+';DATABASE='+self.__database+';UID='+self.__uid+';PWD='+ self.__pwd,autocommit=True)\n",
    "            print(\"Conectado no banco SQLSERVER\")\n",
    "        except Error as err:\n",
    "            print(f\"Error: '{err}'\")\n",
    "\n",
    "        return connection\n",
    "    # create database\n",
    "    def create_database(self,connection):\n",
    "        cursor = connection.cursor()\n",
    "        db = self.__query[16:]\n",
    "        try:\n",
    "            cursor.execute(f'''USE master;\n",
    "                               DROP DATABASE {db};''')\n",
    "            cursor.execute(self.__query)\n",
    "            print(\"Database creatdo com sucesso\")\n",
    "        except Error as err:\n",
    "            print(f\"Error: '{err}'\") "
   ]
  },
  {
   "cell_type": "code",
   "execution_count": 95,
   "metadata": {},
   "outputs": [
    {
     "ename": "NameError",
     "evalue": "name 'Error' is not defined",
     "output_type": "error",
     "traceback": [
      "\u001b[0;31m---------------------------------------------------------------------------\u001b[0m",
      "\u001b[0;31mNameError\u001b[0m                                 Traceback (most recent call last)",
      "Cell \u001b[0;32mIn[94], line 15\u001b[0m, in \u001b[0;36mmsqlserver.create_server_connection\u001b[0;34m(self)\u001b[0m\n\u001b[1;32m     14\u001b[0m \u001b[38;5;28;01mtry\u001b[39;00m:\n\u001b[0;32m---> 15\u001b[0m     connection \u001b[38;5;241m=\u001b[39m \u001b[43mpyodbc\u001b[49m\u001b[38;5;241m.\u001b[39mconnect(\u001b[38;5;124m'\u001b[39m\u001b[38;5;124mDRIVER=\u001b[39m\u001b[38;5;124m{\u001b[39m\u001b[38;5;124mODBC Driver 17 for SQL Server};SERVER=\u001b[39m\u001b[38;5;124m'\u001b[39m\u001b[38;5;241m+\u001b[39m\u001b[38;5;28mself\u001b[39m\u001b[38;5;241m.\u001b[39m__server\u001b[38;5;241m+\u001b[39m\u001b[38;5;124m'\u001b[39m\u001b[38;5;124m;DATABASE=\u001b[39m\u001b[38;5;124m'\u001b[39m\u001b[38;5;241m+\u001b[39m\u001b[38;5;28mself\u001b[39m\u001b[38;5;241m.\u001b[39m__database\u001b[38;5;241m+\u001b[39m\u001b[38;5;124m'\u001b[39m\u001b[38;5;124m;UID=\u001b[39m\u001b[38;5;124m'\u001b[39m\u001b[38;5;241m+\u001b[39m\u001b[38;5;28mself\u001b[39m\u001b[38;5;241m.\u001b[39m__uid\u001b[38;5;241m+\u001b[39m\u001b[38;5;124m'\u001b[39m\u001b[38;5;124m;PWD=\u001b[39m\u001b[38;5;124m'\u001b[39m\u001b[38;5;241m+\u001b[39m \u001b[38;5;28mself\u001b[39m\u001b[38;5;241m.\u001b[39m__pwd,autocommit\u001b[38;5;241m=\u001b[39m\u001b[38;5;28;01mTrue\u001b[39;00m)\n\u001b[1;32m     16\u001b[0m     \u001b[38;5;28mprint\u001b[39m(\u001b[38;5;124m\"\u001b[39m\u001b[38;5;124mConectado no banco SQLSERVER\u001b[39m\u001b[38;5;124m\"\u001b[39m)\n",
      "\u001b[0;31mNameError\u001b[0m: name 'pyodbc' is not defined",
      "\nDuring handling of the above exception, another exception occurred:\n",
      "\u001b[0;31mNameError\u001b[0m                                 Traceback (most recent call last)",
      "Cell \u001b[0;32mIn[95], line 3\u001b[0m\n\u001b[1;32m      1\u001b[0m query \u001b[38;5;241m=\u001b[39m \u001b[38;5;124m'\u001b[39m\u001b[38;5;124mCREATE DATABASE DBPRODASH \u001b[39m\u001b[38;5;124m'\u001b[39m\n\u001b[1;32m      2\u001b[0m x \u001b[38;5;241m=\u001b[39m msqlserver(\u001b[38;5;124m'\u001b[39m\u001b[38;5;124mlocalhost\u001b[39m\u001b[38;5;124m'\u001b[39m,\u001b[38;5;124m'\u001b[39m\u001b[38;5;124mDBDWP511\u001b[39m\u001b[38;5;124m'\u001b[39m,\u001b[38;5;124m'\u001b[39m\u001b[38;5;124msa\u001b[39m\u001b[38;5;124m'\u001b[39m,\u001b[38;5;124m'\u001b[39m\u001b[38;5;124mNumsey@Password!\u001b[39m\u001b[38;5;124m'\u001b[39m,query)\n\u001b[0;32m----> 3\u001b[0m connection \u001b[38;5;241m=\u001b[39m \u001b[43mx\u001b[49m\u001b[38;5;241;43m.\u001b[39;49m\u001b[43mcreate_server_connection\u001b[49m\u001b[43m(\u001b[49m\u001b[43m)\u001b[49m\n\u001b[1;32m      4\u001b[0m x\u001b[38;5;241m.\u001b[39mcreate_database(connection)\n\u001b[1;32m      5\u001b[0m \u001b[38;5;28mprint\u001b[39m(query[\u001b[38;5;241m16\u001b[39m:])\n",
      "Cell \u001b[0;32mIn[94], line 17\u001b[0m, in \u001b[0;36mmsqlserver.create_server_connection\u001b[0;34m(self)\u001b[0m\n\u001b[1;32m     15\u001b[0m     connection \u001b[38;5;241m=\u001b[39m pyodbc\u001b[38;5;241m.\u001b[39mconnect(\u001b[38;5;124m'\u001b[39m\u001b[38;5;124mDRIVER=\u001b[39m\u001b[38;5;124m{\u001b[39m\u001b[38;5;124mODBC Driver 17 for SQL Server};SERVER=\u001b[39m\u001b[38;5;124m'\u001b[39m\u001b[38;5;241m+\u001b[39m\u001b[38;5;28mself\u001b[39m\u001b[38;5;241m.\u001b[39m__server\u001b[38;5;241m+\u001b[39m\u001b[38;5;124m'\u001b[39m\u001b[38;5;124m;DATABASE=\u001b[39m\u001b[38;5;124m'\u001b[39m\u001b[38;5;241m+\u001b[39m\u001b[38;5;28mself\u001b[39m\u001b[38;5;241m.\u001b[39m__database\u001b[38;5;241m+\u001b[39m\u001b[38;5;124m'\u001b[39m\u001b[38;5;124m;UID=\u001b[39m\u001b[38;5;124m'\u001b[39m\u001b[38;5;241m+\u001b[39m\u001b[38;5;28mself\u001b[39m\u001b[38;5;241m.\u001b[39m__uid\u001b[38;5;241m+\u001b[39m\u001b[38;5;124m'\u001b[39m\u001b[38;5;124m;PWD=\u001b[39m\u001b[38;5;124m'\u001b[39m\u001b[38;5;241m+\u001b[39m \u001b[38;5;28mself\u001b[39m\u001b[38;5;241m.\u001b[39m__pwd,autocommit\u001b[38;5;241m=\u001b[39m\u001b[38;5;28;01mTrue\u001b[39;00m)\n\u001b[1;32m     16\u001b[0m     \u001b[38;5;28mprint\u001b[39m(\u001b[38;5;124m\"\u001b[39m\u001b[38;5;124mConectado no banco SQLSERVER\u001b[39m\u001b[38;5;124m\"\u001b[39m)\n\u001b[0;32m---> 17\u001b[0m \u001b[38;5;28;01mexcept\u001b[39;00m \u001b[43mError\u001b[49m \u001b[38;5;28;01mas\u001b[39;00m err:\n\u001b[1;32m     18\u001b[0m     \u001b[38;5;28mprint\u001b[39m(\u001b[38;5;124mf\u001b[39m\u001b[38;5;124m\"\u001b[39m\u001b[38;5;124mError: \u001b[39m\u001b[38;5;124m'\u001b[39m\u001b[38;5;132;01m{\u001b[39;00merr\u001b[38;5;132;01m}\u001b[39;00m\u001b[38;5;124m'\u001b[39m\u001b[38;5;124m\"\u001b[39m)\n\u001b[1;32m     20\u001b[0m \u001b[38;5;28;01mreturn\u001b[39;00m connection\n",
      "\u001b[0;31mNameError\u001b[0m: name 'Error' is not defined"
     ]
    }
   ],
   "source": [
    "\n",
    "query = 'CREATE DATABASE DBPRODASH '\n",
    "x = msqlserver('localhost','DBDWP511','sa','Numsey@Password!',query)\n",
    "connection = x.create_server_connection()\n",
    "x.create_database(connection)\n",
    "print(query[16:])"
   ]
  },
  {
   "cell_type": "markdown",
   "metadata": {},
   "source": [
    "### ACESSANDO O BANCO MYSQL VIA DOCKER\n"
   ]
  },
  {
   "cell_type": "code",
   "execution_count": 54,
   "metadata": {},
   "outputs": [
    {
     "name": "stdout",
     "output_type": "stream",
     "text": [
      "Conectado no banco MYSQL\n",
      "None\n"
     ]
    }
   ],
   "source": [
    "db_name = \"DBPRODASH\"\n",
    "def create_server_connection():\n",
    "    connection = None\n",
    "    try:\n",
    "        connection = mysql.connector.connect(user='root',password='mysql',host='localhost',database='mydesenv')\n",
    "        print(\"Conectado no banco MYSQL\")\n",
    "    except mysql.connector.Error as err:\n",
    "        print(f\"Error: '{err}'\")\n",
    "\n",
    "    return connection\n",
    "cnx = create_server_connection()\n",
    "cursor = cnx.cursor()\n",
    "print(cursor.execute(\"CREATE DATABASE {} DEFAULT CHARACTER SET 'utf8'\".format(db_name)))"
   ]
  },
  {
   "cell_type": "code",
   "execution_count": 96,
   "metadata": {},
   "outputs": [],
   "source": [
    "import mysql.connector\n",
    "from mysql.connector import errorcode\n",
    "\n",
    "class mysqlserver:\n",
    "    # variaveis de entrada\n",
    "    def __init__(self,user, password, host, database,query):\n",
    "        self.__user = user\n",
    "        self.__password = password\n",
    "        self.__host = host\n",
    "        self.__database = database\n",
    "        self.__query = query\n",
    "   \n",
    "    # Função de connect \n",
    "    def create_server_connection(self):\n",
    "        connection = None\n",
    "        try:\n",
    "            connection = mysql.connector.connect(user=self.__user,password=self.__password,host=self.__host,database=self.__database)\n",
    "            print(\"Conectado no banco MYSQL\")\n",
    "        except mysql.connector.Error as err:\n",
    "            print(f\"Error: '{err}'\")\n",
    "\n",
    "        return connection\n",
    "\n",
    "    def create_database(self,connection):\n",
    "        cursor = connection.cursor()\n",
    "        db = self.__query\n",
    "        try:\n",
    "            cursor.execute(f\"DROP DATABASE IF EXISTS {db};\")\n",
    "            cursor.execute(\"CREATE DATABASE {} DEFAULT CHARACTER SET 'utf8'\".format(db))\n",
    "            print(\"Database creatdo com sucesso\")\n",
    "        except mysql.connector.Error as err:\n",
    "            print(f\"Error: '{err}'\") "
   ]
  },
  {
   "cell_type": "code",
   "execution_count": 97,
   "metadata": {},
   "outputs": [
    {
     "name": "stdout",
     "output_type": "stream",
     "text": [
      "Conectado no banco MYSQL\n",
      "Database creatdo com sucesso\n",
      "\n"
     ]
    }
   ],
   "source": [
    "query = \"DBPRODASH\"\n",
    "x = mysqlserver('root','mysql','localhost','mydesenv', query)\n",
    "connection = x.create_server_connection()\n",
    "x.create_database(connection)\n",
    "print(query[16:]) "
   ]
  },
  {
   "cell_type": "code",
   "execution_count": null,
   "metadata": {},
   "outputs": [],
   "source": []
  }
 ],
 "metadata": {
  "kernelspec": {
   "display_name": "Python 3",
   "language": "python",
   "name": "python3"
  },
  "language_info": {
   "codemirror_mode": {
    "name": "ipython",
    "version": 3
   },
   "file_extension": ".py",
   "mimetype": "text/x-python",
   "name": "python",
   "nbconvert_exporter": "python",
   "pygments_lexer": "ipython3",
   "version": "3.12.0"
  },
  "orig_nbformat": 4
 },
 "nbformat": 4,
 "nbformat_minor": 2
}
