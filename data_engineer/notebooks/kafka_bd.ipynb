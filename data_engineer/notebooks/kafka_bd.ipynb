{
 "cells": [
  {
   "cell_type": "markdown",
   "metadata": {},
   "source": [
    "### cria tabelas para API"
   ]
  },
  {
   "cell_type": "code",
   "execution_count": 6,
   "metadata": {},
   "outputs": [],
   "source": [
    "import mysql.connector\n",
    "from mysql.connector import errorcode\n",
    "\n",
    "class mysqlserver:\n",
    "    # variaveis de entrada\n",
    "    def __init__(self,user, password, host, database):\n",
    "        self.__user = user\n",
    "        self.__password = password\n",
    "        self.__host = host\n",
    "        self.__database = database\n",
    "\n",
    "    def create_server_connection(self):\n",
    "        conn = None\n",
    "        try:\n",
    "            conn = mysql.connector.connect(user=self.__user,password=self.__password,host=self.__host,database=self.__database)\n",
    "            print(\"Conectado no banco MYSQL\")\n",
    "        except mysql.connector.Error as err:\n",
    "            print(f\"Error: '{err}'\")\n",
    "        return conn\n",
    "\n",
    "    def create_table(self, conn):\n",
    "        cur = conn.cursor()\n",
    "        try:\n",
    "            cur.execute(\"\"\" CREATE TABLE IF NOT EXISTS candidate(\n",
    "                            candidate_id VARCHAR(255) PRIMARY KEY,\n",
    "                            candidate_name VARCHAR(255),\n",
    "                            party_affiliation VARCHAR(255),\n",
    "                            biography TEXT,\n",
    "                            campaign_platform TEXT,\n",
    "                            photo_url TEXT) \n",
    "                        \"\"\")\n",
    "            cur.execute(\"\"\" CREATE TABLE IF NOT EXISTS voters (\n",
    "                            voter_id VARCHAR(255) primary key,\n",
    "                            voter_name VARCHAR(255),\n",
    "                            date_of_birth VARCHAR(255),\n",
    "                            gender VARCHAR(255),\n",
    "                            nationality VARCHAR(255),\n",
    "                            registration_number VARCHAR(255),\n",
    "                            address_street VARCHAR(255),\n",
    "                            address_city VARCHAR(255),\n",
    "                            address_state VARCHAR(255),\n",
    "                            address_country VARCHAR(255),\n",
    "                            address_postcode VARCHAR(255),\n",
    "                            email VARCHAR(255),\n",
    "                            phone_number VARCHAR(255),\n",
    "                            cell_number VARCHAR(255),\n",
    "                            picture TEXT,\n",
    "                            registered_age int\n",
    "            )\"\"\")\n",
    "            cur.execute(\"\"\"CREATE TABLE IF NOT EXISTS votes (\n",
    "                        voter_id VARCHAR(255) UNIQUE,\n",
    "                        candidate_id VARCHAR(255),\n",
    "                        voting_time TIMESTAMP,\n",
    "                        vote int DEFAULT 1,\n",
    "                        primary key (voter_id, candidate_id)\n",
    "                        ) \n",
    "                        \"\"\")\n",
    "            conn.commit()\n",
    "        except mysql.connector.Error as err:\n",
    "                print(f\"Error: '{err}'\") \n",
    "\n",
    " "
   ]
  },
  {
   "cell_type": "code",
   "execution_count": 7,
   "metadata": {},
   "outputs": [
    {
     "name": "stdout",
     "output_type": "stream",
     "text": [
      "Conectado no banco MYSQL\n"
     ]
    }
   ],
   "source": [
    "x = mysqlserver('root','mysql','localhost','mydesenv')\n",
    "conn = x.create_server_connection()\n",
    "x.create_table(conn)"
   ]
  },
  {
   "cell_type": "markdown",
   "metadata": {},
   "source": [
    "### insert de dados da API"
   ]
  },
  {
   "cell_type": "code",
   "execution_count": 8,
   "metadata": {},
   "outputs": [],
   "source": [
    "import mysql.connector\n",
    "from mysql.connector import errorcode\n",
    "import random\n",
    "import requests\n",
    "from confluent_kafka import SerializingProducer\n",
    "import simplejson as json\n",
    "\n",
    "BASE_URL = 'https://randomuser.me/api/?nat=gb'\n",
    "PARTIES = [\"Management Party\", \"Savior Party\", \"Tech Republic Party\"]\n",
    "random.seed(42)\n",
    "\n",
    "\n",
    "def generate_voter_data():\n",
    "    response = requests.get(BASE_URL)\n",
    "    if response.status_code == 200:\n",
    "        user_data = response.json()['results'][0]\n",
    "        return {\n",
    "            \"voter_id\": user_data['login']['uuid'],\n",
    "            \"voter_name\": f\"{user_data['name']['first']} {user_data['name']['last']}\",\n",
    "            \"date_of_birth\": user_data['dob']['date'],\n",
    "            \"gender\": user_data['gender'],\n",
    "            \"nationality\": user_data['nat'],\n",
    "            \"registration_number\": user_data['login']['username'],\n",
    "            \"address\": {\n",
    "                \"street\": f\"{user_data['location']['street']['number']} {user_data['location']['street']['name']}\",\n",
    "                \"city\": user_data['location']['city'],\n",
    "                \"state\": user_data['location']['state'],\n",
    "                \"country\": user_data['location']['country'],\n",
    "                \"postcode\": user_data['location']['postcode']\n",
    "            },\n",
    "            \"email\": user_data['email'],\n",
    "            \"phone_number\": user_data['phone'],\n",
    "            \"cell_number\": user_data['cell'],\n",
    "            \"picture\": user_data['picture']['large'],\n",
    "            \"registered_age\": user_data['registered']['age']\n",
    "        }\n",
    "    else:\n",
    "        return \"Error fetching data\"\n",
    "\n",
    "def generate_candidate_data(candidate_number, total_parties):\n",
    "    response = requests.get(BASE_URL + '&gender=' + ('female' if candidate_number % 2 == 1 else 'male'))\n",
    "    if response.status_code == 200:\n",
    "        user_data = response.json()['results'][0]\n",
    "        return {\n",
    "            \"candidate_id\": user_data['login']['uuid'],\n",
    "            \"candidate_name\": f\"{user_data['name']['first']} {user_data['name']['last']}\",\n",
    "            \"party_affiliation\": PARTIES[candidate_number % total_parties],\n",
    "            \"biography\": \"A brief bio of the candidate.\",\n",
    "            \"campaign_platform\": \"Key campaign promises or platform.\",\n",
    "            \"photo_url\": user_data['picture']['large']\n",
    "        }\n",
    "    else:\n",
    "        return \"Error fetching data\"\n",
    "\n",
    "def delivery_report(err, msg):\n",
    "    if err is not None:\n",
    "        print(f'Message delivery failed: {err}')\n",
    "    else:\n",
    "        print(f'Message delivered to {msg.topic()} [{msg.partition()}]')\n",
    "    \n",
    "\n",
    "class mysqlserver:\n",
    "    # variaveis de entrada\n",
    "    def __init__(self,user, password, host, database):\n",
    "        self.__user = user\n",
    "        self.__password = password\n",
    "        self.__host = host\n",
    "        self.__database = database\n",
    "\n",
    "\n",
    "\n",
    "           \n",
    "    def create_server_connection(self):\n",
    "        conn = None\n",
    "        try:\n",
    "            conn = mysql.connector.connect(user=self.__user,password=self.__password,host=self.__host,database=self.__database)\n",
    "            print(\"Conectado no banco MYSQL\")\n",
    "        except mysql.connector.Error as err:\n",
    "            print(f\"Error: '{err}'\")\n",
    "        return conn\n",
    "    \n",
    "    def insert_table(self,conn):\n",
    "        cur = conn.cursor()\n",
    "        for i in range(20):\n",
    "            candidate = generate_candidate_data(i, total_parties=3)\n",
    "            print(candidate)\n",
    "            cur.execute(\"\"\"\n",
    "                        INSERT INTO candidate (candidate_id, candidate_name, party_affiliation, biography, campaign_platform, photo_url)\n",
    "                        VALUES (%s, %s, %s, %s, %s, %s)\n",
    "                        \"\"\", (\n",
    "                candidate['candidate_id'], candidate['candidate_name'], candidate['party_affiliation'], candidate['biography'],\n",
    "                candidate['campaign_platform'], candidate['photo_url']))\n",
    "        for i in range(30):\n",
    "            voter = generate_voter_data()\n",
    "            print(voter)\n",
    "            cur.execute(\"\"\"\n",
    "                                INSERT INTO voters (voter_id, voter_name, date_of_birth, gender, nationality, registration_number, address_street, address_city, address_state, address_country, address_postcode, email, phone_number, cell_number, picture, registered_age)\n",
    "                                VALUES (%s, %s, %s, %s, %s, %s, %s, %s, %s, %s,%s,%s,%s,%s,%s,%s)\n",
    "                                \"\"\",\n",
    "                        (voter[\"voter_id\"], voter['voter_name'], voter['date_of_birth'], voter['gender'],\n",
    "                        voter['nationality'], voter['registration_number'], voter['address']['street'],\n",
    "                        voter['address']['city'], voter['address']['state'], voter['address']['country'],\n",
    "                        voter['address']['postcode'], voter['email'], voter['phone_number'],\n",
    "                        voter['cell_number'], voter['picture'], voter['registered_age'])\n",
    "                        )\n",
    "            conn.commit()\n",
    "           # Kafka Topics\n",
    "            producer = SerializingProducer({'bootstrap.servers': 'localhost:9092'})\n",
    "\n",
    "            #delivery_report = delivery_report()\n",
    " \n",
    "            voters_topic = 'voters_topic'\n",
    "            candidates_topic = 'candidates_topic'\n",
    "            producer.produce(\n",
    "            voters_topic,\n",
    "            key=voter[\"voter_id\"],\n",
    "            value=json.dumps(voter)\n",
    "        )\n",
    "        producer.flush()\n",
    "\n"
   ]
  },
  {
   "cell_type": "code",
   "execution_count": 9,
   "metadata": {},
   "outputs": [
    {
     "name": "stdout",
     "output_type": "stream",
     "text": [
      "Conectado no banco MYSQL\n",
      "{'candidate_id': '95812e15-c7c5-4f3e-bd95-f9b0b2df7b54', 'candidate_name': 'Clifton Mccoy', 'party_affiliation': 'Management Party', 'biography': 'A brief bio of the candidate.', 'campaign_platform': 'Key campaign promises or platform.', 'photo_url': 'https://randomuser.me/api/portraits/men/71.jpg'}\n",
      "{'candidate_id': 'e2b5792c-d06e-406a-b85e-35878c04190a', 'candidate_name': 'Katherine Ward', 'party_affiliation': 'Savior Party', 'biography': 'A brief bio of the candidate.', 'campaign_platform': 'Key campaign promises or platform.', 'photo_url': 'https://randomuser.me/api/portraits/women/45.jpg'}\n",
      "{'candidate_id': '0e340a93-7f92-44fa-bd94-9364b3843e2d', 'candidate_name': 'Danny Austin', 'party_affiliation': 'Tech Republic Party', 'biography': 'A brief bio of the candidate.', 'campaign_platform': 'Key campaign promises or platform.', 'photo_url': 'https://randomuser.me/api/portraits/men/40.jpg'}\n",
      "{'candidate_id': '5f379962-6d59-4d40-b8ac-3bc71c4055b5', 'candidate_name': 'Debbie Gonzalez', 'party_affiliation': 'Management Party', 'biography': 'A brief bio of the candidate.', 'campaign_platform': 'Key campaign promises or platform.', 'photo_url': 'https://randomuser.me/api/portraits/women/44.jpg'}\n",
      "{'candidate_id': '76cd5d2c-1b65-4d73-9d26-e27d971e7041', 'candidate_name': 'Elijah Jones', 'party_affiliation': 'Savior Party', 'biography': 'A brief bio of the candidate.', 'campaign_platform': 'Key campaign promises or platform.', 'photo_url': 'https://randomuser.me/api/portraits/men/48.jpg'}\n",
      "{'candidate_id': '535cf4c1-8daa-4862-b28d-843b847d4bed', 'candidate_name': 'Susie Hansen', 'party_affiliation': 'Tech Republic Party', 'biography': 'A brief bio of the candidate.', 'campaign_platform': 'Key campaign promises or platform.', 'photo_url': 'https://randomuser.me/api/portraits/women/68.jpg'}\n",
      "{'candidate_id': '947911dc-bcb1-4e5a-9d4e-ff5d683da6e5', 'candidate_name': 'Frederick Mills', 'party_affiliation': 'Management Party', 'biography': 'A brief bio of the candidate.', 'campaign_platform': 'Key campaign promises or platform.', 'photo_url': 'https://randomuser.me/api/portraits/men/31.jpg'}\n",
      "{'candidate_id': 'c56284b4-2b07-4f6d-96eb-e1fdbdc0bb42', 'candidate_name': 'Lola Romero', 'party_affiliation': 'Savior Party', 'biography': 'A brief bio of the candidate.', 'campaign_platform': 'Key campaign promises or platform.', 'photo_url': 'https://randomuser.me/api/portraits/women/79.jpg'}\n",
      "{'candidate_id': '1bb4aa53-cc8a-441f-ac69-bf57c1d369d7', 'candidate_name': 'Bob Brewer', 'party_affiliation': 'Tech Republic Party', 'biography': 'A brief bio of the candidate.', 'campaign_platform': 'Key campaign promises or platform.', 'photo_url': 'https://randomuser.me/api/portraits/men/33.jpg'}\n",
      "{'candidate_id': '0f92de34-cd92-49e2-b433-4108130c716c', 'candidate_name': 'Maya Armstrong', 'party_affiliation': 'Management Party', 'biography': 'A brief bio of the candidate.', 'campaign_platform': 'Key campaign promises or platform.', 'photo_url': 'https://randomuser.me/api/portraits/women/53.jpg'}\n",
      "{'candidate_id': 'ad41e82b-eb3b-4ac5-8ecf-3aa268538748', 'candidate_name': 'Richard Murphy', 'party_affiliation': 'Savior Party', 'biography': 'A brief bio of the candidate.', 'campaign_platform': 'Key campaign promises or platform.', 'photo_url': 'https://randomuser.me/api/portraits/men/68.jpg'}\n",
      "{'candidate_id': 'c644f290-fd4f-4d44-be00-2c8f1a6b56f8', 'candidate_name': 'Diane Rhodes', 'party_affiliation': 'Tech Republic Party', 'biography': 'A brief bio of the candidate.', 'campaign_platform': 'Key campaign promises or platform.', 'photo_url': 'https://randomuser.me/api/portraits/women/96.jpg'}\n",
      "{'candidate_id': '545eff33-d3ac-4836-8af3-83c81b961be6', 'candidate_name': 'Sergio Hansen', 'party_affiliation': 'Management Party', 'biography': 'A brief bio of the candidate.', 'campaign_platform': 'Key campaign promises or platform.', 'photo_url': 'https://randomuser.me/api/portraits/men/77.jpg'}\n",
      "{'candidate_id': '58fbba15-ebfa-4a1e-b3a4-fd204f074a96', 'candidate_name': 'Judith Hamilton', 'party_affiliation': 'Savior Party', 'biography': 'A brief bio of the candidate.', 'campaign_platform': 'Key campaign promises or platform.', 'photo_url': 'https://randomuser.me/api/portraits/women/1.jpg'}\n",
      "{'candidate_id': '974caca0-1142-4ea0-9e8b-d018a353b837', 'candidate_name': 'Roy Mills', 'party_affiliation': 'Tech Republic Party', 'biography': 'A brief bio of the candidate.', 'campaign_platform': 'Key campaign promises or platform.', 'photo_url': 'https://randomuser.me/api/portraits/men/12.jpg'}\n",
      "{'candidate_id': '7515b27e-640e-4eb3-a147-90cd1a113906', 'candidate_name': 'Teresa Jensen', 'party_affiliation': 'Management Party', 'biography': 'A brief bio of the candidate.', 'campaign_platform': 'Key campaign promises or platform.', 'photo_url': 'https://randomuser.me/api/portraits/women/83.jpg'}\n",
      "{'candidate_id': '600eedee-9cac-42c8-98f0-83caede51006', 'candidate_name': 'Mathew Harrison', 'party_affiliation': 'Savior Party', 'biography': 'A brief bio of the candidate.', 'campaign_platform': 'Key campaign promises or platform.', 'photo_url': 'https://randomuser.me/api/portraits/men/76.jpg'}\n",
      "{'candidate_id': 'c6dccd82-64f5-4eb0-9e46-b19c54ee4959', 'candidate_name': 'Avery Rodriquez', 'party_affiliation': 'Tech Republic Party', 'biography': 'A brief bio of the candidate.', 'campaign_platform': 'Key campaign promises or platform.', 'photo_url': 'https://randomuser.me/api/portraits/women/72.jpg'}\n",
      "{'candidate_id': '2a338e9a-1328-4c68-a788-35d37cbe1158', 'candidate_name': 'Edgar Cunningham', 'party_affiliation': 'Management Party', 'biography': 'A brief bio of the candidate.', 'campaign_platform': 'Key campaign promises or platform.', 'photo_url': 'https://randomuser.me/api/portraits/men/85.jpg'}\n",
      "{'candidate_id': '45ffbb4e-d8cd-4627-8443-2e652c6eb138', 'candidate_name': 'Kim Garcia', 'party_affiliation': 'Savior Party', 'biography': 'A brief bio of the candidate.', 'campaign_platform': 'Key campaign promises or platform.', 'photo_url': 'https://randomuser.me/api/portraits/women/31.jpg'}\n",
      "{'voter_id': '3c24368f-465c-4258-b4a1-d256024593a4', 'voter_name': 'Cory Richardson', 'date_of_birth': '1952-07-08T13:57:57.076Z', 'gender': 'male', 'nationality': 'GB', 'registration_number': 'purplebutterfly868', 'address': {'street': '2669 Green Lane', 'city': 'Inverness', 'state': 'Humberside', 'country': 'United Kingdom', 'postcode': 'XA4 4UP'}, 'email': 'cory.richardson@example.com', 'phone_number': '019467 59583', 'cell_number': '07202 662108', 'picture': 'https://randomuser.me/api/portraits/men/39.jpg', 'registered_age': 15}\n",
      "{'voter_id': 'b5e01f84-0558-408c-ac8c-8c2d72636170', 'voter_name': 'Nelson Gomez', 'date_of_birth': '1987-04-30T16:34:18.977Z', 'gender': 'male', 'nationality': 'GB', 'registration_number': 'orangepeacock588', 'address': {'street': '400 Church Lane', 'city': 'Wolverhampton', 'state': 'Kent', 'country': 'United Kingdom', 'postcode': 'Z0 2WF'}, 'email': 'nelson.gomez@example.com', 'phone_number': '016973 47053', 'cell_number': '07565 659969', 'picture': 'https://randomuser.me/api/portraits/men/84.jpg', 'registered_age': 18}\n"
     ]
    },
    {
     "name": "stderr",
     "output_type": "stream",
     "text": [
      "%4|1704250446.549|TERMINATE|rdkafka#producer-3| [thrd:app]: Producer terminating with 1 message (538 bytes) still in queue or transit: use flush() to wait for outstanding message delivery\n",
      "%4|1704250446.741|TERMINATE|rdkafka#producer-4| [thrd:app]: Producer terminating with 1 message (527 bytes) still in queue or transit: use flush() to wait for outstanding message delivery\n"
     ]
    },
    {
     "name": "stdout",
     "output_type": "stream",
     "text": [
      "{'voter_id': 'bcea05c4-0155-4484-974f-87f50cbc1a32', 'voter_name': 'Maya Rodriquez', 'date_of_birth': '1997-12-14T15:37:30.692Z', 'gender': 'female', 'nationality': 'GB', 'registration_number': 'yellowleopard512', 'address': {'street': '10 London Road', 'city': 'Stevenage', 'state': 'Dorset', 'country': 'United Kingdom', 'postcode': 'AG7I 3TW'}, 'email': 'maya.rodriquez@example.com', 'phone_number': '015396 01587', 'cell_number': '07194 148007', 'picture': 'https://randomuser.me/api/portraits/women/2.jpg', 'registered_age': 14}\n",
      "{'voter_id': '9f239071-f9a1-40ea-9e6c-5bbe7dd3c560', 'voter_name': 'Lillian Willis', 'date_of_birth': '1984-11-25T14:37:18.691Z', 'gender': 'female', 'nationality': 'GB', 'registration_number': 'smallgoose735', 'address': {'street': '5848 Alexander Road', 'city': 'Lincoln', 'state': 'Buckinghamshire', 'country': 'United Kingdom', 'postcode': 'X9 5LF'}, 'email': 'lillian.willis@example.com', 'phone_number': '0151 856 9829', 'cell_number': '07258 696332', 'picture': 'https://randomuser.me/api/portraits/women/46.jpg', 'registered_age': 4}\n"
     ]
    },
    {
     "name": "stderr",
     "output_type": "stream",
     "text": [
      "%4|1704250446.931|TERMINATE|rdkafka#producer-5| [thrd:app]: Producer terminating with 1 message (533 bytes) still in queue or transit: use flush() to wait for outstanding message delivery\n",
      "%4|1704250447.109|TERMINATE|rdkafka#producer-6| [thrd:app]: Producer terminating with 1 message (541 bytes) still in queue or transit: use flush() to wait for outstanding message delivery\n"
     ]
    },
    {
     "name": "stdout",
     "output_type": "stream",
     "text": [
      "{'voter_id': '993acb40-9924-412f-ac54-0013b7350db2', 'voter_name': 'Laura Mcdonalid', 'date_of_birth': '1951-05-20T20:32:20.132Z', 'gender': 'female', 'nationality': 'GB', 'registration_number': 'crazybird142', 'address': {'street': '7594 School Lane', 'city': 'Durham', 'state': 'Avon', 'country': 'United Kingdom', 'postcode': 'MY7X 8XA'}, 'email': 'laura.mcdonalid@example.com', 'phone_number': '016974 77750', 'cell_number': '07425 989886', 'picture': 'https://randomuser.me/api/portraits/women/68.jpg', 'registered_age': 17}\n",
      "{'voter_id': 'f95c2af6-03e0-4549-af52-f3bb26b5e5f9', 'voter_name': 'Zoe Martinez', 'date_of_birth': '1985-06-23T13:42:25.860Z', 'gender': 'female', 'nationality': 'GB', 'registration_number': 'bigwolf285', 'address': {'street': '1669 Queen Street', 'city': 'Winchester', 'state': 'Gloucestershire', 'country': 'United Kingdom', 'postcode': 'Y9E 0BJ'}, 'email': 'zoe.martinez@example.com', 'phone_number': '016973 99748', 'cell_number': '07997 151761', 'picture': 'https://randomuser.me/api/portraits/women/17.jpg', 'registered_age': 7}\n"
     ]
    },
    {
     "name": "stderr",
     "output_type": "stream",
     "text": [
      "%4|1704250447.291|TERMINATE|rdkafka#producer-7| [thrd:app]: Producer terminating with 1 message (529 bytes) still in queue or transit: use flush() to wait for outstanding message delivery\n"
     ]
    },
    {
     "name": "stdout",
     "output_type": "stream",
     "text": [
      "{'voter_id': '8897c0e0-46ff-421e-a336-e6554dea4c15', 'voter_name': 'Johnny Lucas', 'date_of_birth': '1968-04-07T15:02:59.138Z', 'gender': 'male', 'nationality': 'GB', 'registration_number': 'bluekoala912', 'address': {'street': '4929 Station Road', 'city': 'Bath', 'state': 'Tyne and Wear', 'country': 'United Kingdom', 'postcode': 'E93 8PR'}, 'email': 'johnny.lucas@example.com', 'phone_number': '01716 290133', 'cell_number': '07504 738635', 'picture': 'https://randomuser.me/api/portraits/men/35.jpg', 'registered_age': 14}\n",
      "{'voter_id': '81e81227-51ea-458c-b5b7-969c38f2983e', 'voter_name': 'Kelly Burke', 'date_of_birth': '1977-05-21T12:56:33.248Z', 'gender': 'female', 'nationality': 'GB', 'registration_number': 'heavylion442', 'address': {'street': '683 Fairview Road', 'city': 'Cardiff', 'state': 'Herefordshire', 'country': 'United Kingdom', 'postcode': 'WD5 5JE'}, 'email': 'kelly.burke@example.com', 'phone_number': '017684 33860', 'cell_number': '07877 291794', 'picture': 'https://randomuser.me/api/portraits/women/20.jpg', 'registered_age': 6}\n"
     ]
    },
    {
     "name": "stderr",
     "output_type": "stream",
     "text": [
      "%4|1704250447.569|TERMINATE|rdkafka#producer-8| [thrd:app]: Producer terminating with 1 message (535 bytes) still in queue or transit: use flush() to wait for outstanding message delivery\n",
      "%4|1704250447.756|TERMINATE|rdkafka#producer-9| [thrd:app]: Producer terminating with 1 message (526 bytes) still in queue or transit: use flush() to wait for outstanding message delivery\n"
     ]
    },
    {
     "name": "stdout",
     "output_type": "stream",
     "text": [
      "{'voter_id': '70f87f2c-a80b-402f-8936-1ce0d9550d1b', 'voter_name': 'Jake Andrews', 'date_of_birth': '1988-09-05T12:31:58.307Z', 'gender': 'male', 'nationality': 'GB', 'registration_number': 'browngorilla175', 'address': {'street': '5213 New Street', 'city': 'York', 'state': 'Cleveland', 'country': 'United Kingdom', 'postcode': 'Q9 0ZD'}, 'email': 'jake.andrews@example.com', 'phone_number': '0110009 796 9612', 'cell_number': '07312 806470', 'picture': 'https://randomuser.me/api/portraits/men/1.jpg', 'registered_age': 3}\n",
      "{'voter_id': '6ef39edd-37ca-40ca-a0df-44cb7d2e9e0a', 'voter_name': 'Harold Terry', 'date_of_birth': '1958-12-10T23:08:47.906Z', 'gender': 'male', 'nationality': 'GB', 'registration_number': 'smallwolf335', 'address': {'street': '2022 Park Lane', 'city': 'Wakefield', 'state': 'Surrey', 'country': 'United Kingdom', 'postcode': 'B18 9NB'}, 'email': 'harold.terry@example.com', 'phone_number': '0141 814 6312', 'cell_number': '07961 155109', 'picture': 'https://randomuser.me/api/portraits/men/74.jpg', 'registered_age': 5}\n"
     ]
    },
    {
     "name": "stderr",
     "output_type": "stream",
     "text": [
      "%4|1704250447.958|TERMINATE|rdkafka#producer-10| [thrd:app]: Producer terminating with 1 message (530 bytes) still in queue or transit: use flush() to wait for outstanding message delivery\n",
      "%4|1704250448.145|TERMINATE|rdkafka#producer-11| [thrd:app]: Producer terminating with 1 message (524 bytes) still in queue or transit: use flush() to wait for outstanding message delivery\n"
     ]
    },
    {
     "name": "stdout",
     "output_type": "stream",
     "text": [
      "{'voter_id': 'ccff831c-99d2-48c3-b5a8-3ae8dca24f01', 'voter_name': 'Randall Rhodes', 'date_of_birth': '1980-05-08T02:52:28.733Z', 'gender': 'male', 'nationality': 'GB', 'registration_number': 'redleopard275', 'address': {'street': '9425 Oaks Cross', 'city': 'Chichester', 'state': 'Cambridgeshire', 'country': 'United Kingdom', 'postcode': 'SZ4 7QA'}, 'email': 'randall.rhodes@example.com', 'phone_number': '015394 26486', 'cell_number': '07643 718677', 'picture': 'https://randomuser.me/api/portraits/men/52.jpg', 'registered_age': 3}\n"
     ]
    },
    {
     "name": "stderr",
     "output_type": "stream",
     "text": [
      "%4|1704250448.338|TERMINATE|rdkafka#producer-12| [thrd:app]: Producer terminating with 1 message (521 bytes) still in queue or transit: use flush() to wait for outstanding message delivery\n"
     ]
    },
    {
     "name": "stdout",
     "output_type": "stream",
     "text": [
      "{'voter_id': '2dd43b90-7d6c-44fd-b8f9-08af67247e61', 'voter_name': 'Brooke Snyder', 'date_of_birth': '1980-11-19T07:43:43.512Z', 'gender': 'female', 'nationality': 'GB', 'registration_number': 'organicbear588', 'address': {'street': '2254 Rectory Lane', 'city': 'Nottingham', 'state': 'Avon', 'country': 'United Kingdom', 'postcode': 'O49 3JN'}, 'email': 'brooke.snyder@example.com', 'phone_number': '0119989 787 4017', 'cell_number': '07640 268595', 'picture': 'https://randomuser.me/api/portraits/women/38.jpg', 'registered_age': 1}\n",
      "{'voter_id': '5e9ded60-c8c5-4146-8cf4-657995a85d05', 'voter_name': 'Faith Stone', 'date_of_birth': '1971-04-17T06:00:28.834Z', 'gender': 'female', 'nationality': 'GB', 'registration_number': 'goldengorilla395', 'address': {'street': '9052 The Crescent', 'city': 'Hereford', 'state': 'Avon', 'country': 'United Kingdom', 'postcode': 'ZP7 1XH'}, 'email': 'faith.stone@example.com', 'phone_number': '01340 162714', 'cell_number': '07860 056232', 'picture': 'https://randomuser.me/api/portraits/women/56.jpg', 'registered_age': 9}\n"
     ]
    },
    {
     "name": "stderr",
     "output_type": "stream",
     "text": [
      "%4|1704250448.631|TERMINATE|rdkafka#producer-13| [thrd:app]: Producer terminating with 1 message (535 bytes) still in queue or transit: use flush() to wait for outstanding message delivery\n",
      "%4|1704250448.821|TERMINATE|rdkafka#producer-14| [thrd:app]: Producer terminating with 1 message (534 bytes) still in queue or transit: use flush() to wait for outstanding message delivery\n"
     ]
    },
    {
     "name": "stdout",
     "output_type": "stream",
     "text": [
      "{'voter_id': 'a072d040-b878-4da5-9358-556651f04764', 'voter_name': 'Martin Bennett', 'date_of_birth': '1964-04-13T22:47:31.791Z', 'gender': 'male', 'nationality': 'GB', 'registration_number': 'greenleopard389', 'address': {'street': '1809 The Avenue', 'city': 'Armagh', 'state': 'Derbyshire', 'country': 'United Kingdom', 'postcode': 'FD4Y 1JW'}, 'email': 'martin.bennett@example.com', 'phone_number': '01309 03432', 'cell_number': '07549 760578', 'picture': 'https://randomuser.me/api/portraits/men/39.jpg', 'registered_age': 13}\n",
      "{'voter_id': 'a54be4e3-b945-4201-99b2-6a78971fa40b', 'voter_name': 'Marc Grant', 'date_of_birth': '1981-02-01T02:43:29.142Z', 'gender': 'male', 'nationality': 'GB', 'registration_number': 'sadcat484', 'address': {'street': '7086 Victoria Road', 'city': 'Derby', 'state': 'Warwickshire', 'country': 'United Kingdom', 'postcode': 'QZ3P 0WF'}, 'email': 'marc.grant@example.com', 'phone_number': '017684 91302', 'cell_number': '07073 497657', 'picture': 'https://randomuser.me/api/portraits/men/54.jpg', 'registered_age': 11}\n"
     ]
    },
    {
     "name": "stderr",
     "output_type": "stream",
     "text": [
      "%4|1704250448.998|TERMINATE|rdkafka#producer-15| [thrd:app]: Producer terminating with 1 message (526 bytes) still in queue or transit: use flush() to wait for outstanding message delivery\n",
      "%4|1704250449.194|TERMINATE|rdkafka#producer-16| [thrd:app]: Producer terminating with 1 message (530 bytes) still in queue or transit: use flush() to wait for outstanding message delivery\n"
     ]
    },
    {
     "name": "stdout",
     "output_type": "stream",
     "text": [
      "{'voter_id': '56a0e3b9-476b-48b1-8133-5dacbe7fa55b', 'voter_name': 'Ellen Hopkins', 'date_of_birth': '1983-03-19T06:23:28.437Z', 'gender': 'female', 'nationality': 'GB', 'registration_number': 'bluegoose871', 'address': {'street': '9083 Green Lane', 'city': 'Sheffield', 'state': 'Lincolnshire', 'country': 'United Kingdom', 'postcode': 'N92 9SU'}, 'email': 'ellen.hopkins@example.com', 'phone_number': '01294 422490', 'cell_number': '07092 951480', 'picture': 'https://randomuser.me/api/portraits/women/67.jpg', 'registered_age': 5}\n"
     ]
    },
    {
     "name": "stderr",
     "output_type": "stream",
     "text": [
      "%4|1704250449.380|TERMINATE|rdkafka#producer-17| [thrd:app]: Producer terminating with 1 message (521 bytes) still in queue or transit: use flush() to wait for outstanding message delivery\n"
     ]
    },
    {
     "name": "stdout",
     "output_type": "stream",
     "text": [
      "{'voter_id': '1ad9b148-167a-47bd-abe1-9e985edb197a', 'voter_name': 'Amanda Newman', 'date_of_birth': '1979-02-22T02:06:49.911Z', 'gender': 'female', 'nationality': 'GB', 'registration_number': 'bigmouse903', 'address': {'street': '7049 Brick Kiln Road', 'city': 'Dundee', 'state': 'Highlands and Islands', 'country': 'United Kingdom', 'postcode': 'Z22 6QG'}, 'email': 'amanda.newman@example.com', 'phone_number': '015395 07856', 'cell_number': '07211 230853', 'picture': 'https://randomuser.me/api/portraits/women/30.jpg', 'registered_age': 10}\n",
      "{'voter_id': 'c3b3a009-a92f-490c-abd4-038a4ab803e4', 'voter_name': 'Phillip Davies', 'date_of_birth': '1957-09-21T18:06:21.355Z', 'gender': 'male', 'nationality': 'GB', 'registration_number': 'ticklishfish108', 'address': {'street': '1995 Richmond Road', 'city': 'Aberdeen', 'state': 'Buckinghamshire', 'country': 'United Kingdom', 'postcode': 'W9 9EB'}, 'email': 'phillip.davies@example.com', 'phone_number': '024 4856 5903', 'cell_number': '07495 012369', 'picture': 'https://randomuser.me/api/portraits/men/66.jpg', 'registered_age': 11}\n"
     ]
    },
    {
     "name": "stderr",
     "output_type": "stream",
     "text": [
      "%4|1704250449.662|TERMINATE|rdkafka#producer-18| [thrd:app]: Producer terminating with 1 message (533 bytes) still in queue or transit: use flush() to wait for outstanding message delivery\n",
      "%4|1704250449.837|TERMINATE|rdkafka#producer-19| [thrd:app]: Producer terminating with 1 message (544 bytes) still in queue or transit: use flush() to wait for outstanding message delivery\n"
     ]
    },
    {
     "name": "stdout",
     "output_type": "stream",
     "text": [
      "{'voter_id': '6a2a2749-861c-4bf2-8c78-4e99645fd614', 'voter_name': 'Hunter Murray', 'date_of_birth': '1996-08-27T14:30:47.721Z', 'gender': 'male', 'nationality': 'GB', 'registration_number': 'heavyleopard372', 'address': {'street': '6789 Fairview Road', 'city': 'Lisburn', 'state': 'Devon', 'country': 'United Kingdom', 'postcode': 'GD62 8ZQ'}, 'email': 'hunter.murray@example.com', 'phone_number': '0115068 568 2836', 'cell_number': '07341 428200', 'picture': 'https://randomuser.me/api/portraits/men/58.jpg', 'registered_age': 10}\n",
      "{'voter_id': 'b4c9655c-0b6d-4ee5-96dc-44aa1d898424', 'voter_name': 'Nicky Fox', 'date_of_birth': '1983-01-23T14:45:12.302Z', 'gender': 'female', 'nationality': 'GB', 'registration_number': 'silverelephant354', 'address': {'street': '4079 London Road', 'city': 'Ely', 'state': 'Somerset', 'country': 'United Kingdom', 'postcode': 'C8W 4RA'}, 'email': 'nicky.fox@example.com', 'phone_number': '01696 990975', 'cell_number': '07579 579306', 'picture': 'https://randomuser.me/api/portraits/women/8.jpg', 'registered_age': 8}\n"
     ]
    },
    {
     "name": "stderr",
     "output_type": "stream",
     "text": [
      "%4|1704250450.021|TERMINATE|rdkafka#producer-20| [thrd:app]: Producer terminating with 1 message (540 bytes) still in queue or transit: use flush() to wait for outstanding message delivery\n",
      "%4|1704250450.219|TERMINATE|rdkafka#producer-21| [thrd:app]: Producer terminating with 1 message (532 bytes) still in queue or transit: use flush() to wait for outstanding message delivery\n"
     ]
    },
    {
     "name": "stdout",
     "output_type": "stream",
     "text": [
      "{'voter_id': '2e1036e2-bf0a-4fc7-8853-fb43dfda95e2', 'voter_name': 'Cameron Vasquez', 'date_of_birth': '1986-03-13T12:08:24.528Z', 'gender': 'male', 'nationality': 'GB', 'registration_number': 'goldenelephant995', 'address': {'street': '221 George Street', 'city': 'Hereford', 'state': 'West Midlands', 'country': 'United Kingdom', 'postcode': 'W7M 4XP'}, 'email': 'cameron.vasquez@example.com', 'phone_number': '0117429 856 7866', 'cell_number': '07537 533842', 'picture': 'https://randomuser.me/api/portraits/men/20.jpg', 'registered_age': 16}\n",
      "{'voter_id': 'ebd4ba21-e8e3-42a3-83ee-074eab1e3cda', 'voter_name': 'Susanna Ramirez', 'date_of_birth': '1960-06-30T16:32:56.997Z', 'gender': 'female', 'nationality': 'GB', 'registration_number': 'tinybear528', 'address': {'street': '7488 Richmond Road', 'city': 'Cambridge', 'state': 'Cheshire', 'country': 'United Kingdom', 'postcode': 'Z24 1QE'}, 'email': 'susanna.ramirez@example.com', 'phone_number': '016977 5132', 'cell_number': '07030 013772', 'picture': 'https://randomuser.me/api/portraits/women/65.jpg', 'registered_age': 2}\n"
     ]
    },
    {
     "name": "stderr",
     "output_type": "stream",
     "text": [
      "%4|1704250450.398|TERMINATE|rdkafka#producer-22| [thrd:app]: Producer terminating with 1 message (520 bytes) still in queue or transit: use flush() to wait for outstanding message delivery\n",
      "%4|1704250450.588|TERMINATE|rdkafka#producer-23| [thrd:app]: Producer terminating with 1 message (545 bytes) still in queue or transit: use flush() to wait for outstanding message delivery\n"
     ]
    },
    {
     "name": "stdout",
     "output_type": "stream",
     "text": [
      "{'voter_id': '12daa406-111d-4d97-b1ec-5e79e973b089', 'voter_name': 'Amber Chavez', 'date_of_birth': '1970-01-02T23:20:17.232Z', 'gender': 'female', 'nationality': 'GB', 'registration_number': 'silvergoose933', 'address': {'street': '6286 King Street', 'city': 'Aberdeen', 'state': 'Grampian', 'country': 'United Kingdom', 'postcode': 'QG4N 6XY'}, 'email': 'amber.chavez@example.com', 'phone_number': '013873 08557', 'cell_number': '07140 421784', 'picture': 'https://randomuser.me/api/portraits/women/85.jpg', 'registered_age': 9}\n",
      "{'voter_id': '8c779cd4-ebe2-472d-ba66-c482b0589073', 'voter_name': 'Kaitlin Rodriguez', 'date_of_birth': '1973-08-28T22:18:16.827Z', 'gender': 'female', 'nationality': 'GB', 'registration_number': 'happyrabbit369', 'address': {'street': '5915 Springfield Road', 'city': 'Stirling', 'state': 'Dumfries and Galloway', 'country': 'United Kingdom', 'postcode': 'X1W 3LS'}, 'email': 'kaitlin.rodriguez@example.com', 'phone_number': '016974 72642', 'cell_number': '07807 684108', 'picture': 'https://randomuser.me/api/portraits/women/67.jpg', 'registered_age': 18}\n"
     ]
    },
    {
     "name": "stderr",
     "output_type": "stream",
     "text": [
      "%4|1704250450.773|TERMINATE|rdkafka#producer-24| [thrd:app]: Producer terminating with 1 message (534 bytes) still in queue or transit: use flush() to wait for outstanding message delivery\n",
      "%4|1704250450.964|TERMINATE|rdkafka#producer-25| [thrd:app]: Producer terminating with 1 message (530 bytes) still in queue or transit: use flush() to wait for outstanding message delivery\n"
     ]
    },
    {
     "name": "stdout",
     "output_type": "stream",
     "text": [
      "{'voter_id': 'fd4f6d5e-b821-4fc3-ab06-0275984088b0', 'voter_name': 'Tyler Simmmons', 'date_of_birth': '1953-06-19T22:52:48.718Z', 'gender': 'male', 'nationality': 'GB', 'registration_number': 'angrygoose125', 'address': {'street': '9540 Main Street', 'city': 'Stirling', 'state': 'Dyfed', 'country': 'United Kingdom', 'postcode': 'T31 2FE'}, 'email': 'tyler.simmmons@example.com', 'phone_number': '017683 31113', 'cell_number': '07765 658488', 'picture': 'https://randomuser.me/api/portraits/men/36.jpg', 'registered_age': 12}\n",
      "{'voter_id': 'dc5378cc-0095-45fd-b72c-cf65a87dedb2', 'voter_name': 'Ruben Riley', 'date_of_birth': '1999-11-06T21:23:56.768Z', 'gender': 'male', 'nationality': 'GB', 'registration_number': 'bluerabbit777', 'address': {'street': '2188 Mill Road', 'city': 'Manchester', 'state': 'Rutland', 'country': 'United Kingdom', 'postcode': 'D0 8YA'}, 'email': 'ruben.riley@example.com', 'phone_number': '0113795 428 9233', 'cell_number': '07075 314451', 'picture': 'https://randomuser.me/api/portraits/men/35.jpg', 'registered_age': 14}\n"
     ]
    },
    {
     "name": "stderr",
     "output_type": "stream",
     "text": [
      "%4|1704250451.153|TERMINATE|rdkafka#producer-26| [thrd:app]: Producer terminating with 1 message (558 bytes) still in queue or transit: use flush() to wait for outstanding message delivery\n",
      "%4|1704250451.342|TERMINATE|rdkafka#producer-27| [thrd:app]: Producer terminating with 1 message (526 bytes) still in queue or transit: use flush() to wait for outstanding message delivery\n"
     ]
    },
    {
     "name": "stdout",
     "output_type": "stream",
     "text": [
      "{'voter_id': '28783ce2-561d-48c8-8c83-d89ef3908d22', 'voter_name': 'Calvin Lucas', 'date_of_birth': '1973-04-26T00:01:52.120Z', 'gender': 'male', 'nationality': 'GB', 'registration_number': 'orangeduck843', 'address': {'street': '5598 Green Lane', 'city': 'St Davids', 'state': 'West Midlands', 'country': 'United Kingdom', 'postcode': 'RP7 1SQ'}, 'email': 'calvin.lucas@example.com', 'phone_number': '017684 58288', 'cell_number': '07675 055908', 'picture': 'https://randomuser.me/api/portraits/men/88.jpg', 'registered_age': 9}\n",
      "{'voter_id': '2bc186a6-e180-4072-acba-f5309858fe81', 'voter_name': 'Barbara Perkins', 'date_of_birth': '1956-03-26T19:15:25.721Z', 'gender': 'female', 'nationality': 'GB', 'registration_number': 'purplewolf402', 'address': {'street': '5044 Main Street', 'city': 'Portsmouth', 'state': 'Grampian', 'country': 'United Kingdom', 'postcode': 'TH03 7FZ'}, 'email': 'barbara.perkins@example.com', 'phone_number': '0131 769 1253', 'cell_number': '07269 714384', 'picture': 'https://randomuser.me/api/portraits/women/56.jpg', 'registered_age': 21}\n"
     ]
    },
    {
     "name": "stderr",
     "output_type": "stream",
     "text": [
      "%4|1704250451.600|TERMINATE|rdkafka#producer-28| [thrd:app]: Producer terminating with 1 message (525 bytes) still in queue or transit: use flush() to wait for outstanding message delivery\n",
      "%4|1704250451.799|TERMINATE|rdkafka#producer-29| [thrd:app]: Producer terminating with 1 message (529 bytes) still in queue or transit: use flush() to wait for outstanding message delivery\n"
     ]
    },
    {
     "name": "stdout",
     "output_type": "stream",
     "text": [
      "{'voter_id': '82c4104e-4196-48ab-99f1-193694a4f582', 'voter_name': 'Kelly Carter', 'date_of_birth': '1958-03-10T09:51:46.164Z', 'gender': 'female', 'nationality': 'GB', 'registration_number': 'bigbutterfly631', 'address': {'street': '1099 Broadway', 'city': 'Dundee', 'state': 'Warwickshire', 'country': 'United Kingdom', 'postcode': 'L5E 3SL'}, 'email': 'kelly.carter@example.com', 'phone_number': '016973 90738', 'cell_number': '07467 012672', 'picture': 'https://randomuser.me/api/portraits/women/58.jpg', 'registered_age': 13}\n",
      "{'voter_id': '87f1901e-b906-4ca3-bcbb-a2b6e5c0f638', 'voter_name': 'Jimmy Jordan', 'date_of_birth': '1954-08-24T15:29:13.073Z', 'gender': 'male', 'nationality': 'GB', 'registration_number': 'sadpanda713', 'address': {'street': '634 Park Lane', 'city': 'Bangor', 'state': 'Cambridgeshire', 'country': 'United Kingdom', 'postcode': 'T1 8RP'}, 'email': 'jimmy.jordan@example.com', 'phone_number': '015394 81490', 'cell_number': '07663 191453', 'picture': 'https://randomuser.me/api/portraits/men/40.jpg', 'registered_age': 6}\n"
     ]
    },
    {
     "name": "stderr",
     "output_type": "stream",
     "text": [
      "%4|1704250451.995|TERMINATE|rdkafka#producer-30| [thrd:app]: Producer terminating with 1 message (539 bytes) still in queue or transit: use flush() to wait for outstanding message delivery\n",
      "%4|1704250452.167|TERMINATE|rdkafka#producer-31| [thrd:app]: Producer terminating with 1 message (530 bytes) still in queue or transit: use flush() to wait for outstanding message delivery\n"
     ]
    }
   ],
   "source": [
    "x = mysqlserver('root','mysql','localhost','mydesenv')\n",
    "conn = x.create_server_connection()\n",
    "x.insert_table(conn)"
   ]
  },
  {
   "cell_type": "markdown",
   "metadata": {},
   "source": [
    "### insert voter"
   ]
  },
  {
   "cell_type": "code",
   "execution_count": 10,
   "metadata": {},
   "outputs": [],
   "source": [
    "import random\n",
    "import time\n",
    "from datetime import datetime\n",
    "import mysql.connector\n",
    "from mysql.connector import errorcode\n",
    "import simplejson as json\n",
    "from confluent_kafka import Consumer, KafkaException, KafkaError, SerializingProducer\n",
    "\n",
    "\n",
    "conf = {\n",
    "    'bootstrap.servers': 'localhost:9092',\n",
    "}\n",
    "\n",
    "consumer = Consumer(conf | {\n",
    "    'group.id': 'voting-group',\n",
    "    'auto.offset.reset': 'earliest',\n",
    "    'enable.auto.commit': False\n",
    "})\n",
    "\n",
    "producer = SerializingProducer(conf)\n",
    "\n",
    "def consume_messages():\n",
    "    result = []\n",
    "    consumer.subscribe(['candidates_topic'])\n",
    "    try:\n",
    "        while True:\n",
    "            msg = consumer.poll(timeout=1.0)\n",
    "            if msg is None:\n",
    "                continue\n",
    "            elif msg.error():\n",
    "                if msg.error().code() == KafkaError._PARTITION_EOF:\n",
    "                    continue\n",
    "                else:\n",
    "                    print(msg.error())\n",
    "                    break\n",
    "            else:\n",
    "                result.append(json.loads(msg.value().decode('utf-8')))\n",
    "                if len(result) == 3:\n",
    "                    return result\n",
    "\n",
    "            # time.sleep(5)\n",
    "    except KafkaException as e:\n",
    "        print(e)"
   ]
  },
  {
   "cell_type": "code",
   "execution_count": 11,
   "metadata": {},
   "outputs": [
    {
     "name": "stdout",
     "output_type": "stream",
     "text": [
      "KafkaError{code=UNKNOWN_TOPIC_OR_PART,val=3,str=\"Subscribed topic not available: candidates_topic: Broker: Unknown topic or partition\"}\n",
      "None\n"
     ]
    }
   ],
   "source": [
    "df = consume_messages()\n",
    "print(df)"
   ]
  }
 ],
 "metadata": {
  "kernelspec": {
   "display_name": "Python 3",
   "language": "python",
   "name": "python3"
  },
  "language_info": {
   "codemirror_mode": {
    "name": "ipython",
    "version": 3
   },
   "file_extension": ".py",
   "mimetype": "text/x-python",
   "name": "python",
   "nbconvert_exporter": "python",
   "pygments_lexer": "ipython3",
   "version": "3.9.6"
  }
 },
 "nbformat": 4,
 "nbformat_minor": 2
}
