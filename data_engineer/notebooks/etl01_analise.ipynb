{
 "cells": [
  {
   "cell_type": "markdown",
   "metadata": {},
   "source": [
    "### Analises das bases MSSQL"
   ]
  },
  {
   "cell_type": "code",
   "execution_count": 1,
   "metadata": {},
   "outputs": [],
   "source": [
    "from pyspark.sql import *\n",
    "from pyspark.sql.functions import *\n",
    "from pyspark.sql.types import *"
   ]
  },
  {
   "cell_type": "code",
   "execution_count": 2,
   "metadata": {},
   "outputs": [
    {
     "name": "stderr",
     "output_type": "stream",
     "text": [
      "22/12/28 21:46:23 WARN Utils: Your hostname, Eduardos-MacBook-Pro.local resolves to a loopback address: 127.0.0.1; using 192.168.3.5 instead (on interface en0)\n",
      "22/12/28 21:46:23 WARN Utils: Set SPARK_LOCAL_IP if you need to bind to another address\n",
      "Using Spark's default log4j profile: org/apache/spark/log4j-defaults.properties\n",
      "Setting default log level to \"WARN\".\n",
      "To adjust logging level use sc.setLogLevel(newLevel). For SparkR, use setLogLevel(newLevel).\n",
      "22/12/28 21:46:24 WARN NativeCodeLoader: Unable to load native-hadoop library for your platform... using builtin-java classes where applicable\n"
     ]
    }
   ],
   "source": [
    "spark=SparkSession.builder.master(\"local[1]\")\\\n",
    "        .appName(\"movie\")\\\n",
    "        .config(\"spark.driver.extraClassPath\",\"/Users/eduardoalberto/opt/spark/jars/mssql-jdbc-7.4.1.jre8.jar\" ) \\\n",
    "        .getOrCreate()\n",
    "sc = spark.sparkContext\n",
    "spark.sparkContext.setLogLevel(\"OFF\") "
   ]
  },
  {
   "cell_type": "code",
   "execution_count": 3,
   "metadata": {},
   "outputs": [],
   "source": [
    "# tabelas do mssql\n",
    "t1 = spark.read.jdbc(\"jdbc:sqlserver://localhost:1433;databaseName=DBPROD511\", \"Sales.Customer\",properties={\"user\": \"sa\", \"password\": \"Numsey@Password!\"})\n",
    "t2 = spark.read.jdbc(\"jdbc:sqlserver://localhost:1433;databaseName=DBPROD511\", \"Sales.Currency\",properties={\"user\": \"sa\", \"password\": \"Numsey@Password!\"}) \n",
    "t3 = spark.read.jdbc(\"jdbc:sqlserver://localhost:1433;databaseName=DBPROD511\", \"Person.Address\",properties={\"user\": \"sa\", \"password\": \"Numsey@Password!\"}) \n",
    "t4 = spark.read.jdbc(\"jdbc:sqlserver://localhost:1433;databaseName=DBPROD511\", \"Production.Product\",properties={\"user\": \"sa\", \"password\": \"Numsey@Password!\"}) \n",
    "t5 = spark.read.jdbc(\"jdbc:sqlserver://localhost:1433;databaseName=DBPROD511\", \"Person.Person\",properties={\"user\": \"sa\", \"password\": \"Numsey@Password!\"})"
   ]
  },
  {
   "cell_type": "code",
   "execution_count": 4,
   "metadata": {},
   "outputs": [],
   "source": [
    "t1.createOrReplaceTempView(\"tb_customer\")\n",
    "t2.createOrReplaceTempView(\"tb_currency\")\n",
    "t3.createOrReplaceTempView(\"tb_address\")\n",
    "t4.createOrReplaceTempView(\"tb_product\")\n",
    "t5.createOrReplaceTempView(\"tb_person\")"
   ]
  },
  {
   "cell_type": "code",
   "execution_count": 6,
   "metadata": {},
   "outputs": [],
   "source": [
    "df = spark.table(\"tb_customer\").cache()"
   ]
  },
  {
   "cell_type": "code",
   "execution_count": 8,
   "metadata": {},
   "outputs": [
    {
     "name": "stderr",
     "output_type": "stream",
     "text": [
      "                                                                                \r"
     ]
    },
    {
     "name": "stdout",
     "output_type": "stream",
     "text": [
      "+---------------------+-----------------------+\n",
      "|PersonID_ModifiedDate|2014-09-12 11:15:07.263|\n",
      "+---------------------+-----------------------+\n",
      "|                14221|                      1|\n",
      "|                 8607|                      1|\n",
      "|                13950|                      1|\n",
      "|                16466|                      1|\n",
      "|                19887|                      1|\n",
      "|                18180|                      1|\n",
      "|                16383|                      1|\n",
      "|                10822|                      1|\n",
      "|                16216|                      1|\n",
      "|                15874|                      1|\n",
      "|                 5385|                      1|\n",
      "|                 5810|                      1|\n",
      "|                 7375|                      1|\n",
      "|                 5659|                      1|\n",
      "|                19204|                      1|\n",
      "|                20194|                      1|\n",
      "|                14977|                      1|\n",
      "|                 9929|                      1|\n",
      "|                11866|                      1|\n",
      "|                12928|                      1|\n",
      "+---------------------+-----------------------+\n",
      "only showing top 20 rows\n",
      "\n"
     ]
    }
   ],
   "source": [
    "df.crosstab(\"PersonID\",\"ModifiedDate\").show()"
   ]
  },
  {
   "cell_type": "code",
   "execution_count": 7,
   "metadata": {},
   "outputs": [
    {
     "name": "stderr",
     "output_type": "stream",
     "text": [
      "                                                                                \r"
     ]
    },
    {
     "data": {
      "text/html": [
       "<div>\n",
       "<style scoped>\n",
       "    .dataframe tbody tr th:only-of-type {\n",
       "        vertical-align: middle;\n",
       "    }\n",
       "\n",
       "    .dataframe tbody tr th {\n",
       "        vertical-align: top;\n",
       "    }\n",
       "\n",
       "    .dataframe thead th {\n",
       "        text-align: right;\n",
       "    }\n",
       "</style>\n",
       "<table border=\"1\" class=\"dataframe\">\n",
       "  <thead>\n",
       "    <tr style=\"text-align: right;\">\n",
       "      <th></th>\n",
       "      <th>CustomerID</th>\n",
       "      <th>PersonID</th>\n",
       "      <th>StoreID</th>\n",
       "      <th>TerritoryID</th>\n",
       "      <th>AccountNumber</th>\n",
       "      <th>rowguid</th>\n",
       "      <th>ModifiedDate</th>\n",
       "    </tr>\n",
       "  </thead>\n",
       "  <tbody>\n",
       "    <tr>\n",
       "      <th>0</th>\n",
       "      <td>1</td>\n",
       "      <td>NaN</td>\n",
       "      <td>934.0</td>\n",
       "      <td>1</td>\n",
       "      <td>AW00000001</td>\n",
       "      <td>3F5AE95E-B87D-4AED-95B4-C3797AFCB74F</td>\n",
       "      <td>2014-09-12 11:15:07.263</td>\n",
       "    </tr>\n",
       "    <tr>\n",
       "      <th>1</th>\n",
       "      <td>2</td>\n",
       "      <td>NaN</td>\n",
       "      <td>1028.0</td>\n",
       "      <td>1</td>\n",
       "      <td>AW00000002</td>\n",
       "      <td>E552F657-A9AF-4A7D-A645-C429D6E02491</td>\n",
       "      <td>2014-09-12 11:15:07.263</td>\n",
       "    </tr>\n",
       "    <tr>\n",
       "      <th>2</th>\n",
       "      <td>3</td>\n",
       "      <td>NaN</td>\n",
       "      <td>642.0</td>\n",
       "      <td>4</td>\n",
       "      <td>AW00000003</td>\n",
       "      <td>130774B1-DB21-4EF3-98C8-C104BCD6ED6D</td>\n",
       "      <td>2014-09-12 11:15:07.263</td>\n",
       "    </tr>\n",
       "    <tr>\n",
       "      <th>3</th>\n",
       "      <td>4</td>\n",
       "      <td>NaN</td>\n",
       "      <td>932.0</td>\n",
       "      <td>4</td>\n",
       "      <td>AW00000004</td>\n",
       "      <td>FF862851-1DAA-4044-BE7C-3E85583C054D</td>\n",
       "      <td>2014-09-12 11:15:07.263</td>\n",
       "    </tr>\n",
       "    <tr>\n",
       "      <th>4</th>\n",
       "      <td>5</td>\n",
       "      <td>NaN</td>\n",
       "      <td>1026.0</td>\n",
       "      <td>4</td>\n",
       "      <td>AW00000005</td>\n",
       "      <td>83905BDC-6F5E-4F71-B162-C98DA069F38A</td>\n",
       "      <td>2014-09-12 11:15:07.263</td>\n",
       "    </tr>\n",
       "    <tr>\n",
       "      <th>...</th>\n",
       "      <td>...</td>\n",
       "      <td>...</td>\n",
       "      <td>...</td>\n",
       "      <td>...</td>\n",
       "      <td>...</td>\n",
       "      <td>...</td>\n",
       "      <td>...</td>\n",
       "    </tr>\n",
       "    <tr>\n",
       "      <th>19815</th>\n",
       "      <td>30114</td>\n",
       "      <td>1985.0</td>\n",
       "      <td>1986.0</td>\n",
       "      <td>7</td>\n",
       "      <td>AW00030114</td>\n",
       "      <td>97154F3D-28F1-4B15-AE03-9518B781ECE3</td>\n",
       "      <td>2014-09-12 11:15:07.263</td>\n",
       "    </tr>\n",
       "    <tr>\n",
       "      <th>19816</th>\n",
       "      <td>30115</td>\n",
       "      <td>1987.0</td>\n",
       "      <td>1988.0</td>\n",
       "      <td>6</td>\n",
       "      <td>AW00030115</td>\n",
       "      <td>E4CF8FD5-30A4-4B8E-8FD8-47032E255778</td>\n",
       "      <td>2014-09-12 11:15:07.263</td>\n",
       "    </tr>\n",
       "    <tr>\n",
       "      <th>19817</th>\n",
       "      <td>30116</td>\n",
       "      <td>1989.0</td>\n",
       "      <td>1990.0</td>\n",
       "      <td>4</td>\n",
       "      <td>AW00030116</td>\n",
       "      <td>EC409609-D25D-41B8-9D15-A1AA6E89FC77</td>\n",
       "      <td>2014-09-12 11:15:07.263</td>\n",
       "    </tr>\n",
       "    <tr>\n",
       "      <th>19818</th>\n",
       "      <td>30117</td>\n",
       "      <td>1991.0</td>\n",
       "      <td>1992.0</td>\n",
       "      <td>4</td>\n",
       "      <td>AW00030117</td>\n",
       "      <td>6F08E2FB-1CD3-4F6E-A2E6-385669598B19</td>\n",
       "      <td>2014-09-12 11:15:07.263</td>\n",
       "    </tr>\n",
       "    <tr>\n",
       "      <th>19819</th>\n",
       "      <td>30118</td>\n",
       "      <td>1993.0</td>\n",
       "      <td>1994.0</td>\n",
       "      <td>3</td>\n",
       "      <td>AW00030118</td>\n",
       "      <td>2495B4EB-FE8B-459E-A1B6-DBA25C04E626</td>\n",
       "      <td>2014-09-12 11:15:07.263</td>\n",
       "    </tr>\n",
       "  </tbody>\n",
       "</table>\n",
       "<p>19820 rows × 7 columns</p>\n",
       "</div>"
      ],
      "text/plain": [
       "       CustomerID  PersonID  StoreID  TerritoryID AccountNumber  \\\n",
       "0               1       NaN    934.0            1    AW00000001   \n",
       "1               2       NaN   1028.0            1    AW00000002   \n",
       "2               3       NaN    642.0            4    AW00000003   \n",
       "3               4       NaN    932.0            4    AW00000004   \n",
       "4               5       NaN   1026.0            4    AW00000005   \n",
       "...           ...       ...      ...          ...           ...   \n",
       "19815       30114    1985.0   1986.0            7    AW00030114   \n",
       "19816       30115    1987.0   1988.0            6    AW00030115   \n",
       "19817       30116    1989.0   1990.0            4    AW00030116   \n",
       "19818       30117    1991.0   1992.0            4    AW00030117   \n",
       "19819       30118    1993.0   1994.0            3    AW00030118   \n",
       "\n",
       "                                    rowguid            ModifiedDate  \n",
       "0      3F5AE95E-B87D-4AED-95B4-C3797AFCB74F 2014-09-12 11:15:07.263  \n",
       "1      E552F657-A9AF-4A7D-A645-C429D6E02491 2014-09-12 11:15:07.263  \n",
       "2      130774B1-DB21-4EF3-98C8-C104BCD6ED6D 2014-09-12 11:15:07.263  \n",
       "3      FF862851-1DAA-4044-BE7C-3E85583C054D 2014-09-12 11:15:07.263  \n",
       "4      83905BDC-6F5E-4F71-B162-C98DA069F38A 2014-09-12 11:15:07.263  \n",
       "...                                     ...                     ...  \n",
       "19815  97154F3D-28F1-4B15-AE03-9518B781ECE3 2014-09-12 11:15:07.263  \n",
       "19816  E4CF8FD5-30A4-4B8E-8FD8-47032E255778 2014-09-12 11:15:07.263  \n",
       "19817  EC409609-D25D-41B8-9D15-A1AA6E89FC77 2014-09-12 11:15:07.263  \n",
       "19818  6F08E2FB-1CD3-4F6E-A2E6-385669598B19 2014-09-12 11:15:07.263  \n",
       "19819  2495B4EB-FE8B-459E-A1B6-DBA25C04E626 2014-09-12 11:15:07.263  \n",
       "\n",
       "[19820 rows x 7 columns]"
      ]
     },
     "execution_count": 7,
     "metadata": {},
     "output_type": "execute_result"
    }
   ],
   "source": [
    "df.toPandas()"
   ]
  },
  {
   "cell_type": "code",
   "execution_count": null,
   "metadata": {},
   "outputs": [],
   "source": []
  }
 ],
 "metadata": {
  "kernelspec": {
   "display_name": "Python 3.10.1 64-bit",
   "language": "python",
   "name": "python3"
  },
  "language_info": {
   "codemirror_mode": {
    "name": "ipython",
    "version": 3
   },
   "file_extension": ".py",
   "mimetype": "text/x-python",
   "name": "python",
   "nbconvert_exporter": "python",
   "pygments_lexer": "ipython3",
   "version": "3.10.1 (v3.10.1:2cd268a3a9, Dec  6 2021, 14:28:59) [Clang 13.0.0 (clang-1300.0.29.3)]"
  },
  "orig_nbformat": 4,
  "vscode": {
   "interpreter": {
    "hash": "aee8b7b246df8f9039afb4144a1f6fd8d2ca17a180786b69acc140d282b71a49"
   }
  }
 },
 "nbformat": 4,
 "nbformat_minor": 2
}
