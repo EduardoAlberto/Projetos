{
 "cells": [
  {
   "cell_type": "code",
   "execution_count": 1,
   "metadata": {},
   "outputs": [
    {
     "name": "stderr",
     "output_type": "stream",
     "text": [
      "24/10/15 21:54:25 WARN Utils: Your hostname, MacBook-Pro-de-Eduardo.local resolves to a loopback address: 127.0.0.1; using 192.168.3.149 instead (on interface en0)\n",
      "24/10/15 21:54:25 WARN Utils: Set SPARK_LOCAL_IP if you need to bind to another address\n",
      "Setting default log level to \"WARN\".\n",
      "To adjust logging level use sc.setLogLevel(newLevel). For SparkR, use setLogLevel(newLevel).\n",
      "24/10/15 21:54:25 WARN NativeCodeLoader: Unable to load native-hadoop library for your platform... using builtin-java classes where applicable\n"
     ]
    },
    {
     "data": {
      "text/plain": [
       "DataFrame[namespace: string]"
      ]
     },
     "execution_count": 1,
     "metadata": {},
     "output_type": "execute_result"
    }
   ],
   "source": [
    "\n",
    "from os.path import abspath\n",
    "from pyspark.sql import SparkSession,Row\n",
    "from pyspark.sql.functions import *\n",
    "\n",
    "\n",
    "spark=SparkSession.builder.master(\"local[1]\")\\\n",
    "        .appName(\"Music\")\\\n",
    "        .config(\"spark.driver.extraClassPath\",\"/Users/eduardoalberto/opt/spark/jars/mssql-jdbc-7.4.1.jre8.jar\" ) \\\n",
    "        .config(\"spark.sql.warehouse.dir\", '/Users/eduardoalberto/LoadFile/warehouse') \\\n",
    "        .config(\"spark.sql.catalogImplementation\", \"hive\") \\\n",
    "        .enableHiveSupport() \\\n",
    "        .getOrCreate()\n",
    "sc = spark.sparkContext\n",
    "spark.sparkContext.setLogLevel(\"OFF\") \n",
    "\n",
    "spark.sql(\"create database if not exists proddb150\")\n",
    "spark.sql(\"show databases;\")"
   ]
  },
  {
   "cell_type": "code",
   "execution_count": 2,
   "metadata": {},
   "outputs": [
    {
     "name": "stderr",
     "output_type": "stream",
     "text": [
      "                                                                                \r"
     ]
    },
    {
     "name": "stdout",
     "output_type": "stream",
     "text": [
      "+------------+--------------------+------------+------+-----------+--------+--------------------+----------------+---+--------+--------+----+--------------------+----------+------------+-----------+-------+-------+----+-------------+-----+\n",
      "|acousticness|             artists|danceability|energy|duration_ms|explicit|                  id|instrumentalness|key|liveness|loudness|mode|                name|popularity|release_date|speechiness|  tempo|valence|year|dat_ref_carga|rowid|\n",
      "+------------+--------------------+------------+------+-----------+--------+--------------------+----------------+---+--------+--------+----+--------------------+----------+------------+-----------+-------+-------+----+-------------+-----+\n",
      "|        1.00|   Carl Woitschach  |        0.71|  0.20|     158648|       0|6KbQ3uYMLKb5jDxLF...|            0.56| 10|   0.151| -12.428|   1|Singende Bataillo...|         0|  1990-01-10|       0.05|118.469|   0.78|1928|   2024-10-15|    0|\n",
      "|        0.99|  Robert Schumann...|        0.38|  0.01|     282133|       0|6KuQTIu1KoTTkLXKr...|            0.90|  8|   0.076| -28.454|   1|Fantasiestücke, O...|         0|  1990-01-10|       0.05| 83.972|   0.08|1928|   2024-10-15|    1|\n",
      "|        0.60|  Seweryn Goszczy...|        0.75|  0.22|     104300|       0|6L63VW0PibdM1HDSB...|            0.00|  5|   0.119| -19.924|   0|Chapter 1.18 - Za...|         0|  1990-01-10|       0.93|107.177|   0.88|1928|   2024-10-15|    2|\n",
      "|        1.00|  Francisco Canaro  |        0.78|  0.13|     180760|       0|6M94FkXd15sOAOQYR...|            0.89|  1|   0.111| -14.734|   0|Bebamos Juntos - ...|         0|  1928-09-25|       0.09|108.003|   0.72|1928|   2024-10-15|    3|\n",
      "|        0.99|  Fr d ric Chopin...|        0.21|  0.20|     687733|       0|6N6tiFZ9vLTSOIxkj...|            0.91| 11|   0.098| -16.829|   1|Polonaise-Fantais...|         1|  1990-01-10|       0.04| 62.149|   0.07|1928|   2024-10-15|    4|\n",
      "|        1.00|  Felix Mendelsso...|        0.42|  0.12|     352600|       0|6NxAf7M8DNHOBTmEd...|            0.91|  6|   0.092| -19.242|   0|Scherzo a capricc...|         0|  1990-01-10|       0.06| 63.521|   0.27|1928|   2024-10-15|    5|\n",
      "|        0.96|  Franz Liszt    ...|        0.44|  0.20|     136627|       0|6O0puPuyrxPjDTHDU...|            0.44| 11|   0.074| -17.226|   1|Valse oubliée No....|         0|  1990-01-10|       0.04| 80.495|   0.31|1928|   2024-10-15|    6|\n",
      "|        0.99|   Carl Woitschach  |        0.56|  0.42|     153967|       0|6OJjveoYwJdIt76y0...|            0.84|  1|   0.105|  -9.878|   1| Per aspera ad astra|         0|  1990-01-10|       0.05|123.310|   0.86|1928|   2024-10-15|    7|\n",
      "|        1.00|  Francisco Canar...|        0.68|  0.21|     162493|       0|6OaJ8Bh7lsBeYoBmw...|            0.21|  9|   0.337|  -9.801|   0|Moneda Corriente ...|         0|  1928-10-03|       0.13|119.833|   0.49|1928|   2024-10-15|    8|\n",
      "|        0.85|  Seweryn Goszczy...|        0.67|  0.21|     111600|       0|6PrZexNb16cabXR8Q...|            0.00|  9|   0.170| -20.119|   1|Chapter 1.3 - Zam...|         0|  1990-01-10|       0.95| 81.249|   0.76|1928|   2024-10-15|    9|\n",
      "+------------+--------------------+------------+------+-----------+--------+--------------------+----------------+---+--------+--------+----+--------------------+----------+------------+-----------+-------+-------+----+-------------+-----+\n",
      "\n"
     ]
    }
   ],
   "source": [
    "   \n",
    "from pyspark.sql.functions import *\n",
    "from pyspark.sql.types import *\n",
    "\n",
    "df = spark.read.option(\"header\", \"true\").option('inferSchema', 'true').csv('/Users/eduardoalberto/LoadFile/archive/data.csv') \n",
    "df = df.selectExpr(\"cast(acousticness as decimal(3,2)) as acousticness\",\n",
    "                         \"regexp_replace(trim(artists),'[^a-zA-Z0-9]',' ') as artists\",\n",
    "                         \"cast(danceability as decimal(3,2)) as danceability \",\n",
    "                         \"cast(energy as decimal(3,2)) as energy\",\n",
    "                         \"duration_ms\",\n",
    "                         \"explicit\",\n",
    "                         \"id\",\n",
    "                         \"cast(instrumentalness as decimal(3,2) ) as instrumentalness\",\n",
    "                         \"key\",\n",
    "                         \"cast (liveness as decimal(19,3) ) as liveness\",\n",
    "                         \"cast(loudness as decimal(19,3)) as loudness\",\n",
    "                         \"mode\",\n",
    "                         \"name\",\n",
    "                         \"popularity\",\n",
    "                         \"\"\" case when len(trim(release_date))<> 10 then '1990-01-10' else release_date\n",
    "                                    end as release_date\n",
    "                         \"\"\",\n",
    "                         \"cast(speechiness as decimal(5,2)) as speechiness\",\n",
    "                         \"cast(tempo as decimal(19,3)) as tempo\",\n",
    "                         \"cast(valence as decimal(3,2)) as valence\",\n",
    "                         \"year\",\n",
    "                         \"current_date() as dat_ref_carga\"\n",
    "                         )\\\n",
    "            .withColumn('release_date', expr(\"case when release_date = 'Whipped into Shape' then '1990-01-10' else release_date end\"))\\\n",
    "            .withColumn('danceability', expr(\"case when trim(regexp_replace(danceability,'[^a-zA-Z0-9]',' ')) = 'Michael Rupert' then 0 else danceability end  \"))\\\n",
    "            .withColumn(\"rowid\", monotonically_increasing_id()) \n",
    "\n",
    "\n",
    "df.write.mode(saveMode=\"overwrite\").saveAsTable(\"proddb150.tb_music\")\n",
    "spark.table(\"proddb150.tb_music\").limit(10).show()\n",
    "\n",
    "# df.write.mode(\"append\").jdbc(\"jdbc:mysql://localhost:3306/myDbUser\", \"tb_music\",properties={\"user\": \"root\", \"password\": \"mysql\"})\n",
    "\n",
    "\n",
    "\n",
    "# txt03 = spark.read.option(\"header\", \"true\").option('inferSchema', 'true').csv('/Users/eduardoalberto/LoadFile/archive/artists.csv')\n",
    "# txt04 = spark.read.option(\"header\", \"true\").option('inferSchema', 'true').csv('/Users/eduardoalberto/LoadFile/archive/playlists.csv')"
   ]
  },
  {
   "cell_type": "code",
   "execution_count": 3,
   "metadata": {},
   "outputs": [
    {
     "name": "stderr",
     "output_type": "stream",
     "text": [
      "[Stage 6:>                                                          (0 + 1) / 1]\r"
     ]
    },
    {
     "name": "stdout",
     "output_type": "stream",
     "text": [
      "+--------------------+--------------------+----------+-----------+--------+-------+----------+------------+------------+------+---+--------+----+-----------+------------+----------------+--------+-------+-------+--------------+-----+\n",
      "|                  id|                name|popularity|duration_ms|explicit|artists|id_artists|release_date|danceability|energy|key|loudness|mode|speechiness|acousticness|instrumentalness|liveness|valence|  tempo|time_signature|rowid|\n",
      "+--------------------+--------------------+----------+-----------+--------+-------+----------+------------+------------+------+---+--------+----+-----------+------------+----------------+--------+-------+-------+--------------+-----+\n",
      "|35iwgR4jXetI318WE...|               Carve|         6|     126903|       0|artists|id artists|  1922-02-22|       0.645| 0.445|  0| -13.338|   1|      0.451|       0.674|           0.744|   0.151|  0.127|104.851|             3|    0|\n",
      "|021ht4sdgPcrDgSk7...|Capítulo 2.16 - B...|         0|      98200|       0|artists|id artists|  1922-06-01|       0.695| 0.263|  0| -22.136|   1|      0.957|       0.797|             0.0|   0.148|  0.655|102.009|             1|    1|\n",
      "|07A5yehtSnoedViJA...|Vivo para Querert...|         0|     181640|       0|artists|id artists|  1922-03-21|       0.434| 0.177|  1|  -21.18|   1|     0.0512|       0.994|          0.0218|   0.212|  0.457|130.418|             5|    2|\n",
      "|08FmqUhxtyLTn6pAh...|El Prisionero - R...|         0|     176907|       0|artists|id artists|  1922-03-21|       0.321|0.0946|  7| -27.961|   1|     0.0504|       0.995|           0.918|   0.104|  0.397| 169.98|             3|    3|\n",
      "|08y9GfoqCWfOGsKdw...| Lady of the Evening|         0|     163080|       0|artists|id artists|  1922-01-01|       0.402| 0.158|  3|   -16.9|   0|      0.039|       0.989|            0.13|   0.311|  0.196| 103.22|             4|    4|\n",
      "|0BRXJHRNGQ3W4v9fr...|           Ave Maria|         0|     178933|       0|artists|id artists|  1922-01-01|       0.227| 0.261|  5| -12.343|   1|     0.0382|       0.994|           0.247|  0.0977| 0.0539|118.891|             4|    5|\n",
      "|0Dd9ImXtAtGwsmsAD...|      La Butte Rouge|         0|     134467|       0|artists|id artists|  1922-01-01|        0.51| 0.355|  4| -12.833|   1|      0.124|       0.965|             0.0|   0.155|  0.727| 85.754|             5|    6|\n",
      "|0IA0Hju8CAgYfV1hw...|             La Java|         0|     161427|       0|artists|id artists|  1922-01-01|       0.563| 0.184|  4| -13.757|   1|     0.0512|       0.993|        1.55e-05|   0.325|  0.654|133.088|             3|    7|\n",
      "|0IgI1UCz84pYeVetn...|  Old Fashioned Girl|         0|     310073|       0|artists|id artists|  1922-01-01|       0.488| 0.475|  0| -16.222|   0|     0.0399|        0.62|         0.00645|   0.107|  0.544|139.952|             4|    8|\n",
      "|0JV4iqw2lSKJaHBQZ...|Martín Fierro - R...|         0|     181173|       0|artists|id artists|  1922-03-29|       0.548|0.0391|  6| -23.228|   1|      0.153|       0.996|           0.933|   0.148|  0.612| 75.595|             3|    9|\n",
      "+--------------------+--------------------+----------+-----------+--------+-------+----------+------------+------------+------+---+--------+----+-----------+------------+----------------+--------+-------+-------+--------------+-----+\n",
      "\n"
     ]
    },
    {
     "name": "stderr",
     "output_type": "stream",
     "text": [
      "                                                                                \r"
     ]
    }
   ],
   "source": [
    "from pyspark.sql.functions import *\n",
    "from pyspark.sql.types import *\n",
    "\n",
    "tracks = spark.read.option(\"header\", \"true\").option('inferSchema', 'true').csv('/Users/eduardoalberto/LoadFile/archive/tracks.csv')\n",
    "\n",
    "df_tracks = tracks.selectExpr(\"id\"\n",
    "                             ,\"name\"\n",
    "                             ,\"popularity\"\n",
    "                             ,\"duration_ms\"\n",
    "                             ,\"explicit\"\n",
    "                             ,\"regexp_replace('artists','[^a-zA-Z0-9]',' ') as artists \"\n",
    "                             ,\"regexp_replace('id_artists','[^a-zA-Z0-9]',' ') as id_artists\"\n",
    "                             ,\"case when len(trim(release_date)) <> 10  then '1922-01-01' else release_date end as release_date\"\n",
    "                             ,\"danceability\"\n",
    "                             ,\"energy\"\n",
    "                             ,\"key\"\n",
    "                             ,\"loudness\"\n",
    "                             ,\"mode\"\n",
    "                             ,\"speechiness\"\n",
    "                             ,\"acousticness\"\n",
    "                             ,\"instrumentalness\"\n",
    "                             ,\"liveness\"\n",
    "                             ,\"valence\"\n",
    "                             ,\"tempo\"\n",
    "                             ,\"time_signature\")\\\n",
    "                        .withColumn(\"rowid\", monotonically_increasing_id()) \n",
    "df_tracks.write.mode(saveMode=\"overwrite\").saveAsTable(\"proddb150.tb_tracks\")\n",
    "spark.table(\"proddb150.tb_tracks\").limit(10).show()\n"
   ]
  },
  {
   "cell_type": "code",
   "execution_count": 5,
   "metadata": {},
   "outputs": [
    {
     "name": "stdout",
     "output_type": "stream",
     "text": [
      "+------------+------+---+--------+----+-----------+----------------+--------+-------+-------+--------------+--------------------+--------------------+--------------------+--------------------+-----------+--------------+---------+--------------------+-----+-------------+-----+\n",
      "|acousticness|energy|key|loudness|mode|speechiness|instrumentalness|liveness|valence|  tempo|          type|                  id|                 uri|          track_href|        analysis_url|duration_ms|time_signature|    genre|           song_name|title|dat_ref_carga|rowid|\n",
      "+------------+------+---+--------+----+-----------+----------------+--------+-------+-------+--------------+--------------------+--------------------+--------------------+--------------------+-----------+--------------+---------+--------------------+-----+-------------+-----+\n",
      "|        0.06|  0.81|  2|   -7.36|   1|       0.42|            0.01|    0.06|   0.39|156.985|audio_features|2Vc6NJ9PW9gD9q343...|spotify:track:2Vc...|https://api.spoti...|https://api.spoti...|     124539|             4|Dark Trap| Mercury: Retrograde| NULL|   2024-10-15|    0|\n",
      "|        0.40|  0.49|  8|   -7.23|   1|       0.08|            0.00|    0.12|   0.12|115.080|audio_features|7pgJBLVz5VmnL7uGH...|spotify:track:7pg...|https://api.spoti...|https://api.spoti...|     224427|             4|Dark Trap|           Pathology| NULL|   2024-10-15|    1|\n",
      "|        0.01|  0.89|  5|   -4.78|   1|       0.06|            0.00|    0.37|   0.04|218.050|audio_features|0vSWgAlfpye0WCGeN...|spotify:track:0vS...|https://api.spoti...|https://api.spoti...|      98821|             4|Dark Trap|            Symbiote| NULL|   2024-10-15|    2|\n",
      "|        0.02|  0.78|  0|   -4.71|   1|       0.10|            0.00|    0.11|   0.18|186.948|audio_features|0VSXnJqQkwuH2ei1n...|spotify:track:0VS...|https://api.spoti...|https://api.spoti...|     123661|             3|Dark Trap|ProductOfDrugs (P...| NULL|   2024-10-15|    3|\n",
      "|        0.22|  0.62|  2|   -7.67|   1|       0.29|            0.00|    0.17|   0.59|147.988|audio_features|4jCeguq9rMTlbMmPH...|spotify:track:4jC...|https://api.spoti...|https://api.spoti...|     123298|             4|Dark Trap|               Venom| NULL|   2024-10-15|    4|\n",
      "|        0.05|  0.57|  0|    NULL|   1|       0.41|            0.21|    0.13|   0.11|144.915|audio_features|6fsypiJHyWmeINsOL...|spotify:track:6fs...|https://api.spoti...|https://api.spoti...|     112511|             4|Dark Trap|             Gatteka| NULL|   2024-10-15|    5|\n",
      "|        0.03|  0.67|  8|   -4.16|   1|       0.14|            0.01|    0.12|   0.04|130.826|audio_features|0XfQbq7DaMOmVXgQ7...|spotify:track:0Xf...|https://api.spoti...|https://api.spoti...|      77584|             4|Dark Trap|  kamikaze (+ pulse)| NULL|   2024-10-15|    6|\n",
      "|        0.04|  0.71|  8|   -5.53|   1|       0.22|            0.00|    0.11|   0.28|138.049|audio_features|0LLeuNBWPOg3XA73y...|spotify:track:0LL...|https://api.spoti...|https://api.spoti...|     127524|             3|Dark Trap|T.R.U. (Totally R...| NULL|   2024-10-15|    7|\n",
      "|        0.06|  0.75|  1|   -2.45|   1|       0.20|            0.00|    0.07|   0.19|219.960|audio_features|37gqBnUAZe8BY8WR5...|spotify:track:37g...|https://api.spoti...|https://api.spoti...|     140326|             4|Dark Trap|I Put My Dick in ...| NULL|   2024-10-15|    8|\n",
      "|        0.15|  0.91| 11|    NULL|   1|       0.37|            0.03|    0.56|   0.30|199.942|audio_features|2ggqfj97qyiORmXoV...|spotify:track:2gg...|https://api.spoti...|https://api.spoti...|     121979|             4|Dark Trap|           Andromeda| NULL|   2024-10-15|    9|\n",
      "+------------+------+---+--------+----+-----------+----------------+--------+-------+-------+--------------+--------------------+--------------------+--------------------+--------------------+-----------+--------------+---------+--------------------+-----+-------------+-----+\n",
      "\n"
     ]
    }
   ],
   "source": [
    "\n",
    "genres = spark.read.option(\"header\", \"true\").option('inferSchema', 'true').csv('/Users/eduardoalberto/LoadFile/archive/genres_v2.csv')\n",
    "genres = genres.selectExpr(\"cast(acousticness as decimal(3,2)) as acousticness\",\n",
    "                  \"cast(energy as decimal(3,2)) as energy\",\n",
    "                  \"key\",\n",
    "                  \"cast(loudness as decimal(3,2)) as loudness\",\n",
    "                  \"mode\",\n",
    "                  \"cast(speechiness as decimal(5,2)) as speechiness\",\n",
    "                  \"cast(instrumentalness as decimal(3,2) ) as instrumentalness\",\n",
    "                  \"cast (liveness as decimal(3,2) ) as liveness\",\n",
    "                  \"cast(valence as decimal(3,2)) as valence\",\n",
    "                  \"cast(tempo as decimal(19,3)) as tempo\",\n",
    "                  \"type\",\n",
    "                  \"id\",\n",
    "                  \"uri\",\n",
    "                  \"track_href\",\n",
    "                  \"analysis_url\",\n",
    "                  \"duration_ms\",\n",
    "                  \"time_signature\",\n",
    "                  \"genre\",\n",
    "                  \"song_name\",\n",
    "                  \"title\",\n",
    "                  \"current_date() as dat_ref_carga\")\\\n",
    "        .withColumn(\"rowid\", monotonically_increasing_id())\n",
    "        \n",
    "#genres.filter(\"title is not null\").display()\n",
    "\n",
    "genres.write.mode(saveMode=\"overwrite\").saveAsTable(\"proddb150.tb_genres\")\n",
    "spark.table(\"proddb150.tb_genres\").limit(10).show()"
   ]
  }
 ],
 "metadata": {
  "kernelspec": {
   "display_name": "Python 3",
   "language": "python",
   "name": "python3"
  },
  "language_info": {
   "codemirror_mode": {
    "name": "ipython",
    "version": 3
   },
   "file_extension": ".py",
   "mimetype": "text/x-python",
   "name": "python",
   "nbconvert_exporter": "python",
   "pygments_lexer": "ipython3",
   "version": "3.12.7"
  }
 },
 "nbformat": 4,
 "nbformat_minor": 2
}
