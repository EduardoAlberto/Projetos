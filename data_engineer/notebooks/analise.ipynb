{
 "cells": [
  {
   "cell_type": "code",
   "execution_count": 13,
   "metadata": {},
   "outputs": [],
   "source": [
    "# config\n",
    "import pandas as pd\n",
    "import datetime as dt\n",
    "from pyspark.sql import SparkSession,Row\n",
    "from pyspark.sql.functions import *\n",
    "from pyspark.sql import functions as F\n",
    "from pyspark.sql.types import *\n",
    "import os \n",
    "import os.path as path\n",
    "import datetime as dt\n",
    "import sys\n",
    "\n",
    "spark=SparkSession.builder.master(\"local[1]\")\\\n",
    "        .appName(\"movie\")\\\n",
    "        .config(\"spark.driver.extraClassPath\",\"/Users/eduardoalberto/opt/spark/jars/mssql-jdbc-7.4.1.jre8.jar\" ) \\\n",
    "        .getOrCreate()\n",
    "\n",
    "sc = spark.sparkContext"
   ]
  },
  {
   "cell_type": "code",
   "execution_count": 16,
   "metadata": {},
   "outputs": [],
   "source": [
    "t2 = spark.read.jdbc(\"jdbc:sqlserver://localhost:1433;databaseName=DBDWP511\", \"DimCustomer\",properties={\"user\": \"sa\", \"password\": \"Numsey@Password!\"})\n",
    "t3 = spark.read.jdbc(\"jdbc:sqlserver://localhost:1433;databaseName=DBDWP511\", \"FactSurveyResponse\",properties={\"user\": \"sa\", \"password\": \"Numsey@Password!\"})\n",
    "vw = spark.read.jdbc(\"jdbc:sqlserver://localhost:1433;databaseName=DBDWP511\", \"VW_ANALISIE\",properties={\"user\": \"sa\", \"password\": \"Numsey@Password!\"})"
   ]
  },
  {
   "cell_type": "code",
   "execution_count": 11,
   "metadata": {},
   "outputs": [
    {
     "data": {
      "text/plain": [
       "['SurveyResponseKey',\n",
       " 'DateKey',\n",
       " 'CustomerKey',\n",
       " 'ProductCategoryKey',\n",
       " 'EnglishProductCategoryName',\n",
       " 'ProductSubcategoryKey',\n",
       " 'EnglishProductSubcategoryName',\n",
       " 'Date']"
      ]
     },
     "execution_count": 11,
     "metadata": {},
     "output_type": "execute_result"
    }
   ],
   "source": [
    "t3.columns"
   ]
  },
  {
   "cell_type": "code",
   "execution_count": 22,
   "metadata": {},
   "outputs": [
    {
     "name": "stderr",
     "output_type": "stream",
     "text": [
      "22/11/19 19:26:04 WARN package: Truncated the string representation of a plan since it was too large. This behavior can be adjusted by setting 'spark.sql.debug.maxToStringFields'.\n"
     ]
    }
   ],
   "source": [
    "t2.createOrReplaceTempView(\"Dm_Customer\")\n",
    "t3.createOrReplaceTempView(\"Ft_SurveyResponse\")\n",
    "vw.createOrReplaceTempView(\"vw_analise\")"
   ]
  },
  {
   "cell_type": "code",
   "execution_count": 27,
   "metadata": {},
   "outputs": [
    {
     "name": "stdout",
     "output_type": "stream",
     "text": [
      "####################################################################################################\n",
      "root\n",
      " |-- CustomerKey: integer (nullable = true)\n",
      " |-- FirstName: string (nullable = true)\n",
      " |-- LastName: string (nullable = true)\n",
      " |-- EnglishEducation: string (nullable = true)\n",
      " |-- CommuteDistance: string (nullable = true)\n",
      " |-- RANK: long (nullable = true)\n",
      " |-- YearlyIncome: decimal(19,4) (nullable = true)\n",
      " |-- Gender: string (nullable = true)\n",
      " |-- BirthDate: date (nullable = true)\n",
      " |-- UnitPrice: decimal(19,4) (nullable = true)\n",
      " |-- ProductStandardCost: decimal(19,4) (nullable = true)\n",
      " |-- TotalProductCost: decimal(19,4) (nullable = true)\n",
      " |-- SalesAmount: decimal(19,4) (nullable = true)\n",
      " |-- TaxAmt: decimal(19,4) (nullable = true)\n",
      " |-- Freight: decimal(19,4) (nullable = true)\n",
      " |-- OrderDate: timestamp (nullable = true)\n",
      " |-- DueDate: timestamp (nullable = true)\n",
      " |-- ShipDate: timestamp (nullable = true)\n",
      "\n",
      "+-----------+------+---------------+-------------------+\n",
      "|SalesAmount|Gender|CommuteDistance|          OrderDate|\n",
      "+-----------+------+---------------+-------------------+\n",
      "|  3578.2700|     M|      10+ Miles|2010-12-29 00:00:00|\n",
      "|  3399.9900|     F|      0-1 Miles|2010-12-29 00:00:00|\n",
      "|  3399.9900|     F|      10+ Miles|2010-12-29 00:00:00|\n",
      "|   699.0982|     M|      1-2 Miles|2010-12-29 00:00:00|\n",
      "|  3399.9900|     F|     5-10 Miles|2010-12-29 00:00:00|\n",
      "|  3578.2700|     M|     5-10 Miles|2010-12-30 00:00:00|\n",
      "|  3374.9900|     M|     5-10 Miles|2010-12-30 00:00:00|\n",
      "|  3399.9900|     M|      10+ Miles|2010-12-30 00:00:00|\n",
      "|  3578.2700|     M|      1-2 Miles|2010-12-31 00:00:00|\n",
      "|  3578.2700|     F|      2-5 Miles|2010-12-31 00:00:00|\n",
      "|  3578.2700|     F|      1-2 Miles|2010-12-31 00:00:00|\n",
      "|  3578.2700|     F|      2-5 Miles|2010-12-31 00:00:00|\n",
      "|  3578.2700|     F|      0-1 Miles|2011-01-01 00:00:00|\n",
      "|  3578.2700|     F|      0-1 Miles|2011-01-02 00:00:00|\n",
      "|  3578.2700|     M|     5-10 Miles|2011-01-02 00:00:00|\n",
      "|  3578.2700|     M|      0-1 Miles|2011-01-02 00:00:00|\n",
      "|  3578.2700|     M|     5-10 Miles|2011-01-03 00:00:00|\n",
      "|  3578.2700|     M|     5-10 Miles|2011-01-03 00:00:00|\n",
      "|  3578.2700|     F|     5-10 Miles|2011-01-03 00:00:00|\n",
      "|  3578.2700|     M|      10+ Miles|2011-01-03 00:00:00|\n",
      "+-----------+------+---------------+-------------------+\n",
      "only showing top 20 rows\n",
      "\n"
     ]
    }
   ],
   "source": [
    "t = (100 * \"#\")\n",
    "print(t)  \n",
    "vw.printSchema()  \n",
    "spark.sql(\"select SalesAmount, Gender, CommuteDistance,OrderDate from vw_analise\").show()"
   ]
  },
  {
   "cell_type": "code",
   "execution_count": null,
   "metadata": {},
   "outputs": [],
   "source": []
  }
 ],
 "metadata": {
  "kernelspec": {
   "display_name": "Python 3.10.1 64-bit",
   "language": "python",
   "name": "python3"
  },
  "language_info": {
   "codemirror_mode": {
    "name": "ipython",
    "version": 3
   },
   "file_extension": ".py",
   "mimetype": "text/x-python",
   "name": "python",
   "nbconvert_exporter": "python",
   "pygments_lexer": "ipython3",
   "version": "3.10.1"
  },
  "orig_nbformat": 4,
  "vscode": {
   "interpreter": {
    "hash": "aee8b7b246df8f9039afb4144a1f6fd8d2ca17a180786b69acc140d282b71a49"
   }
  }
 },
 "nbformat": 4,
 "nbformat_minor": 2
}
