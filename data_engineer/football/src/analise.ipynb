{
 "cells": [
  {
   "cell_type": "markdown",
   "id": "45f830ae",
   "metadata": {},
   "source": [
    "### variaveis de inicializacao"
   ]
  },
  {
   "cell_type": "code",
   "execution_count": 1,
   "id": "6f2e6ded",
   "metadata": {},
   "outputs": [
    {
     "name": "stderr",
     "output_type": "stream",
     "text": [
      "25/06/10 22:48:53 WARN Utils: Your hostname, MacBook-Pro-de-Eduardo.local resolves to a loopback address: 127.0.0.1; using 192.168.3.180 instead (on interface en0)\n",
      "25/06/10 22:48:53 WARN Utils: Set SPARK_LOCAL_IP if you need to bind to another address\n"
     ]
    },
    {
     "name": "stdout",
     "output_type": "stream",
     "text": [
      ":: loading settings :: url = jar:file:/Users/eduardoalberto/opt/spark-3.5.4/jars/ivy-2.5.1.jar!/org/apache/ivy/core/settings/ivysettings.xml\n"
     ]
    },
    {
     "name": "stderr",
     "output_type": "stream",
     "text": [
      "Ivy Default Cache set to: /Users/eduardoalberto/.ivy2/cache\n",
      "The jars for the packages stored in: /Users/eduardoalberto/.ivy2/jars\n",
      "io.delta#delta-spark_2.12 added as a dependency\n",
      ":: resolving dependencies :: org.apache.spark#spark-submit-parent-dbbbf641-5a9a-41de-9678-bc01f00f1b2d;1.0\n",
      "\tconfs: [default]\n",
      "\tfound io.delta#delta-spark_2.12;3.1.0 in central\n",
      "\tfound io.delta#delta-storage;3.1.0 in central\n",
      "\tfound org.antlr#antlr4-runtime;4.9.3 in central\n",
      ":: resolution report :: resolve 227ms :: artifacts dl 12ms\n",
      "\t:: modules in use:\n",
      "\tio.delta#delta-spark_2.12;3.1.0 from central in [default]\n",
      "\tio.delta#delta-storage;3.1.0 from central in [default]\n",
      "\torg.antlr#antlr4-runtime;4.9.3 from central in [default]\n",
      "\t---------------------------------------------------------------------\n",
      "\t|                  |            modules            ||   artifacts   |\n",
      "\t|       conf       | number| search|dwnlded|evicted|| number|dwnlded|\n",
      "\t---------------------------------------------------------------------\n",
      "\t|      default     |   3   |   0   |   0   |   0   ||   3   |   0   |\n",
      "\t---------------------------------------------------------------------\n",
      ":: retrieving :: org.apache.spark#spark-submit-parent-dbbbf641-5a9a-41de-9678-bc01f00f1b2d\n",
      "\tconfs: [default]\n",
      "\t0 artifacts copied, 3 already retrieved (0kB/11ms)\n",
      "25/06/10 22:48:54 WARN NativeCodeLoader: Unable to load native-hadoop library for your platform... using builtin-java classes where applicable\n",
      "Setting default log level to \"WARN\".\n",
      "To adjust logging level use sc.setLogLevel(newLevel). For SparkR, use setLogLevel(newLevel).\n"
     ]
    },
    {
     "name": "stdout",
     "output_type": "stream",
     "text": [
      "PySpark Version :3.5.4\n",
      "PySpark Version :3.5.4\n"
     ]
    },
    {
     "data": {
      "text/html": [
       "\n",
       "            <div>\n",
       "                <p><b>SparkSession - in-memory</b></p>\n",
       "                \n",
       "        <div>\n",
       "            <p><b>SparkContext</b></p>\n",
       "\n",
       "            <p><a href=\"http://192.168.3.180:4040\">Spark UI</a></p>\n",
       "\n",
       "            <dl>\n",
       "              <dt>Version</dt>\n",
       "                <dd><code>v3.5.4</code></dd>\n",
       "              <dt>Master</dt>\n",
       "                <dd><code>local[4]</code></dd>\n",
       "              <dt>AppName</dt>\n",
       "                <dd><code>football</code></dd>\n",
       "            </dl>\n",
       "        </div>\n",
       "        \n",
       "            </div>\n",
       "        "
      ],
      "text/plain": [
       "<pyspark.sql.session.SparkSession at 0x110017970>"
      ]
     },
     "execution_count": 1,
     "metadata": {},
     "output_type": "execute_result"
    }
   ],
   "source": [
    "from pyspark.sql import SparkSession,Row,DataFrame\n",
    "from delta import configure_spark_with_delta_pip\n",
    "from delta.tables import DeltaTable\n",
    "import pyspark.sql.functions as F\n",
    "import os.path as path\n",
    "import traceback\n",
    "import os\n",
    "\n",
    "builder = SparkSession \\\n",
    "    .builder \\\n",
    "    .appName(\"football\") \\\n",
    "    .master(\"local[4]\") \\\n",
    "    .config(\"spark.jars.packages\", \"uk.co.gresearch.spark:spark-extension_2.12:2.11.0-3.5\") \\\n",
    "    .config(\"spark.jars.packages\", \"org.apache.spark:spark-avro_2.12:3.5.0\") \\\n",
    "    .config(\"spark.sql.extensions\", \"io.delta.sql.DeltaSparkSessionExtension\") \\\n",
    "    .config(\"spark.sql.warehouse.dir\", \"/Users/eduardoalberto/LoadFile/output/\") \\\n",
    "    .config(\"spark.sql.catalog.spark_catalog\", \"org.apache.spark.sql.delta.catalog.DeltaCatalog\") \\\n",
    "    .config(\"spark.driver.extraClassPath\",\"/Users/eduardoalberto/opt/spark-3.5.3/jars/mysql-connector-j-9.1.0.jar\" ) \\\n",
    "    .config(\"spark.driver.extraClassPath\",\"/Users/eduardoalberto/opt/spark-3.5.3/jars/postgresql-42.7.5.jar\" ) \\\n",
    "\n",
    "spark = configure_spark_with_delta_pip(builder).getOrCreate()\n",
    "\n",
    "sc = spark.sparkContext\n",
    "spark.sparkContext.setLogLevel(\"OFF\") \n",
    "print('PySpark Version :'+spark.version)\n",
    "print('PySpark Version :'+spark.sparkContext.version)\n",
    "\n",
    "spark"
   ]
  },
  {
   "cell_type": "code",
   "execution_count": 3,
   "id": "8af7d09a",
   "metadata": {},
   "outputs": [
    {
     "name": "stderr",
     "output_type": "stream",
     "text": [
      "                                                                                \r"
     ]
    },
    {
     "name": "stdout",
     "output_type": "stream",
     "text": [
      "+--------------+-------------------+---------+---------+--------------+-----------+-----------+-----------+-----------+----------+----------+--------+----------+-------+-------+---------+---------+-------------+\n",
      "|           _c0|                _c1|      _c2|      _c3|           _c4|        _c5|        _c6|        _c7|        _c8|       _c9|      _c10|    _c11|      _c12|   _c13|   _c14|     _c15|     _c16|         _c17|\n",
      "+--------------+-------------------+---------+---------+--------------+-----------+-----------+-----------+-----------+----------+----------+--------+----------+-------+-------+---------+---------+-------------+\n",
      "|    tournament|               home|home_goal|away_goal|          away|home_corner|away_corner|home_attack|away_attack|home_shots|away_shots|    time|      date|ht_diff|at_diff|ht_result|at_result|total_corners|\n",
      "|Copa do Brasil|   Vasco Da Gama RJ|      0.0|      0.0|           ABC|        6.0|        2.0|      133.0|       82.0|       9.0|       6.0|00:30:00|2023-03-17|    0.0|    0.0|     DRAW|     DRAW|          8.0|\n",
      "|Copa do Brasil|             Gremio|      3.0|      0.0|   Ferroviario|       10.0|        3.0|       98.0|       81.0|      30.0|      11.0|23:00:00|2023-03-16|    3.0|   -3.0|      WON|     LOST|         13.0|\n",
      "|Copa do Brasil|                CSA|      1.0|      0.0|       Brusque|        4.0|        4.0|      105.0|      136.0|      10.0|      13.0|22:00:00|2023-03-16|    1.0|   -1.0|      WON|     LOST|          8.0|\n",
      "|Copa do Brasil|        Ypiranga RS|      3.0|      1.0|    Bragantino|        7.0|       11.0|      103.0|      119.0|       7.0|      18.0|00:30:00|2023-03-16|    2.0|   -2.0|      WON|     LOST|         18.0|\n",
      "|Copa do Brasil|        Botafogo RJ|      7.0|      1.0|   Brasiliense|        8.0|        5.0|      107.0|      121.0|      14.0|      15.0|23:00:00|2023-03-15|    6.0|   -6.0|      WON|     LOST|         13.0|\n",
      "|Copa do Brasil|                CRB|      5.0|      0.0|   Operario MS|        6.0|        4.0|      130.0|       94.0|      18.0|       5.0|22:30:00|2023-03-15|    5.0|   -5.0|      WON|     LOST|         10.0|\n",
      "|Copa do Brasil|             Ituano|      1.0|      1.0|         Ceara|        6.0|        4.0|      103.0|       99.0|      14.0|      10.0|22:00:00|2023-03-15|    0.0|    0.0|     DRAW|     DRAW|         10.0|\n",
      "|Copa do Brasil|    Aguia de Maraba|      0.0|      0.0|         Goias|        1.0|       11.0|       69.0|       95.0|       9.0|      23.0|22:00:00|2023-03-15|    0.0|    0.0|     DRAW|     DRAW|         12.0|\n",
      "|Copa do Brasil|Atletico Goianiense|      1.0|      1.0| Volta Redonda|        7.0|        4.0|      128.0|       88.0|      14.0|       7.0|22:00:00|2023-03-15|    0.0|    0.0|     DRAW|     DRAW|         11.0|\n",
      "|Copa do Brasil|        Nova Iguacu|      5.0|      2.0|    Nova Mutum|        6.0|        3.0|      113.0|       77.0|      15.0|       7.0|18:30:25|2023-03-15|    3.0|   -3.0|      WON|     LOST|          9.0|\n",
      "|Copa do Brasil|           Tombense|      1.0|      0.0|         Retro|        6.0|        6.0|      110.0|      111.0|      14.0|      11.0|00:30:00|2023-03-09|    1.0|   -1.0|      WON|     LOST|         12.0|\n",
      "|Copa do Brasil|               Remo|      2.0|      1.0|      Sao Luiz|       10.0|        3.0|      122.0|       99.0|      16.0|       7.0|23:00:00|2023-03-08|    1.0|   -1.0|      WON|     LOST|         13.0|\n",
      "|Copa do Brasil|           Camboriu|      0.0|      1.0|      EC Bahia|        2.0|        6.0|       91.0|      120.0|      11.0|       8.0|22:00:00|2023-03-08|   -1.0|    1.0|     LOST|      WON|          8.0|\n",
      "|Copa do Brasil|  Brasil de Pelotas|      2.0|      0.0|   Ponte Preta|        4.0|        7.0|       83.0|       94.0|       5.0|      24.0|23:00:00|2023-03-07|    2.0|   -2.0|      WON|     LOST|         11.0|\n",
      "|Copa do Brasil|            Sergipe|      1.0|      1.0|   Botafogo RJ|        4.0|       10.0|       96.0|      130.0|      10.0|      11.0|23:00:00|2023-03-02|    0.0|    0.0|     DRAW|     DRAW|         14.0|\n",
      "|Copa do Brasil|            Maringa|      2.0|      1.0|Sampaio Correa|        8.0|        3.0|      169.0|      112.0|      21.0|       6.0|23:00:00|2023-03-02|    1.0|   -1.0|      WON|     LOST|         11.0|\n",
      "|Copa do Brasil|             Iguatu|      1.0|      0.0|    America RN|        5.0|        0.0|       16.0|       17.0|       2.0|       4.0|22:15:00|2023-03-02|    1.0|   -1.0|      WON|     LOST|          5.0|\n",
      "|Copa do Brasil|     Real Ariquemes|      0.0|      3.0|      Criciuma|        5.0|        7.0|       99.0|      115.0|       6.0|      12.0|19:30:00|2023-03-02|   -3.0|    3.0|     LOST|      WON|         12.0|\n",
      "|Copa do Brasil|    Aguia de Maraba|      2.0|      1.0|   Botafogo PB|        5.0|        4.0|       59.0|       44.0|      12.0|       6.0|19:00:00|2023-03-02|    1.0|   -1.0|      WON|     LOST|          9.0|\n",
      "+--------------+-------------------+---------+---------+--------------+-----------+-----------+-----------+-----------+----------+----------+--------+----------+-------+-------+---------+---------+-------------+\n",
      "only showing top 20 rows\n",
      "\n"
     ]
    }
   ],
   "source": [
    "\n",
    "df = spark.read.csv(\"/Users/eduardoalberto/LoadFile/input/BR-Football-Dataset.csv\")\n",
    "df.show()"
   ]
  }
 ],
 "metadata": {
  "kernelspec": {
   "display_name": "Python 3",
   "language": "python",
   "name": "python3"
  },
  "language_info": {
   "codemirror_mode": {
    "name": "ipython",
    "version": 3
   },
   "file_extension": ".py",
   "mimetype": "text/x-python",
   "name": "python",
   "nbconvert_exporter": "python",
   "pygments_lexer": "ipython3",
   "version": "3.9.6"
  }
 },
 "nbformat": 4,
 "nbformat_minor": 5
}
