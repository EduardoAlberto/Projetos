{
 "cells": [
  {
   "cell_type": "code",
   "execution_count": 7,
   "id": "1f6397b1",
   "metadata": {},
   "outputs": [],
   "source": [
    "# data_ingestion/batch/extractors.py\n",
    "from typing import Dict\n",
    "import requests\n",
    "import sys\n",
    "import os\n",
    "sys.path.append(os.path.abspath(os.path.join(os.getcwd(), '../../..')))\n",
    "from pyspark.sql import DataFrame\n",
    "import yfinance as yf\n",
    "\n",
    "class BatchDataExtractor:\n",
    "    def __init__(self, spark):\n",
    "        self.spark = spark\n",
    "\n",
    "    def from_government_api(self, endpoint: str = None, params: Dict = None) -> DataFrame:\n",
    "        url = config.Config.DATA_SOURCES[\"government_api\"] if endpoint is None else endpoint\n",
    "        response = requests.get(url, params=params, verify=False)\n",
    "        response.raise_for_status()\n",
    "        \n",
    "        temp_path = \"/tmp/api_response.json\"\n",
    "        with open(temp_path, 'w') as f:\n",
    "            f.write(response.text)\n",
    "        \n",
    "        return self.spark.read.json(temp_path)\n",
    "\n",
    "    def from_stock_market(self, ticker: str, period: str = \"1mo\") -> DataFrame:\n",
    "        data = yf.Ticker(ticker)\n",
    "        hist = data.history(period=period)\n",
    "        return self.spark.createDataFrame(hist.reset_index())\n",
    "\n",
    "    def from_database(self, query: str) -> DataFrame:\n",
    "        return self.spark.read \\\n",
    "            .format(\"jdbc\") \\\n",
    "            .option(\"url\", config.Config.DATA_SOURCES[\"jdbc_url\"]) \\\n",
    "            .option(\"query\", query) \\\n",
    "            .load()\n",
    "\n",
    "    def from_file(self, path: str, file_type: str = \"csv\") -> DataFrame:\n",
    "        if file_type == \"csv\":\n",
    "            return self.spark.read.csv(path, header=True, inferSchema=True)\n",
    "        elif file_type == \"parquet\":\n",
    "            return self.spark.read.parquet(path)\n",
    "        elif file_type == \"json\":\n",
    "            return self.spark.read.json(path)\n",
    "        else:\n",
    "            raise ValueError(f\"Tipo de arquivo não suportado: {file_type}\")"
   ]
  }
 ],
 "metadata": {
  "kernelspec": {
   "display_name": "Python 3",
   "language": "python",
   "name": "python3"
  },
  "language_info": {
   "codemirror_mode": {
    "name": "ipython",
    "version": 3
   },
   "file_extension": ".py",
   "mimetype": "text/x-python",
   "name": "python",
   "nbconvert_exporter": "python",
   "pygments_lexer": "ipython3",
   "version": "3.9.6"
  }
 },
 "nbformat": 4,
 "nbformat_minor": 5
}
