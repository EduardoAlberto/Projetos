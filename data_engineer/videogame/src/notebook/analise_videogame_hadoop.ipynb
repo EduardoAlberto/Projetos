{
 "cells": [
  {
   "cell_type": "code",
   "execution_count": 1,
   "metadata": {},
   "outputs": [
    {
     "name": "stderr",
     "output_type": "stream",
     "text": [
      "Setting default log level to \"WARN\".\n",
      "To adjust logging level use sc.setLogLevel(newLevel). For SparkR, use setLogLevel(newLevel).\n",
      "24/12/06 11:39:07 WARN NativeCodeLoader: Unable to load native-hadoop library for your platform... using builtin-java classes where applicable\n",
      "24/12/06 11:39:09 WARN Client: Neither spark.yarn.jars nor spark.yarn.archive is set, falling back to uploading libraries under SPARK_HOME.\n"
     ]
    },
    {
     "name": "stdout",
     "output_type": "stream",
     "text": [
      "PySpark Version :3.5.3\n",
      "PySpark Version :3.5.3\n"
     ]
    },
    {
     "data": {
      "text/html": [
       "\n",
       "            <div>\n",
       "                <p><b>SparkSession - in-memory</b></p>\n",
       "                \n",
       "        <div>\n",
       "            <p><b>SparkContext</b></p>\n",
       "\n",
       "            <p><a href=\"http://localhost:4040\">Spark UI</a></p>\n",
       "\n",
       "            <dl>\n",
       "              <dt>Version</dt>\n",
       "                <dd><code>v3.5.3</code></dd>\n",
       "              <dt>Master</dt>\n",
       "                <dd><code>yarn</code></dd>\n",
       "              <dt>AppName</dt>\n",
       "                <dd><code>VideoGame</code></dd>\n",
       "            </dl>\n",
       "        </div>\n",
       "        \n",
       "            </div>\n",
       "        "
      ],
      "text/plain": [
       "<pyspark.sql.session.SparkSession at 0x111626f70>"
      ]
     },
     "execution_count": 1,
     "metadata": {},
     "output_type": "execute_result"
    }
   ],
   "source": [
    "import pyspark \n",
    "from pyspark.sql import SparkSession\n",
    "import pyspark.sql.functions as F\n",
    "from pyspark.sql.types import *\n",
    "\n",
    "\n",
    "spark=SparkSession.builder.master(\"yarn\")\\\n",
    "        .appName(\"VideoGame\")\\\n",
    "        .config(\"spark.driver.extraClassPath\",\"/Users/eduardoalberto/opt/spark-3.5.3/jars/mysql-connector-j-9.1.0.jar\" ) \\\n",
    "        .getOrCreate()\n",
    "sc = spark.sparkContext\n",
    "spark.sparkContext.setLogLevel(\"OFF\") \n",
    "print('PySpark Version :'+spark.version)\n",
    "print('PySpark Version :'+spark.sparkContext.version)\n",
    "\n",
    "spark"
   ]
  },
  {
   "cell_type": "code",
   "execution_count": 2,
   "metadata": {},
   "outputs": [
    {
     "name": "stderr",
     "output_type": "stream",
     "text": [
      "                                                                                \r"
     ]
    },
    {
     "name": "stdout",
     "output_type": "stream",
     "text": [
      "+--------------------+----+---+----+----+--------------------+----+----------+----+---+----+-----+-----------+----+----+----+------------------+------------------+------------------+----+------------------+------------------+------------------+------------------+----+------------------+------------------+------------------+------------------+----+------------------+------------------+------------------+------------------+----+------------------+\n",
      "|                 _c0| _c1|_c2| _c3| _c4|                 _c5| _c6|       _c7| _c8|_c9|_c10| _c11|       _c12|_c13|_c14|_c15|              _c16|              _c17|              _c18|_c19|              _c20|              _c21|              _c22|              _c23|_c24|              _c25|              _c26|              _c27|              _c28|_c29|              _c30|              _c31|              _c32|              _c33|_c34|              _c35|\n",
      "+--------------------+----+---+----+----+--------------------+----+----------+----+---+----+-----+-----------+----+----+----+------------------+------------------+------------------+----+------------------+------------------+------------------+------------------+----+------------------+------------------+------------------+------------------+----+------------------+------------------+------------------+------------------+----+------------------+\n",
      "|   Super Mario 64 DS|True|  1|True|True|              Action|True|  Nintendo|True| 85|4.69|24.95|Nintendo DS|   E|True|2004|22.716666666666665|              31.9|24.483333333333334|  57|              14.3|29.766666666666666| 35.03333333333333|              30.0|  20|22.016666666666666|24.916666666666668|29.966666666666665|              25.0|  16|18.333333333333332|14.333333333333334|18.316666666666666|              14.5|  21|               9.7|\n",
      "|Lumines: Puzzle F...|True|  1|True|True|            Strategy|True|   Ubisoft|True| 89|0.56|14.95|   Sony PSP|   E|True|2004|              10.1|11.016666666666667|              10.0|   5| 9.516666666666667|               0.0|               0.0|               0.0|   0|               0.0|              9.75| 9.866666666666667|              9.75|   2| 9.616666666666667|10.333333333333334|11.083333333333334|              10.0|   3| 9.583333333333334|\n",
      "|  WarioWare Touched!|True|  2|True|True|Action,Racing / D...|True|  Nintendo|True| 81|0.54|22.95|Nintendo DS|   E|True|2004| 4.566666666666666|11.566666666666666|               2.5|  57|2.2666666666666666|              10.0|              14.1|              7.25|  16|               6.8|              3.85| 5.666666666666667|3.3333333333333335|  11| 2.783333333333333|1.9166666666666665|2.9333333333333336|1.8333333333333335|  30|1.4333333333333333|\n",
      "|Hot Shots Golf: O...|True|  1|True|True|              Sports|True|      Sony|True| 81|0.49|12.95|   Sony PSP|   E|True|2004|               0.0|               0.0|               0.0|   0|               0.0|               0.0|               0.0|               0.0|   0|               0.0|               0.0|               0.0|               0.0|   0|               0.0|               0.0|               0.0|               0.0|   0|               0.0|\n",
      "|        Spider-Man 2|True|  1|True|True|              Action|True|Activision|True| 61|0.45|14.95|Nintendo DS|   E|True|2004|             13.25| 48.38333333333333|              10.0|  37| 7.066666666666666| 72.56666666666666| 78.86666666666666| 72.56666666666666|   2| 66.28333333333333|12.766666666666667|17.316666666666666|              12.5|  12|10.483333333333333|              8.35|11.083333333333334|               8.0|  23| 5.333333333333333|\n",
      "|The Urbz: Sims in...|True|  1|True|True|          Simulation|True|        EA|True| 67|0.41|12.95|Nintendo DS|   M|True|2004|21.933333333333334|              25.5|              20.0|   7|16.733333333333334|30.033333333333335|30.033333333333335|30.033333333333335|   2|30.033333333333335|20.833333333333332|              25.2|              20.0|   3|             16.45|              15.5|             15.75|              15.5|   2|             15.25|\n",
      "|         Ridge Racer|True|  1|True|True|    Racing / Driving|True|     Namco|True| 88|0.36|19.95|   Sony PSP|   E|True|2004|0.8166666666666667|              1.05|0.8833333333333333|   6|0.5833333333333334|              1.25|              1.25|              1.25|   1|              1.25|0.8833333333333333|0.9333333333333333|0.8833333333333333|   2|0.8333333333333334|0.6166666666666667|0.7833333333333333|0.5333333333333333|   3|              0.45|\n",
      "|     Metal Gear Ac!d|True|  1|True|True|            Strategy|True|    Konami|True| 75|0.34|17.95|   Sony PSP|   E|True|2004|25.383333333333333|             51.65|21.266666666666666|  18|19.166666666666668|              80.0|              80.0|              80.0|   1|              80.0|24.833333333333332|27.483333333333334|              25.1|   6|21.916666666666668|              20.7|              23.6|20.783333333333335|  11|17.883333333333333|\n",
      "|     Madden NFL 2005|True|  1|True|True|              Sports|True|        EA|True| 68|0.25| 8.95|Nintendo DS|   T|True|2004|               0.0|               0.0|               0.0|   0|               0.0|               0.0|               0.0|               0.0|   0|               0.0|               0.0|               0.0|               0.0|   0|               0.0|               0.0|               0.0|               0.0|   0|               0.0|\n",
      "|         Pokmon Dash|True|  1|True|True|    Racing / Driving|True|  Nintendo|True| 46|0.22|24.95|Nintendo DS|   T|True|2004|3.8333333333333335|              7.25|1.1833333333333333|   4|              1.75|              12.0|              12.0|              12.0|   1|              12.0|               0.0|               0.0|               0.0|   0|               0.0|1.1166666666666667|               1.2|1.0833333333333333|   3|              1.05|\n",
      "|    Dynasty Warriors|True|  1|True|True|Action,Adventure,...|True|      NULL|True| 62| 0.2|14.95|   Sony PSP|   E|True|2004| 8.883333333333333|             18.05|2.0833333333333335|   4|3.1166666666666667|               0.0|               0.0|               0.0|   0|               0.0|               0.0|               0.0|               0.0|   0|               0.0| 8.883333333333333|             18.05|2.0833333333333335|   4|3.1166666666666667|\n",
      "|Feel the Magic XY/XX|True|  1|True|True|Action,Adventure,...|True|      Sega|True| 75|0.16| 8.95|Nintendo DS|   T|True|2004|               2.9|               3.8|               3.0|   9|2.3166666666666664|               0.0|               0.0|               0.0|   0|               0.0|               3.1|              3.15|               3.1|   2|              3.05|              2.85| 3.783333333333333|2.9833333333333334|   7|               2.3|\n",
      "|      Ridge Racer DS|True|  1|True|True|    Racing / Driving|True|     Namco|True| 63|0.15| 9.95|Nintendo DS|   E|True|2004|2.2333333333333334|2.2333333333333334|2.2333333333333334|   1|2.2333333333333334|               0.0|               0.0|               0.0|   0|               0.0|               0.0|               0.0|               0.0|   0|               0.0|2.2333333333333334|2.2333333333333334|2.2333333333333334|   1|2.2333333333333334|\n",
      "|Darkstalkers Chro...|True|  1|True|True|              Action|True|    Capcom|True| 74|0.14|14.95|   Sony PSP|   E|True|2004|1.6333333333333333|               2.4|               2.0|   7|1.0666666666666667|               0.0|               0.0|               0.0|   0|               0.0|               0.0|               0.0|               0.0|   0|               0.0|1.6333333333333333|               2.4|               2.0|   7|1.0666666666666667|\n",
      "|  Ape Escape Academy|True|  4|True|True|       Action,Sports|True|      Sony|True| 51|0.13|14.95|   Sony PSP|   E|True|2004|1.8833333333333333|1.8833333333333333|1.8833333333333333|   1|1.8833333333333333|               0.0|               0.0|               0.0|   0|               0.0|               0.0|               0.0|               0.0|   0|               0.0|1.8833333333333333|1.8833333333333333|1.8833333333333333|   1|1.8833333333333333|\n",
      "|            Polarium|True|  1|True|True|            Strategy|True|  Nintendo|True| 73|0.12| 8.95|Nintendo DS|   E|True|2004| 6.733333333333333| 9.183333333333334|               6.0|   5| 5.266666666666667|              12.0|              12.0|              12.0|   1|              12.0|               0.0|               0.0|               0.0|   0|               0.0| 5.416666666666667| 5.783333333333333|              5.75|   4| 4.866666666666667|\n",
      "|   Asphalt: Urban GT|True|  1|True|True|Racing / Driving,...|True|   Ubisoft|True| 60|0.11|14.95|Nintendo DS|   E|True|2004|              12.4|              13.7|              12.4|   2|              11.1| 9.816666666666666| 9.816666666666666| 9.816666666666666|   1| 9.816666666666666|               0.0|               0.0|               0.0|   0|               0.0|              15.0|              15.0|              15.0|   1|              15.0|\n",
      "|          Zoo Keeper|True|  1|True|True|              Action|True|      NULL|True| 74| 0.1|14.95|Nintendo DS|   T|True|2004|              7.15|               8.9|               5.0|   5| 5.033333333333333|             11.75|             11.75|             11.75|   1|             11.75|               0.0|               0.0|               0.0|   0|               0.0|               6.0|              7.75|               5.0|   4|              4.75|\n",
      "|Mr. DRILLER: Dril...|True|  1|True|True|              Action|True|     Namco|True| 72|0.09|14.95|Nintendo DS|   T|True|2004| 9.883333333333333|10.983333333333333| 9.883333333333333|   2| 8.766666666666667|               0.0|               0.0|               0.0|   0|               0.0|               0.0|               0.0|               0.0|   0|               0.0| 9.883333333333333|10.983333333333333| 9.883333333333333|   2| 8.766666666666667|\n",
      "|              Sprung|True|  1|True|True|           Adventure|True|   Ubisoft|True| 48|0.06| 8.95|Nintendo DS|   E|True|2004|             17.75|             17.75|             17.75|   1|             17.75|             17.75|             17.75|             17.75|   1|             17.75|               0.0|               0.0|               0.0|   0|               0.0|               0.0|               0.0|               0.0|   0|               0.0|\n",
      "+--------------------+----+---+----+----+--------------------+----+----------+----+---+----+-----+-----------+----+----+----+------------------+------------------+------------------+----+------------------+------------------+------------------+------------------+----+------------------+------------------+------------------+------------------+----+------------------+------------------+------------------+------------------+----+------------------+\n",
      "only showing top 20 rows\n",
      "\n"
     ]
    }
   ],
   "source": [
    "df = spark.read.csv('hdfs:/user/bigdata/repository/input/video_games.csv')\n",
    "df.show()\n"
   ]
  },
  {
   "cell_type": "code",
   "execution_count": null,
   "metadata": {},
   "outputs": [],
   "source": [
    "import pyspark \n",
    "from pyspark.sql import SparkSession\n",
    "import pyspark.sql.functions as F\n",
    "from os import path\n",
    "import subprocess\n",
    "\n",
    "def validaArquivo(self):\n",
    "\n",
    "    proc = subprocess.Popen(['hdfs','dfs','-test','-e',file])\n",
    "    proc.communicate()\n",
    "\n",
    "    if proc.returncode == 0:\n",
    "        schema = (StructType()\n",
    "                    .add(\"title\",StringType(),True)\n",
    "                    .add(\"handheld\",StringType(),True)\n",
    "                    .add(\"maxplayers\",StringType(),True)\n",
    "                    .add(\"multiplatform\",StringType(),True)\n",
    "                    .add(\"online\",StringType(),True)\n",
    "                    .add(\"genres\",StringType(),True)\n",
    "                    .add(\"licensed\",StringType(),True)\n",
    "                    .add(\"publishers\",StringType(),True)\n",
    "                    .add(\"sequel\",StringType(),True)\n",
    "                    .add(\"reviewscore\",StringType(),True)\n",
    "                    .add(\"sales\",DoubleType(),True)\n",
    "                    .add(\"usedprice\",StringType(),True)\n",
    "                    .add(\"console\",StringType(),True)\n",
    "                    .add(\"rating\",StringType(),True)\n",
    "                    .add(\"rerelease\",StringType(),True)\n",
    "                    .add(\"year\",StringType(),True)\n",
    "                    .add(\"playstylesaverage\",DecimalType(8,2),True)\n",
    "                    .add(\"playstylesleisure\",DecimalType(8,2),True)\n",
    "                    .add(\"playstylesmedian\",DecimalType(8,2),True)\n",
    "                    .add(\"playstylespolled\",DecimalType(8,2),True)\n",
    "                    .add(\"playstylesrushed\",DecimalType(8,2),True)\n",
    "                    .add(\"completionistsaverage\",DecimalType(8,2),True)\n",
    "                    .add(\"completionistsleisure\",DecimalType(8,2),True)\n",
    "                    .add(\"completionistsmedian\",DecimalType(8,2),True)\n",
    "                    .add(\"completionistspolled\",DecimalType(8,2),True)\n",
    "                    .add(\"completionistsrushed\",DecimalType(8,2),True)\n",
    "                    .add(\"extrasaverage\",DecimalType(8,2),True)\n",
    "                    .add(\"extrasleisure\",DecimalType(8,2),True)\n",
    "                    .add(\"extrasmedian\",DecimalType(8,2),True)\n",
    "                    .add(\"extraspolled\",DecimalType(8,2),True)\n",
    "                    .add(\"extrasrushed\",DecimalType(8,2),True)\n",
    "                    .add(\"storyaverage\",DecimalType(8,2),True)\n",
    "                    .add(\"storyleisure\",DecimalType(8,2),True)\n",
    "                    .add(\"storymedian\",DecimalType(8,2),True)\n",
    "                    .add(\"storypolled\",DecimalType(8,2),True)\n",
    "                    .add(\"storyrushed\",DecimalType(8,2),True))\n",
    "        arq = spark.read.csv(self,schema=schema, header=False)\n",
    "\n",
    "        return arq\n",
    "\n",
    "def carregaArquivo(self):\n",
    "    file = validaArquivo(self)\n",
    "\n",
    "    file = file.withColumn(\"dat_ref_carga\",F.lit(F.current_date()))\n",
    "\n",
    "    file.write.mode(\"overwrite\").jdbc(\"jdbc:mysql://localhost:3306/myDbUser\", \"myDbUser.videogame\",properties={\"user\": \"root\", \"password\": \"mysql\"})\n",
    "\n",
    "    return None\n",
    "\n",
    "\n",
    "#######################################################\n",
    "file = '/user/bigdata/repository/input/*.csv'\n",
    "df = validaArquivo(file)\n",
    "df.show()\n",
    "carregaArquivo(file)\n",
    "\n"
   ]
  }
 ],
 "metadata": {
  "kernelspec": {
   "display_name": "Python 3",
   "language": "python",
   "name": "python3"
  },
  "language_info": {
   "codemirror_mode": {
    "name": "ipython",
    "version": 3
   },
   "file_extension": ".py",
   "mimetype": "text/x-python",
   "name": "python",
   "nbconvert_exporter": "python",
   "pygments_lexer": "ipython3",
   "version": "3.9.6"
  }
 },
 "nbformat": 4,
 "nbformat_minor": 2
}
