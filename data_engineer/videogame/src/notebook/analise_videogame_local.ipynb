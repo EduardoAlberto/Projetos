{
 "cells": [
  {
   "cell_type": "code",
   "execution_count": 1,
   "metadata": {},
   "outputs": [
    {
     "name": "stderr",
     "output_type": "stream",
     "text": [
      "25/07/20 21:19:53 WARN Utils: Your hostname, MacBook-Pro-de-Eduardo.local resolves to a loopback address: 127.0.0.1; using 192.168.3.180 instead (on interface en0)\n",
      "25/07/20 21:19:53 WARN Utils: Set SPARK_LOCAL_IP if you need to bind to another address\n",
      "Setting default log level to \"WARN\".\n",
      "To adjust logging level use sc.setLogLevel(newLevel). For SparkR, use setLogLevel(newLevel).\n",
      "25/07/20 21:19:53 WARN NativeCodeLoader: Unable to load native-hadoop library for your platform... using builtin-java classes where applicable\n"
     ]
    },
    {
     "name": "stdout",
     "output_type": "stream",
     "text": [
      "PySpark Version :3.5.4\n",
      "PySpark Version :3.5.4\n"
     ]
    },
    {
     "data": {
      "text/html": [
       "\n",
       "            <div>\n",
       "                <p><b>SparkSession - in-memory</b></p>\n",
       "                \n",
       "        <div>\n",
       "            <p><b>SparkContext</b></p>\n",
       "\n",
       "            <p><a href=\"http://192.168.3.180:4040\">Spark UI</a></p>\n",
       "\n",
       "            <dl>\n",
       "              <dt>Version</dt>\n",
       "                <dd><code>v3.5.4</code></dd>\n",
       "              <dt>Master</dt>\n",
       "                <dd><code>local[1]</code></dd>\n",
       "              <dt>AppName</dt>\n",
       "                <dd><code>VideoGame</code></dd>\n",
       "            </dl>\n",
       "        </div>\n",
       "        \n",
       "            </div>\n",
       "        "
      ],
      "text/plain": [
       "<pyspark.sql.session.SparkSession at 0x107a658e0>"
      ]
     },
     "execution_count": 1,
     "metadata": {},
     "output_type": "execute_result"
    }
   ],
   "source": [
    "import pyspark \n",
    "from pyspark.sql import SparkSession\n",
    "import pyspark.sql.functions as F\n",
    "from pyspark.sql.types import *\n",
    "\n",
    "\n",
    "spark=SparkSession.builder.master(\"local[1]\")\\\n",
    "        .appName(\"VideoGame\")\\\n",
    "        .config(\"spark.driver.extraClassPath\",\"/Users/eduardoalberto/opt/spark-3.5.3/jars/mysql-connector-j-9.1.0.jar\" ) \\\n",
    "        .getOrCreate()\n",
    "sc = spark.sparkContext\n",
    "spark.sparkContext.setLogLevel(\"OFF\") \n",
    "print('PySpark Version :'+spark.version)\n",
    "print('PySpark Version :'+spark.sparkContext.version)\n",
    "\n",
    "spark"
   ]
  },
  {
   "cell_type": "code",
   "execution_count": 8,
   "metadata": {},
   "outputs": [
    {
     "name": "stdout",
     "output_type": "stream",
     "text": [
      "+--------------------+--------+----------+-------------+------+--------------------+--------+----------+------+-----------+-----+---------+-----------+------+---------+----+-----------------+-----------------+----------------+----------------+----------------+---------------------+---------------------+--------------------+--------------------+--------------------+-------------+-------------+------------+------------+------------+------------+------------+-----------+-----------+-----------+\n",
      "|               title|handheld|maxplayers|multiplatform|online|              genres|licensed|publishers|sequel|reviewscore|sales|usedprice|    console|rating|rerelease|year|playstylesaverage|playstylesleisure|playstylesmedian|playstylespolled|playstylesrushed|completionistsaverage|completionistsleisure|completionistsmedian|completionistspolled|completionistsrushed|extrasaverage|extrasleisure|extrasmedian|extraspolled|extrasrushed|storyaverage|storyleisure|storymedian|storypolled|storyrushed|\n",
      "+--------------------+--------+----------+-------------+------+--------------------+--------+----------+------+-----------+-----+---------+-----------+------+---------+----+-----------------+-----------------+----------------+----------------+----------------+---------------------+---------------------+--------------------+--------------------+--------------------+-------------+-------------+------------+------------+------------+------------+------------+-----------+-----------+-----------+\n",
      "|New Super Mario B...|    True|         1|         True|  True|              Action|    True|  Nintendo|  True|         89|10.03|    27.95|Nintendo DS|     T|     True|2006|            10.23|            21.65|            9.00|          156.00|            6.05|                17.07|                24.98|               15.50|               33.00|               10.68|        10.93|        16.23|       10.00|       40.00|        7.65|        7.20|       14.15|       7.00|      83.00|       4.80|\n",
      "|      Pokmon Diamond|    True|         1|         True|  True|  Role-Playing (RPG)|    True|  Nintendo|  True|         85| 6.77|    27.95|Nintendo DS|     E|     True|2006|           101.07|           386.78|           58.00|          253.00|           44.15|               265.20|               468.32|              220.00|               39.00|              163.53|       107.57|       352.32|       80.00|       94.00|       58.53|       42.63|       77.13|      41.92|     120.00|      25.52|\n",
      "|        Pokmon Pearl|    True|         1|         True|  True|  Role-Playing (RPG)|    True|  Nintendo|  True|         85| 6.77|    26.95|Nintendo DS|     E|     True|2006|           101.07|           386.78|           58.00|          253.00|           44.15|               265.20|               468.32|              220.00|               39.00|              163.53|       107.57|       352.32|       80.00|       94.00|       58.53|       42.63|       77.13|      41.92|     120.00|      25.52|\n",
      "|        Cooking Mama|    True|         1|         True|  True|          Simulation|    True|      NULL|  True|         67|  2.9|    17.95|Nintendo DS|     M|     True|2006|             8.63|            10.90|            7.00|            5.00|            6.78|                 0.00|                 0.00|                0.00|                0.00|                0.00|         0.00|         0.00|        0.00|        0.00|        0.00|        8.63|       10.90|       7.00|       5.00|       6.78|\n",
      "|   Yoshi's Island DS|    True|         1|         True|  True|              Action|    True|  Nintendo|  True|         81| 1.49|    27.95|Nintendo DS|     E|     True|2006|             9.63|            18.10|            9.58|           23.00|            7.07|                 0.00|                 0.00|                0.00|                0.00|                0.00|        13.63|        19.70|       12.00|        5.00|        9.90|        8.52|       10.48|       9.17|      18.00|       6.68|\n",
      "|       Pokmon Ranger|    True|         1|         True|  True|  Role-Playing (RPG)|    True|  Nintendo|  True|         69| 1.36|    19.95|Nintendo DS|     E|     True|2006|            16.55|            37.77|           13.42|           36.00|           11.13|                36.88|                48.17|               34.67|                5.00|               25.38|        14.60|        17.35|       14.83|       11.00|       12.25|       12.55|       16.77|      12.57|      20.00|       9.92|\n",
      "|  Mario Hoops 3 on 3|    True|         1|         True|  True|              Sports|    True|  Nintendo|  True|         69| 1.03|    22.95|Nintendo DS|     M|     True|2006|             4.25|             4.62|            4.25|            2.00|            3.87|                 0.00|                 0.00|                0.00|                0.00|                0.00|         5.00|         5.00|        5.00|        1.00|        5.00|        3.50|        3.50|       3.50|       1.00|       3.50|\n",
      "|LEGO Star Wars II...|    True|         1|         True|  True|              Action|    True|        EA|  True|         47| 1.02|    17.95|Nintendo DS|     E|     True|2006|            17.55|            32.13|           15.00|           51.00|           10.63|                27.85|                37.62|               26.62|               14.00|               23.62|        16.82|        28.45|       15.00|       16.00|       13.95|       11.25|       16.00|      12.00|      21.00|       8.30|\n",
      "|    The Sims 2: Pets|    True|         1|         True|  True|          Simulation|    True|        EA|  True|         49| 0.97|    14.95|Nintendo DS|     T|     True|2006|            27.70|            31.55|           27.70|            2.00|           23.85|                 0.00|                 0.00|                0.00|                0.00|                0.00|        27.70|        31.55|       27.70|        2.00|       23.85|        0.00|        0.00|       0.00|       0.00|       0.00|\n",
      "|   Final Fantasy III|    True|         1|         True|  True|  Role-Playing (RPG)|    True|SquareEnix|  True|         77| 0.86|    17.95|Nintendo DS|     E|     True|2006|            51.07|            98.15|           44.00|          849.00|           30.97|                89.70|               118.62|               87.27|              130.00|               69.73|        52.95|        87.43|       48.80|      466.00|       36.43|       27.72|       44.05|      25.90|     253.00|      20.60|\n",
      "| Kirby: Squeak Squad|    True|         1|         True|  True|              Action|    True|  Nintendo|  True|         71| 0.82|    27.95|Nintendo DS|     T|     True|2006|             5.63|             8.75|            5.00|           42.00|            3.28|                 6.60|                 9.28|                6.20|               22.00|                3.82|         5.23|         6.50|        4.82|        7.00|        4.23|        4.22|        5.88|       4.00|      13.00|       3.03|\n",
      "|Mario vs. Donkey ...|    True|         1|         True|  True|              Action|    True|  Nintendo|  True|         76| 0.77|    27.95|Nintendo DS|     T|     True|2006|             5.02|             6.68|            4.75|            5.00|            3.73|                 0.00|                 0.00|                0.00|                0.00|                0.00|         6.75|         7.62|        6.75|        2.00|        5.87|        3.88|        4.42|       4.32|       3.00|       3.33|\n",
      "|           Tetris DS|    True|         1|         True|  True|            Strategy|    True|  Nintendo|  True|         84| 0.66|    17.95|Nintendo DS|     M|     True|2006|            27.40|            33.72|           27.50|            8.00|           21.85|                33.50|                35.25|               33.50|                2.00|               31.75|        34.00|        37.75|       37.00|        3.00|       30.25|       16.75|       16.93|      17.00|       3.00|      16.55|\n",
      "|Metroid Prime: Hu...|    True|         1|         True|  True|              Action|    True|  Nintendo|  True|         85| 0.58|    27.95|Nintendo DS|     E|     True|2006|             9.30|            13.77|            8.73|           32.00|            6.85|                15.25|                16.88|               15.25|                2.00|               13.62|         9.05|        10.95|        8.78|       12.00|        7.77|        8.80|       11.85|       8.63|      18.00|       6.70|\n",
      "|     Harvest Moon DS|    True|         1|         True|  True|Role-Playing (RPG...|    True|      NULL|  True|         67|  0.4|    17.95|Nintendo DS|     T|     True|2006|            53.38|            64.63|           55.13|            6.00|           37.63|                75.00|                75.00|               75.00|                1.00|               75.00|        69.08|        69.08|       69.08|        1.00|       69.08|       44.07|       54.80|      45.13|       4.00|      32.80|\n",
      "|    Star Fox Command|    True|         1|         True|  True|              Action|    True|  Nintendo|  True|         76| 0.39|    14.95|Nintendo DS|     T|     True|2006|             3.70|             5.67|            3.00|           17.00|            2.17|                 0.00|                 0.00|                0.00|                0.00|                0.00|         6.60|         7.30|        6.60|        2.00|        5.90|        3.32|        5.07|       3.00|      15.00|       2.07|\n",
      "|Rune Factory: A F...|    True|         1|         True|  True|Role-Playing (RPG...|    True|      NULL|  True|         78| 0.34|    24.95|Nintendo DS|     T|     True|2006|            66.13|            79.48|           67.08|            4.00|           52.30|                38.00|                38.00|               38.00|                1.00|               38.00|        75.52|        87.23|       88.67|        3.00|       63.78|        0.00|        0.00|       0.00|       0.00|       0.00|\n",
      "|Avatar: The Last ...|    True|         1|         True|  True|              Action|    True|       THQ|  True|         64|  0.3|    17.95|Nintendo DS|     E|     True|2006|             4.75|             6.43|            5.00|           11.00|            2.60|                 4.07|                 6.02|                4.00|                5.00|                2.18|         0.00|         0.00|        0.00|        0.00|        0.00|        5.33|        6.58|       6.00|       6.00|       3.50|\n",
      "|Castlevania: Port...|    True|         1|         True|  True|              Action|    True|    Konami|  True|         85|  0.3|    17.95|Nintendo DS|     M|     True|2006|            13.13|            26.02|           12.00|           80.00|            8.38|                23.13|                31.50|               23.90|                9.00|               19.25|        12.58|        18.63|       12.00|       37.00|        9.25|       11.10|       15.75|      10.53|      34.00|       7.50|\n",
      "|   Elite Beat Agents|    True|         1|         True|  True|              Action|    True|  Nintendo|  True|         87| 0.27|     9.95|Nintendo DS|     M|     True|2006|            10.27|            26.18|            4.50|           51.00|            4.18|                30.45|                38.85|               35.00|               11.00|               20.35|         6.40|        10.30|        4.50|       10.00|        3.55|        4.15|        6.03|       4.00|      30.00|       2.53|\n",
      "+--------------------+--------+----------+-------------+------+--------------------+--------+----------+------+-----------+-----+---------+-----------+------+---------+----+-----------------+-----------------+----------------+----------------+----------------+---------------------+---------------------+--------------------+--------------------+--------------------+-------------+-------------+------------+------------+------------+------------+------------+-----------+-----------+-----------+\n",
      "only showing top 20 rows\n",
      "\n"
     ]
    }
   ],
   "source": [
    "import pyspark.sql.functions as F\n",
    "from pyspark.sql.types import *\n",
    "from os import path\n",
    "\n",
    "\n",
    "def validaArquivo(self,spark):\n",
    "        \n",
    "        schema = (StructType()\n",
    "                 .add(\"title\",StringType(),True)\n",
    "                 .add(\"handheld\",StringType(),True)\n",
    "                 .add(\"maxplayers\",StringType(),True)\n",
    "                 .add(\"multiplatform\",StringType(),True)\n",
    "                 .add(\"online\",StringType(),True)\n",
    "                 .add(\"genres\",StringType(),True)\n",
    "                 .add(\"licensed\",StringType(),True)\n",
    "                 .add(\"publishers\",StringType(),True)\n",
    "                 .add(\"sequel\",StringType(),True)\n",
    "                 .add(\"reviewscore\",StringType(),True)\n",
    "                 .add(\"sales\",DoubleType(),True)\n",
    "                 .add(\"usedprice\",StringType(),True)\n",
    "                 .add(\"console\",StringType(),True)\n",
    "                 .add(\"rating\",StringType(),True)\n",
    "                 .add(\"rerelease\",StringType(),True)\n",
    "                 .add(\"year\",StringType(),True)\n",
    "                 .add(\"playstylesaverage\",DecimalType(8,2),True)\n",
    "                 .add(\"playstylesleisure\",DecimalType(8,2),True)\n",
    "                 .add(\"playstylesmedian\",DecimalType(8,2),True)\n",
    "                 .add(\"playstylespolled\",DecimalType(8,2),True)\n",
    "                 .add(\"playstylesrushed\",DecimalType(8,2),True)\n",
    "                 .add(\"completionistsaverage\",DecimalType(8,2),True)\n",
    "                 .add(\"completionistsleisure\",DecimalType(8,2),True)\n",
    "                 .add(\"completionistsmedian\",DecimalType(8,2),True)\n",
    "                 .add(\"completionistspolled\",DecimalType(8,2),True)\n",
    "                 .add(\"completionistsrushed\",DecimalType(8,2),True)\n",
    "                 .add(\"extrasaverage\",DecimalType(8,2),True)\n",
    "                 .add(\"extrasleisure\",DecimalType(8,2),True)\n",
    "                 .add(\"extrasmedian\",DecimalType(8,2),True)\n",
    "                 .add(\"extraspolled\",DecimalType(8,2),True)\n",
    "                 .add(\"extrasrushed\",DecimalType(8,2),True)\n",
    "                 .add(\"storyaverage\",DecimalType(8,2),True)\n",
    "                 .add(\"storyleisure\",DecimalType(8,2),True)\n",
    "                 .add(\"storymedian\",DecimalType(8,2),True)\n",
    "                 .add(\"storypolled\",DecimalType(8,2),True)\n",
    "                 .add(\"storyrushed\",DecimalType(8,2),True))\n",
    "        arq = spark.read.csv(self,schema=schema, header=False)\\\n",
    "                   .filter(\"console = 'Nintendo DS' and year > 2005 \")\n",
    "\n",
    "\n",
    "        return arq\n",
    "\n",
    "# def carregaArquivo(self,spark):\n",
    "#     file = validaArquivo(self,spark)\n",
    "\n",
    "#     file = file.withColumn(\"dat_ref_carga\",F.lit(F.current_date()))\n",
    "\n",
    "#     file.write.mode(\"overwrite\").jdbc(\"jdbc:mysql://localhost:3306/myDbUser\", \"myDbUser.videogame\",properties={\"user\": \"root\", \"password\": \"mysql\"})\n",
    "\n",
    "#     return None\n",
    "\n",
    "\n",
    "#######################################################\n",
    "file = '/Users/eduardoalberto/LoadFile/input/video_games.csv'\n",
    "df = validaArquivo(file,spark)\n",
    "df.show()\n",
    "#carregaArquivo(file,spark)\n",
    "\n"
   ]
  }
 ],
 "metadata": {
  "kernelspec": {
   "display_name": "Python 3",
   "language": "python",
   "name": "python3"
  },
  "language_info": {
   "codemirror_mode": {
    "name": "ipython",
    "version": 3
   },
   "file_extension": ".py",
   "mimetype": "text/x-python",
   "name": "python",
   "nbconvert_exporter": "python",
   "pygments_lexer": "ipython3",
   "version": "3.9.6"
  }
 },
 "nbformat": 4,
 "nbformat_minor": 2
}
