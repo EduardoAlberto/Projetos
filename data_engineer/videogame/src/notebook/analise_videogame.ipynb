{
 "cells": [
  {
   "cell_type": "code",
   "execution_count": 1,
   "metadata": {},
   "outputs": [
    {
     "name": "stderr",
     "output_type": "stream",
     "text": [
      "24/11/14 01:08:27 WARN Utils: Your hostname, MacBook-Pro-de-Eduardo.local resolves to a loopback address: 127.0.0.1; using 192.168.3.167 instead (on interface en0)\n",
      "24/11/14 01:08:27 WARN Utils: Set SPARK_LOCAL_IP if you need to bind to another address\n",
      "Setting default log level to \"WARN\".\n",
      "To adjust logging level use sc.setLogLevel(newLevel). For SparkR, use setLogLevel(newLevel).\n",
      "24/11/14 01:08:28 WARN NativeCodeLoader: Unable to load native-hadoop library for your platform... using builtin-java classes where applicable\n"
     ]
    },
    {
     "name": "stdout",
     "output_type": "stream",
     "text": [
      "PySpark Version :3.5.3\n",
      "PySpark Version :3.5.3\n"
     ]
    },
    {
     "data": {
      "text/html": [
       "\n",
       "            <div>\n",
       "                <p><b>SparkSession - in-memory</b></p>\n",
       "                \n",
       "        <div>\n",
       "            <p><b>SparkContext</b></p>\n",
       "\n",
       "            <p><a href=\"http://192.168.3.167:4040\">Spark UI</a></p>\n",
       "\n",
       "            <dl>\n",
       "              <dt>Version</dt>\n",
       "                <dd><code>v3.5.3</code></dd>\n",
       "              <dt>Master</dt>\n",
       "                <dd><code>local[1]</code></dd>\n",
       "              <dt>AppName</dt>\n",
       "                <dd><code>VideoGame</code></dd>\n",
       "            </dl>\n",
       "        </div>\n",
       "        \n",
       "            </div>\n",
       "        "
      ],
      "text/plain": [
       "<pyspark.sql.session.SparkSession at 0x10e9c3500>"
      ]
     },
     "execution_count": 1,
     "metadata": {},
     "output_type": "execute_result"
    }
   ],
   "source": [
    "import pyspark \n",
    "from pyspark.sql import SparkSession\n",
    "import pyspark.sql.functions as F\n",
    "from pyspark.sql.types import *\n",
    "\n",
    "\n",
    "spark=SparkSession.builder.master(\"local[1]\")\\\n",
    "        .appName(\"VideoGame\")\\\n",
    "        .config(\"spark.driver.extraClassPath\",\"/Users/eduardoalberto/opt/spark-3.5.3-bin-hadoop3/jars/mysql-connector-j-8.2.0.jar\" ) \\\n",
    "        .getOrCreate()\n",
    "sc = spark.sparkContext\n",
    "spark.sparkContext.setLogLevel(\"OFF\") \n",
    "print('PySpark Version :'+spark.version)\n",
    "print('PySpark Version :'+spark.sparkContext.version)\n",
    "\n",
    "spark"
   ]
  },
  {
   "cell_type": "code",
   "execution_count": null,
   "metadata": {},
   "outputs": [
    {
     "name": "stderr",
     "output_type": "stream",
     "text": [
      "                                                                                \r"
     ]
    },
    {
     "name": "stdout",
     "output_type": "stream",
     "text": [
      "+--------------------+--------+-----------+-------------+------+--------------------+--------+----------+------+-----------+-----+---------+-----------+------+---------+----+-----------------+-----------------+----------------+----------------+----------------+---------------------+---------------------+--------------------+--------------------+--------------------+-------------+-------------+------------+------------+------------+------------+------------+-----------+-----------+-----------+\n",
      "|               Title|Handheld|Max Players|Multiplatform|Online|              Genres|Licensed|Publishers|Sequel|ReviewScore|Sales|UsedPrice|    Console|Rating|Rerelease|Year|PlayStylesAverage|PlayStylesLeisure|PlayStylesMedian|PlayStylesPolled|PlayStylesRushed|CompletionistsAverage|CompletionistsLeisure|CompletionistsMedian|CompletionistsPolled|CompletionistsRushed|ExtrasAverage|ExtrasLeisure|ExtrasMedian|ExtrasPolled|ExtrasRushed|StoryAverage|StoryLeisure|StoryMedian|StoryPolled|StoryRushed|\n",
      "+--------------------+--------+-----------+-------------+------+--------------------+--------+----------+------+-----------+-----+---------+-----------+------+---------+----+-----------------+-----------------+----------------+----------------+----------------+---------------------+---------------------+--------------------+--------------------+--------------------+-------------+-------------+------------+------------+------------+------------+------------+-----------+-----------+-----------+\n",
      "|   Super Mario 64 DS|    True|          1|         True|  True|              Action|    True|  Nintendo|  True|         85| 4.69|    24.95|Nintendo DS|     E|     True|2004|            22.72|            31.90|           24.48|           57.00|           14.30|                29.77|                35.03|               30.00|               20.00|               22.02|        24.92|        29.97|       25.00|       16.00|       18.33|       14.33|       18.32|      14.50|      21.00|       9.70|\n",
      "|Lumines: Puzzle F...|    True|          1|         True|  True|            Strategy|    True|   Ubisoft|  True|         89| 0.56|    14.95|   Sony PSP|     E|     True|2004|            10.10|            11.02|           10.00|            5.00|            9.52|                 0.00|                 0.00|                0.00|                0.00|                0.00|         9.75|         9.87|        9.75|        2.00|        9.62|       10.33|       11.08|      10.00|       3.00|       9.58|\n",
      "|  WarioWare Touched!|    True|          2|         True|  True|Action,Racing / D...|    True|  Nintendo|  True|         81| 0.54|    22.95|Nintendo DS|     E|     True|2004|             4.57|            11.57|            2.50|           57.00|            2.27|                10.00|                14.10|                7.25|               16.00|                6.80|         3.85|         5.67|        3.33|       11.00|        2.78|        1.92|        2.93|       1.83|      30.00|       1.43|\n",
      "|Hot Shots Golf: O...|    True|          1|         True|  True|              Sports|    True|      Sony|  True|         81| 0.49|    12.95|   Sony PSP|     E|     True|2004|             0.00|             0.00|            0.00|            0.00|            0.00|                 0.00|                 0.00|                0.00|                0.00|                0.00|         0.00|         0.00|        0.00|        0.00|        0.00|        0.00|        0.00|       0.00|       0.00|       0.00|\n",
      "|        Spider-Man 2|    True|          1|         True|  True|              Action|    True|Activision|  True|         61| 0.45|    14.95|Nintendo DS|     E|     True|2004|            13.25|            48.38|           10.00|           37.00|            7.07|                72.57|                78.87|               72.57|                2.00|               66.28|        12.77|        17.32|       12.50|       12.00|       10.48|        8.35|       11.08|       8.00|      23.00|       5.33|\n",
      "|The Urbz: Sims in...|    True|          1|         True|  True|          Simulation|    True|        EA|  True|         67| 0.41|    12.95|Nintendo DS|     M|     True|2004|            21.93|            25.50|           20.00|            7.00|           16.73|                30.03|                30.03|               30.03|                2.00|               30.03|        20.83|        25.20|       20.00|        3.00|       16.45|       15.50|       15.75|      15.50|       2.00|      15.25|\n",
      "|         Ridge Racer|    True|          1|         True|  True|    Racing / Driving|    True|     Namco|  True|         88| 0.36|    19.95|   Sony PSP|     E|     True|2004|             0.82|             1.05|            0.88|            6.00|            0.58|                 1.25|                 1.25|                1.25|                1.00|                1.25|         0.88|         0.93|        0.88|        2.00|        0.83|        0.62|        0.78|       0.53|       3.00|       0.45|\n",
      "|     Metal Gear Ac!d|    True|          1|         True|  True|            Strategy|    True|    Konami|  True|         75| 0.34|    17.95|   Sony PSP|     E|     True|2004|            25.38|            51.65|           21.27|           18.00|           19.17|                80.00|                80.00|               80.00|                1.00|               80.00|        24.83|        27.48|       25.10|        6.00|       21.92|       20.70|       23.60|      20.78|      11.00|      17.88|\n",
      "|     Madden NFL 2005|    True|          1|         True|  True|              Sports|    True|        EA|  True|         68| 0.25|     8.95|Nintendo DS|     T|     True|2004|             0.00|             0.00|            0.00|            0.00|            0.00|                 0.00|                 0.00|                0.00|                0.00|                0.00|         0.00|         0.00|        0.00|        0.00|        0.00|        0.00|        0.00|       0.00|       0.00|       0.00|\n",
      "|         Pokmon Dash|    True|          1|         True|  True|    Racing / Driving|    True|  Nintendo|  True|         46| 0.22|    24.95|Nintendo DS|     T|     True|2004|             3.83|             7.25|            1.18|            4.00|            1.75|                12.00|                12.00|               12.00|                1.00|               12.00|         0.00|         0.00|        0.00|        0.00|        0.00|        1.12|        1.20|       1.08|       3.00|       1.05|\n",
      "|    Dynasty Warriors|    True|          1|         True|  True|Action,Adventure,...|    True|      NULL|  True|         62|  0.2|    14.95|   Sony PSP|     E|     True|2004|             8.88|            18.05|            2.08|            4.00|            3.12|                 0.00|                 0.00|                0.00|                0.00|                0.00|         0.00|         0.00|        0.00|        0.00|        0.00|        8.88|       18.05|       2.08|       4.00|       3.12|\n",
      "|Feel the Magic XY/XX|    True|          1|         True|  True|Action,Adventure,...|    True|      Sega|  True|         75| 0.16|     8.95|Nintendo DS|     T|     True|2004|             2.90|             3.80|            3.00|            9.00|            2.32|                 0.00|                 0.00|                0.00|                0.00|                0.00|         3.10|         3.15|        3.10|        2.00|        3.05|        2.85|        3.78|       2.98|       7.00|       2.30|\n",
      "|      Ridge Racer DS|    True|          1|         True|  True|    Racing / Driving|    True|     Namco|  True|         63| 0.15|     9.95|Nintendo DS|     E|     True|2004|             2.23|             2.23|            2.23|            1.00|            2.23|                 0.00|                 0.00|                0.00|                0.00|                0.00|         0.00|         0.00|        0.00|        0.00|        0.00|        2.23|        2.23|       2.23|       1.00|       2.23|\n",
      "|Darkstalkers Chro...|    True|          1|         True|  True|              Action|    True|    Capcom|  True|         74| 0.14|    14.95|   Sony PSP|     E|     True|2004|             1.63|             2.40|            2.00|            7.00|            1.07|                 0.00|                 0.00|                0.00|                0.00|                0.00|         0.00|         0.00|        0.00|        0.00|        0.00|        1.63|        2.40|       2.00|       7.00|       1.07|\n",
      "|  Ape Escape Academy|    True|          4|         True|  True|       Action,Sports|    True|      Sony|  True|         51| 0.13|    14.95|   Sony PSP|     E|     True|2004|             1.88|             1.88|            1.88|            1.00|            1.88|                 0.00|                 0.00|                0.00|                0.00|                0.00|         0.00|         0.00|        0.00|        0.00|        0.00|        1.88|        1.88|       1.88|       1.00|       1.88|\n",
      "|            Polarium|    True|          1|         True|  True|            Strategy|    True|  Nintendo|  True|         73| 0.12|     8.95|Nintendo DS|     E|     True|2004|             6.73|             9.18|            6.00|            5.00|            5.27|                12.00|                12.00|               12.00|                1.00|               12.00|         0.00|         0.00|        0.00|        0.00|        0.00|        5.42|        5.78|       5.75|       4.00|       4.87|\n",
      "|   Asphalt: Urban GT|    True|          1|         True|  True|Racing / Driving,...|    True|   Ubisoft|  True|         60| 0.11|    14.95|Nintendo DS|     E|     True|2004|            12.40|            13.70|           12.40|            2.00|           11.10|                 9.82|                 9.82|                9.82|                1.00|                9.82|         0.00|         0.00|        0.00|        0.00|        0.00|       15.00|       15.00|      15.00|       1.00|      15.00|\n",
      "|          Zoo Keeper|    True|          1|         True|  True|              Action|    True|      NULL|  True|         74|  0.1|    14.95|Nintendo DS|     T|     True|2004|             7.15|             8.90|            5.00|            5.00|            5.03|                11.75|                11.75|               11.75|                1.00|               11.75|         0.00|         0.00|        0.00|        0.00|        0.00|        6.00|        7.75|       5.00|       4.00|       4.75|\n",
      "|Mr. DRILLER: Dril...|    True|          1|         True|  True|              Action|    True|     Namco|  True|         72| 0.09|    14.95|Nintendo DS|     T|     True|2004|             9.88|            10.98|            9.88|            2.00|            8.77|                 0.00|                 0.00|                0.00|                0.00|                0.00|         0.00|         0.00|        0.00|        0.00|        0.00|        9.88|       10.98|       9.88|       2.00|       8.77|\n",
      "|              Sprung|    True|          1|         True|  True|           Adventure|    True|   Ubisoft|  True|         48| 0.06|     8.95|Nintendo DS|     E|     True|2004|            17.75|            17.75|           17.75|            1.00|           17.75|                17.75|                17.75|               17.75|                1.00|               17.75|         0.00|         0.00|        0.00|        0.00|        0.00|        0.00|        0.00|       0.00|       0.00|       0.00|\n",
      "+--------------------+--------+-----------+-------------+------+--------------------+--------+----------+------+-----------+-----+---------+-----------+------+---------+----+-----------------+-----------------+----------------+----------------+----------------+---------------------+---------------------+--------------------+--------------------+--------------------+-------------+-------------+------------+------------+------------+------------+------------+-----------+-----------+-----------+\n",
      "only showing top 20 rows\n",
      "\n"
     ]
    },
    {
     "ename": "NameError",
     "evalue": "name 'carregaArquivo' is not defined",
     "output_type": "error",
     "traceback": [
      "\u001b[0;31m---------------------------------------------------------------------------\u001b[0m",
      "\u001b[0;31mNameError\u001b[0m                                 Traceback (most recent call last)",
      "Cell \u001b[0;32mIn[2], line 64\u001b[0m\n\u001b[1;32m     62\u001b[0m df \u001b[38;5;241m=\u001b[39m validaArquivo(file)\n\u001b[1;32m     63\u001b[0m df\u001b[38;5;241m.\u001b[39mshow()\n\u001b[0;32m---> 64\u001b[0m \u001b[43mcarregaArquivo\u001b[49m(file)\n",
      "\u001b[0;31mNameError\u001b[0m: name 'carregaArquivo' is not defined"
     ]
    }
   ],
   "source": [
    "import pyspark \n",
    "from pyspark.sql import SparkSession\n",
    "import pyspark.sql.functions as F\n",
    "from os import path\n",
    "\n",
    "\n",
    "def validaArquivo(self):\n",
    "    if path.exists(self):\n",
    "        schema = (StructType()\n",
    "                 .add(\"Title\",StringType(),True)\n",
    "                 .add(\"Handheld\",StringType(),True)\n",
    "                 .add(\"MaxPlayers\",StringType(),True)\n",
    "                 .add(\"Multiplatform\",StringType(),True)\n",
    "                 .add(\"Online\",StringType(),True)\n",
    "                 .add(\"Genres\",StringType(),True)\n",
    "                 .add(\"Licensed\",StringType(),True)\n",
    "                 .add(\"Publishers\",StringType(),True)\n",
    "                 .add(\"Sequel\",StringType(),True)\n",
    "                 .add(\"ReviewScore\",StringType(),True)\n",
    "                 .add(\"Sales\",DoubleType(),True)\n",
    "                 .add(\"UsedPrice\",StringType(),True)\n",
    "                 .add(\"Console\",StringType(),True)\n",
    "                 .add(\"Rating\",StringType(),True)\n",
    "                 .add(\"Rerelease\",StringType(),True)\n",
    "                 .add(\"Year\",StringType(),True)\n",
    "                 .add(\"PlayStylesAverage\",DecimalType(8,2),True)\n",
    "                 .add(\"PlayStylesLeisure\",DecimalType(8,2),True)\n",
    "                 .add(\"PlayStylesMedian\",DecimalType(8,2),True)\n",
    "                 .add(\"PlayStylesPolled\",DecimalType(8,2),True)\n",
    "                 .add(\"PlayStylesRushed\",DecimalType(8,2),True)\n",
    "                 .add(\"CompletionistsAverage\",DecimalType(8,2),True)\n",
    "                 .add(\"CompletionistsLeisure\",DecimalType(8,2),True)\n",
    "                 .add(\"CompletionistsMedian\",DecimalType(8,2),True)\n",
    "                 .add(\"CompletionistsPolled\",DecimalType(8,2),True)\n",
    "                 .add(\"CompletionistsRushed\",DecimalType(8,2),True)\n",
    "                 .add(\"ExtrasAverage\",DecimalType(8,2),True)\n",
    "                 .add(\"ExtrasLeisure\",DecimalType(8,2),True)\n",
    "                 .add(\"ExtrasMedian\",DecimalType(8,2),True)\n",
    "                 .add(\"ExtrasPolled\",DecimalType(8,2),True)\n",
    "                 .add(\"ExtrasRushed\",DecimalType(8,2),True)\n",
    "                 .add(\"StoryAverage\",DecimalType(8,2),True)\n",
    "                 .add(\"StoryLeisure\",DecimalType(8,2),True)\n",
    "                 .add(\"StoryMedian\",DecimalType(8,2),True)\n",
    "                 .add(\"StoryPolled\",DecimalType(8,2),True)\n",
    "                 .add(\"StoryRushed\",DecimalType(8,2),True))\n",
    "        arq = spark.read.csv(self,schema=schema, header=False)\n",
    "\n",
    "    return arq\n",
    "\n",
    "def carregaArquivo(self):\n",
    "    file = validaArquivo(self)\n",
    "\n",
    "    file = file.withColumn(\"dat_ref_carga\",F.lit(F.current_date()))\n",
    "\n",
    "    file.write.mode(\"overwrite\").jdbc(\"jdbc:mysql://localhost:3306/myDbUser\", \"myDbUser.videogame\",properties={\"user\": \"root\", \"password\": \"mysql\"})\n",
    "\n",
    "    return None\n",
    "\n",
    "\n",
    "#######################################################\n",
    "file = \"/Users/eduardoalberto/LoadFile/video_games.csv\"\n",
    "df = validaArquivo(file)\n",
    "df.show()\n",
    "carregaArquivo(file)\n"
   ]
  }
 ],
 "metadata": {
  "kernelspec": {
   "display_name": "Python 3",
   "language": "python",
   "name": "python3"
  },
  "language_info": {
   "codemirror_mode": {
    "name": "ipython",
    "version": 3
   },
   "file_extension": ".py",
   "mimetype": "text/x-python",
   "name": "python",
   "nbconvert_exporter": "python",
   "pygments_lexer": "ipython3",
   "version": "3.12.7"
  }
 },
 "nbformat": 4,
 "nbformat_minor": 2
}
